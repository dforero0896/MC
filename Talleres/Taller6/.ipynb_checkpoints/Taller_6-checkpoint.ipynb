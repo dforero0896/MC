{
 "metadata": {
  "name": "",
  "signature": "sha256:a4e51ca452bbfd508db7cfa3c3b30402de701a229143000b4eb636f84b7745bc"
 },
 "nbformat": 3,
 "nbformat_minor": 0,
 "worksheets": [
  {
   "cells": [
    {
     "cell_type": "code",
     "collapsed": false,
     "input": [
      "#%pylab inline\n",
      "import numpy as np\n",
      "import matplotlib.pyplot as plt\n",
      "%matplotlib inline\n",
      "from scipy import stats\n",
      "import csv\n",
      "from scipy.optimize import curve_fit\n",
      "import math\n",
      "import scipy.misc\n",
      "from scipy.stats import linregress\n",
      "from scipy import interpolate\n",
      "from scipy.fftpack import *\n",
      "import scipy.signal\n",
      "import datetime\n",
      "import sompy as sm"
     ],
     "language": "python",
     "metadata": {},
     "outputs": [
      {
       "ename": "ImportError",
       "evalue": "No module named sompy",
       "output_type": "pyerr",
       "traceback": [
        "\u001b[1;31m---------------------------------------------------------------------------\u001b[0m\n\u001b[1;31mImportError\u001b[0m                               Traceback (most recent call last)",
        "\u001b[1;32m<ipython-input-28-bacf4c8cdfad>\u001b[0m in \u001b[0;36m<module>\u001b[1;34m()\u001b[0m\n\u001b[0;32m     13\u001b[0m \u001b[1;32mimport\u001b[0m \u001b[0mscipy\u001b[0m\u001b[1;33m.\u001b[0m\u001b[0msignal\u001b[0m\u001b[1;33m\u001b[0m\u001b[0m\n\u001b[0;32m     14\u001b[0m \u001b[1;32mimport\u001b[0m \u001b[0mdatetime\u001b[0m\u001b[1;33m\u001b[0m\u001b[0m\n\u001b[1;32m---> 15\u001b[1;33m \u001b[1;32mimport\u001b[0m \u001b[0msompy\u001b[0m \u001b[1;32mas\u001b[0m \u001b[0msm\u001b[0m\u001b[1;33m\u001b[0m\u001b[0m\n\u001b[0m",
        "\u001b[1;31mImportError\u001b[0m: No module named sompy"
       ]
      }
     ],
     "prompt_number": 28
    },
    {
     "cell_type": "code",
     "collapsed": false,
     "input": [
      "data = np.loadtxt(\"Taller6_GPSFILE.csv\", delimiter=',', dtype=None)\n",
      "lgtd=data[0:, 0]\n",
      "lttd=data[0:,1]\n",
      "attd=data[0:,2]\n",
      "year=data[0:,3]\n",
      "month=data[0:,4]\n",
      "day=data[0:,5]\n",
      "hour=data[0:,6]\n",
      "minute=data[0:,7]\n",
      "second=data[0:,8]"
     ],
     "language": "python",
     "metadata": {},
     "outputs": [],
     "prompt_number": 29
    },
    {
     "cell_type": "code",
     "collapsed": false,
     "input": [
      "lgtd[0]"
     ],
     "language": "python",
     "metadata": {},
     "outputs": [
      {
       "metadata": {},
       "output_type": "pyout",
       "prompt_number": 30,
       "text": [
        "-74.07830810546875"
       ]
      }
     ],
     "prompt_number": 30
    },
    {
     "cell_type": "code",
     "collapsed": false,
     "input": [
      "R=6371\n",
      "lttd=(90.-lttd)/180.*np.pi\n",
      "lgtd=lgtd/180.*np.pi\n",
      "xGlobal=R*np.sin(lttd)*np.cos(lgtd)\n",
      "yGlobal=R*np.sin(lttd)*np.sin(lgtd)\n",
      "zGlobal=R*np.cos(lttd)\n",
      "dttim=hour+(minute+(second/60.))/60.\n",
      "print len(lttd)"
     ],
     "language": "python",
     "metadata": {},
     "outputs": [
      {
       "output_type": "stream",
       "stream": "stdout",
       "text": [
        "1862\n"
       ]
      }
     ],
     "prompt_number": 31
    },
    {
     "cell_type": "code",
     "collapsed": false,
     "input": [
      "desplX=xGlobal-xGlobal[0]\n",
      "desplY=yGlobal-yGlobal[0]\n",
      "desplZ=zGlobal-zGlobal[0]\n",
      "desplT=dttim-dttim[0]\n"
     ],
     "language": "python",
     "metadata": {},
     "outputs": [],
     "prompt_number": 32
    },
    {
     "cell_type": "code",
     "collapsed": false,
     "input": [
      "reflat=math.radians(90.-4.5981)\n",
      "reflon=math.radians(-74.0758)\n",
      "eastUnit=[-np.sin(reflon), np.cos(reflon), 0]\n",
      "eastUnit=np.asarray(eastUnit)\n",
      "northUnit=[np.cos(reflon)*np.cos(reflat), np.sin(reflon)*np.cos(reflat), -np.sin(reflat)]\n",
      "northUnit=-1*np.asarray(northUnit)"
     ],
     "language": "python",
     "metadata": {},
     "outputs": [],
     "prompt_number": 33
    },
    {
     "cell_type": "code",
     "collapsed": false,
     "input": [
      "localX=[]\n",
      "localY=[]\n",
      "for i in range(len(desplX)):\n",
      "    r=np.asarray([desplX[i], desplY[i], desplZ[i]])\n",
      "    localX.append(sum(r*eastUnit))\n",
      "    localY.append(sum(r*northUnit))\n",
      "localX=np.asarray(localX)\n",
      "localY=np.asarray(localY)"
     ],
     "language": "python",
     "metadata": {},
     "outputs": [],
     "prompt_number": 34
    },
    {
     "cell_type": "code",
     "collapsed": false,
     "input": [
      "plt.scatter(localX, localY)\n",
      "plt.axis('equal')"
     ],
     "language": "python",
     "metadata": {},
     "outputs": [
      {
       "metadata": {},
       "output_type": "pyout",
       "prompt_number": 36,
       "text": [
        "(-0.80000000000000004, 0.099999999999999978, -2.5, 1.0)"
       ]
      },
      {
       "metadata": {},
       "output_type": "display_data",
       "png": "[encoded data removed]",
       "text": [
        "<matplotlib.figure.Figure at 0x1575d7f0>"
       ]
      }
     ],
     "prompt_number": 36
    },
    {
     "cell_type": "code",
     "collapsed": false,
     "input": [
      "deltaX=localX-np.roll(localX, 1)\n",
      "deltaX[0]=0.\n",
      "print deltaX\n",
      "deltaY=localY-np.roll(localY, 1)\n",
      "deltaY[0]=0.\n",
      "print deltaY\n",
      "diffXY=np.sqrt(deltaX**2+deltaY**2)\n",
      "cummdiffXY=np.cumsum(diffXY)"
     ],
     "language": "python",
     "metadata": {},
     "outputs": [
      {
       "output_type": "stream",
       "stream": "stdout",
       "text": [
        "[ 0.          0.00507338  0.00507339 ...,  0.00338226  0.          0.        ]\n",
        "[ 0.          0.01060435  0.0165428  ..., -0.00434783  0.          0.        ]\n"
       ]
      }
     ],
     "prompt_number": 61
    },
    {
     "cell_type": "code",
     "collapsed": false,
     "input": [
      "plt.plot(desplT, cummdiffXY)#, s=2)\n",
      "plt.xlim(0, 1.6)\n",
      "plt.ylim(0, 10)\n",
      "print \"La distancia total recorrida ser\u00e1 entonces: \", cummdiffXY[-1], \"Km\""
     ],
     "language": "python",
     "metadata": {},
     "outputs": [
      {
       "output_type": "stream",
       "stream": "stdout",
       "text": [
        "La distancia total recorrida ser\u00e1 entonces:  10.7776513037 Km\n"
       ]
      },
      {
       "metadata": {},
       "output_type": "display_data",
       "png": "[encoded data removed]",
       "text": [
        "<matplotlib.figure.Figure at 0x14db6cc0>"
       ]
      }
     ],
     "prompt_number": 64
    },
    {
     "cell_type": "code",
     "collapsed": false,
     "input": [
      "sCubico=scipy.interpolate.interp1d(desplT, cummdiffXY, kind=\"cubic\")"
     ],
     "language": "python",
     "metadata": {},
     "outputs": [],
     "prompt_number": 65
    },
    {
     "cell_type": "code",
     "collapsed": false,
     "input": [
      "t=np.linspace(0, 1.6, 100)\n",
      "laInterpolacion=sCubico(t)\n"
     ],
     "language": "python",
     "metadata": {},
     "outputs": [],
     "prompt_number": 98
    },
    {
     "cell_type": "code",
     "collapsed": false,
     "input": [
      "pos9=np.where(laInterpolacion>9)[0][0]\n",
      "print \"El tiempo para recorrer aproximadamente 9Km\", \"(\", laInterpolacion[pos9], \")Km\", \"es: \", t[pos9], \"h\"\n",
      "pos1=np.where(laInterpolacion>1)[0][0]\n",
      "print \"El tiempo para recorrer aproximadamente 1Km\", \"(\", laInterpolacion[pos1], \")Km\", \"es: \", t[pos1], \"h\"\n",
      "pos2=np.where(laInterpolacion>2)[0][0]\n",
      "print \"El tiempo para recorrer aproximadamente 2Km\", \"(\", laInterpolacion[pos2], \")Km\", \"es: \", t[pos2], \"h\"\n"
     ],
     "language": "python",
     "metadata": {},
     "outputs": [
      {
       "output_type": "stream",
       "stream": "stdout",
       "text": [
        "El tiempo para recorrer aproximadamente 9Km ( 9.04618435054 )Km es:  1.42222222222 h\n",
        "El tiempo para recorrer aproximadamente 1Km ( 1.12081871054 )Km es:  0.129292929293 h\n",
        "El tiempo para recorrer aproximadamente 2Km ( 2.09088947465 )Km es:  0.226262626263 h\n"
       ]
      }
     ],
     "prompt_number": 105
    },
    {
     "cell_type": "code",
     "collapsed": false,
     "input": [
      "numPoints=100\n",
      "b=1.6\n",
      "a=0.\n",
      "h = (b-a)/(numPoints-1)\n",
      "laInterpolacionforward = np.roll(laInterpolacion,-1)\n",
      "dy1 = (laInterpolacionforward-laInterpolacion)/h\n",
      "dy1 = dy1[:-1] # la \u00faltima no tiene significado\n",
      "plt.plot(desplT, cummdiffXY)\n",
      "plt.plot(t[:-1], dy1)#, s=2)\n",
      "#plt.xlim(0, 1.6)\n",
      "#plt.ylim(0, 10)"
     ],
     "language": "python",
     "metadata": {},
     "outputs": [
      {
       "metadata": {},
       "output_type": "pyout",
       "prompt_number": 114,
       "text": [
        "[<matplotlib.lines.Line2D at 0x16509668>]"
       ]
      },
      {
       "metadata": {},
       "output_type": "display_data",
       "png": "[encoded data removed]",
       "text": [
        "<matplotlib.figure.Figure at 0x16509f98>"
       ]
      }
     ],
     "prompt_number": 114
    },
    {
     "cell_type": "code",
     "collapsed": false,
     "input": [],
     "language": "python",
     "metadata": {},
     "outputs": []
    }
   ],
   "metadata": {}
  }
 ]
}