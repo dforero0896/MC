{
 "metadata": {
  "name": "",
  "signature": "sha256:74fcfec95e76861d415e6a37b3b29b0febc4cf4bdea63233482cbf2a89cf068b"
 },
 "nbformat": 3,
 "nbformat_minor": 0,
 "worksheets": [
  {
   "cells": [
    {
     "cell_type": "code",
     "collapsed": false,
     "input": [
      "#%pylab inline\n",
      "import numpy as np\n",
      "import matplotlib.pyplot as plt\n",
      "%matplotlib inline\n",
      "from scipy import stats\n",
      "import csv\n",
      "from scipy.optimize import curve_fit\n",
      "import math\n",
      "import scipy.misc\n",
      "from scipy.stats import linregress\n",
      "from scipy import interpolate\n",
      "from scipy.fftpack import *\n",
      "import scipy.signal\n",
      "import datetime"
     ],
     "language": "python",
     "metadata": {},
     "outputs": [],
     "prompt_number": 29
    },
    {
     "cell_type": "code",
     "collapsed": false,
     "input": [
      "data = np.loadtxt(\"Taller6_GPSFILE.csv\", delimiter=',', dtype=None, skiprows=1)\n",
      "lgtd=data[0:, 0]\n",
      "lttd=data[0:,1]\n",
      "attd=data[0:,2]\n",
      "year=data[0:,3]\n",
      "month=data[0:,4]\n",
      "day=data[0:,5]\n",
      "hour=data[0:,6]\n",
      "minute=data[0:,7]\n",
      "second=data[0:,8]"
     ],
     "language": "python",
     "metadata": {},
     "outputs": [],
     "prompt_number": 28
    },
    {
     "cell_type": "code",
     "collapsed": false,
     "input": [
      "R=6371\n",
      "lttd=(90.-lttd)/180.*np.pi\n",
      "lgtd=lgtd/180.*np.pi\n",
      "xGlobal=R*np.sin(lttd)*np.cos(lgtd)\n",
      "yGlobal=R*np.sin(lttd)*np.sin(lgtd)\n",
      "zGlobal=R*np.cos(lttd)\n",
      "dttim=hour+(minute+(second/60))/60\n",
      "print len(lttd)"
     ],
     "language": "python",
     "metadata": {},
     "outputs": [
      {
       "output_type": "stream",
       "stream": "stdout",
       "text": [
        "1861\n"
       ]
      }
     ],
     "prompt_number": 51
    },
    {
     "cell_type": "code",
     "collapsed": false,
     "input": [
      "desplX=xGlobal-xGlobal[0]\n",
      "desplY=yGlobal-yGlobal[0]\n",
      "desplZ=zGlobal-zGlobal[0]\n",
      "desplT=dttim-dttim[0]\n"
     ],
     "language": "python",
     "metadata": {},
     "outputs": [],
     "prompt_number": 60
    },
    {
     "cell_type": "code",
     "collapsed": false,
     "input": [
      "reflat=math.radians(4.5981)\n",
      "reflon=math.radians(-74.0758)\n",
      "eastUnit=[]\n",
      "eastUnit=np.asarray(eastUnit)\n",
      "northUnit=[np.cos(reflon), np.sin(reflat), 0]\n",
      "northUnit=np.asarray(northUnit)"
     ],
     "language": "python",
     "metadata": {},
     "outputs": [],
     "prompt_number": 59
    },
    {
     "cell_type": "code",
     "collapsed": false,
     "input": [],
     "language": "python",
     "metadata": {},
     "outputs": []
    }
   ],
   "metadata": {}
  }
 ]
}