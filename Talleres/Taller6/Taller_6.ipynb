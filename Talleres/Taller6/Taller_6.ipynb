{
 "metadata": {
  "name": "",
  "signature": "sha256:31c4df18ccfa2e523ea1d705e058afd016951d4137032f7ee75aa276b9b44841"
 },
 "nbformat": 3,
 "nbformat_minor": 0,
 "worksheets": [
  {
   "cells": [
    {
     "cell_type": "code",
     "collapsed": false,
     "input": [
      "#%pylab inline\n",
      "import numpy as np\n",
      "import matplotlib.pyplot as plt\n",
      "%matplotlib inline\n",
      "from scipy import stats\n",
      "import csv\n",
      "from scipy.optimize import curve_fit\n",
      "import math\n",
      "import scipy.misc\n",
      "from scipy.stats import linregress\n",
      "from scipy import interpolate\n",
      "from scipy.fftpack import *\n",
      "import scipy.signal\n",
      "import datetime\n",
      "import sompy as sm"
     ],
     "language": "python",
     "metadata": {},
     "outputs": [],
     "prompt_number": 178
    },
    {
     "cell_type": "code",
     "collapsed": false,
     "input": [
      "data = np.loadtxt(\"Taller6_GPSFILE.csv\", delimiter=',', dtype=None)\n",
      "lgtd=data[0:, 0]\n",
      "lttd=data[0:,1]\n",
      "attd=data[0:,2]\n",
      "year=data[0:,3]\n",
      "month=data[0:,4]\n",
      "day=data[0:,5]\n",
      "hour=data[0:,6]\n",
      "minute=data[0:,7]\n",
      "second=data[0:,8]"
     ],
     "language": "python",
     "metadata": {},
     "outputs": [],
     "prompt_number": 179
    },
    {
     "cell_type": "code",
     "collapsed": false,
     "input": [
      "R=6371\n",
      "lttd=(90.-lttd)/180.*np.pi\n",
      "lgtd=lgtd/180.*np.pi\n",
      "xGlobal=R*np.sin(lttd)*np.cos(lgtd)\n",
      "yGlobal=R*np.sin(lttd)*np.sin(lgtd)\n",
      "zGlobal=R*np.cos(lttd)\n",
      "dttim=hour+(minute+(second/60.))/60."
     ],
     "language": "python",
     "metadata": {},
     "outputs": [],
     "prompt_number": 180
    },
    {
     "cell_type": "code",
     "collapsed": false,
     "input": [
      "desplX=xGlobal-xGlobal[0]\n",
      "desplY=yGlobal-yGlobal[0]\n",
      "desplZ=zGlobal-zGlobal[0]\n",
      "desplT=dttim-dttim[0]"
     ],
     "language": "python",
     "metadata": {},
     "outputs": [],
     "prompt_number": 181
    },
    {
     "cell_type": "code",
     "collapsed": false,
     "input": [
      "reflat=math.radians(90.-4.5981)\n",
      "reflon=math.radians(-74.0758)\n",
      "eastUnit=[-np.sin(reflon), np.cos(reflon), 0]\n",
      "eastUnit=np.asarray(eastUnit)\n",
      "northUnit=[np.cos(reflon)*np.cos(reflat), np.sin(reflon)*np.cos(reflat), -np.sin(reflat)]\n",
      "northUnit=-1*np.asarray(northUnit)"
     ],
     "language": "python",
     "metadata": {},
     "outputs": [],
     "prompt_number": 182
    },
    {
     "cell_type": "code",
     "collapsed": false,
     "input": [
      "localX=[]\n",
      "localY=[]\n",
      "for i in range(len(desplX)):\n",
      "    r=np.asarray([desplX[i], desplY[i], desplZ[i]])\n",
      "    localX.append(sum(r*eastUnit))\n",
      "    localY.append(sum(r*northUnit))\n",
      "localX=np.asarray(localX)\n",
      "localY=np.asarray(localY)"
     ],
     "language": "python",
     "metadata": {},
     "outputs": [],
     "prompt_number": 183
    },
    {
     "cell_type": "code",
     "collapsed": false,
     "input": [
      "plt.scatter(localX, localY)\n",
      "plt.axis('equal')"
     ],
     "language": "python",
     "metadata": {},
     "outputs": [
      {
       "metadata": {},
       "output_type": "pyout",
       "prompt_number": 184,
       "text": [
        "(-0.80000000000000004, 0.099999999999999978, -2.5, 1.0)"
       ]
      },
      {
       "metadata": {},
       "output_type": "display_data",
       "png": "[encoded data removed]",
       "text": [
        "<matplotlib.figure.Figure at 0x4edb6470>"
       ]
      }
     ],
     "prompt_number": 184
    },
    {
     "cell_type": "code",
     "collapsed": false,
     "input": [
      "deltaX=localX-np.roll(localX, 1)\n",
      "deltaX[0]=0.\n",
      "print deltaX\n",
      "deltaY=localY-np.roll(localY, 1)\n",
      "deltaY[0]=0.\n",
      "print deltaY\n",
      "diffXY=np.sqrt(deltaX**2+deltaY**2)\n",
      "cummdiffXY=np.cumsum(diffXY)"
     ],
     "language": "python",
     "metadata": {},
     "outputs": [
      {
       "output_type": "stream",
       "stream": "stdout",
       "text": [
        "[ 0.          0.00507338  0.00507339 ...,  0.00338226  0.          0.        ]\n",
        "[ 0.          0.01060435  0.0165428  ..., -0.00434783  0.          0.        ]\n"
       ]
      }
     ],
     "prompt_number": 185
    },
    {
     "cell_type": "code",
     "collapsed": false,
     "input": [
      "plt.plot(desplT, cummdiffXY)#, s=2)\n",
      "plt.xlim(0, 1.6)\n",
      "plt.ylim(0, 10)\n",
      "print \"La distancia total recorrida ser\u00e1 entonces: \", cummdiffXY[-1], \"Km\""
     ],
     "language": "python",
     "metadata": {},
     "outputs": [
      {
       "output_type": "stream",
       "stream": "stdout",
       "text": [
        "La distancia total recorrida ser\u00e1 entonces:  10.7776513037 Km\n"
       ]
      },
      {
       "metadata": {},
       "output_type": "display_data",
       "png": "[encoded data removed]",
       "text": [
        "<matplotlib.figure.Figure at 0x22a71c50>"
       ]
      }
     ],
     "prompt_number": 186
    },
    {
     "cell_type": "code",
     "collapsed": false,
     "input": [
      "sCubico=scipy.interpolate.interp1d(desplT, cummdiffXY, kind=\"cubic\")"
     ],
     "language": "python",
     "metadata": {},
     "outputs": [],
     "prompt_number": 187
    },
    {
     "cell_type": "code",
     "collapsed": false,
     "input": [
      "t=np.linspace(0, 1.6, 10000000)\n",
      "tn=np.linspace(0, 1.6, 100)\n",
      "laInterpolacioN=sCubico(tn)\n",
      "laInterpolacion=sCubico(t)\n"
     ],
     "language": "python",
     "metadata": {},
     "outputs": [],
     "prompt_number": 188
    },
    {
     "cell_type": "code",
     "collapsed": false,
     "input": [
      "pos9=np.where(laInterpolacion>9)[0][0]\n",
      "print \"El tiempo para recorrer aproximadamente 9Km\", \"(\", laInterpolacion[pos9], \")Km\", \"es: \", t[pos9], \"h\"\n",
      "pos1=np.where(laInterpolacion>1)[0][0]\n",
      "print \"El tiempo para recorrer aproximadamente 1Km\", \"(\", laInterpolacion[pos1], \")Km\", \"es: \", t[pos1], \"h\"\n",
      "pos2=np.where(laInterpolacion>2)[0][0]\n",
      "print \"El tiempo para recorrer aproximadamente 2Km\", \"(\", laInterpolacion[pos2], \")Km\", \"es: \", t[pos2], \"h\"\n"
     ],
     "language": "python",
     "metadata": {},
     "outputs": [
      {
       "output_type": "stream",
       "stream": "stdout",
       "text": [
        "El tiempo para recorrer aproximadamente 9Km ( 9.00000091288 )Km es:  1.41744030174 h\n",
        "El tiempo para recorrer aproximadamente 1Km ( 1.00000370617 )Km es:  0.116392331639 h\n",
        "El tiempo para recorrer aproximadamente 2Km"
       ]
      },
      {
       "output_type": "stream",
       "stream": "stdout",
       "text": [
        " ( 2.00000040092 )Km es:  0.219852501985 h\n"
       ]
      }
     ],
     "prompt_number": 189
    },
    {
     "cell_type": "code",
     "collapsed": false,
     "input": [
      "numPoints=100\n",
      "b=1.6\n",
      "a=0.\n",
      "h = (b-a)/(numPoints-1)\n",
      "laInterpolacionforward = np.roll(laInterpolacioN,-1)\n",
      "dy1 = (laInterpolacionforward-laInterpolacioN)/h\n",
      "dy1 = dy1[:-1] # la \u00faltima no tiene significado\n",
      "plt.plot(desplT, cummdiffXY)\n",
      "plt.plot(tn[:-1], dy1)#, s=2)\n",
      "plt.xlim(0, 1.6)\n",
      "plt.ylim(0, 10)\n",
      "print np.amax(dy1)"
     ],
     "language": "python",
     "metadata": {},
     "outputs": [
      {
       "output_type": "stream",
       "stream": "stdout",
       "text": [
        "13.7045384985\n"
       ]
      },
      {
       "metadata": {},
       "output_type": "display_data",
       "png": "[encoded data removed]",
       "text": [
        "<matplotlib.figure.Figure at 0x170eecc0>"
       ]
      }
     ],
     "prompt_number": 194
    },
    {
     "cell_type": "code",
     "collapsed": false,
     "input": [
      "laInterpolacionbackward = np.roll(laInterpolacioN,1) # y esto una posici\u00f3n a la derecha\n",
      "# y finalmente usando diferencias centrales.\n",
      "dy3 = (laInterpolacionforward-laInterpolacionbackward)/(2.*h)\n",
      "# La primera y la \u00faltima no tienen significado\n",
      "dy3=dy3[1:-1]\n",
      "plt.plot(tn[1:-1],dy3, \"--\",label=\"Central differences\")\n"
     ],
     "language": "python",
     "metadata": {},
     "outputs": [
      {
       "metadata": {},
       "output_type": "pyout",
       "prompt_number": 195,
       "text": [
        "[<matplotlib.lines.Line2D at 0x4ef30cf8>]"
       ]
      },
      {
       "metadata": {},
       "output_type": "display_data",
       "png": "[encoded data removed]",
       "text": [
        "<matplotlib.figure.Figure at 0x22ca49b0>"
       ]
      }
     ],
     "prompt_number": 195
    },
    {
     "cell_type": "code",
     "collapsed": false,
     "input": [
      "help(sm)"
     ],
     "language": "python",
     "metadata": {},
     "outputs": [
      {
       "output_type": "stream",
       "stream": "stdout",
       "text": [
        "Help on module sompy:\n",
        "\n",
        "NAME\n",
        "    sompy - # -*- coding: utf-8 -*-\n",
        "\n",
        "FILE\n",
        "    c:\\users\\danielfelipe\\anaconda\\sompy.py\n",
        "\n",
        "CLASSES\n",
        "    __builtin__.object\n",
        "        SOM\n",
        "    \n",
        "    class SOM(__builtin__.object)\n",
        "     |  Methods defined here:\n",
        "     |  \n",
        "     |  __init__(self, name, Data, mapsize=None, norm_method='var', initmethod='pca', neigh='Guassian')\n",
        "     |      name and data, neigh== Bubble or Guassian\n",
        "     |  \n",
        "     |  calc_map_dist(self)\n",
        "     |      #calculating the grid distance, which will be called during the training steps\n",
        "     |      #currently just works for planar grids\n",
        "     |  \n",
        "     |  cluster(self, method='Kmeans', n_clusters=8)\n",
        "     |  \n",
        "     |  find_K_nodes(self, data, K=5)\n",
        "     |  \n",
        "     |  hit_map(self, data=None)\n",
        "     |  \n",
        "     |  hit_map_cluster_number(self, data=None)\n",
        "     |  \n",
        "     |  ind_to_xy(self, bm_ind)\n",
        "     |  \n",
        "     |  init_map(self)\n",
        "     |      ################################################################################\n",
        "     |      # Initialize map codebook: Weight vectors of SOM\n",
        "     |  \n",
        "     |  node_Activation(self, data, wt='distance', Target=None)\n",
        "     |      \u2018uniform\u2019\n",
        "     |  \n",
        "     |  para_bmu_find(self, x, y, njb=1)\n",
        "     |  \n",
        "     |  predict(self, X_test, K=5, wt='distance')\n",
        "     |      \u2018uniform\u2019\n",
        "     |  \n",
        "     |  predict_Probability(self, data, Target, K=5)\n",
        "     |  \n",
        "     |  predict_by(self, data, Target, K=5, wt='distance')\n",
        "     |      \u2018uniform\u2019\n",
        "     |  \n",
        "     |  project_data(self, data)\n",
        "     |      #to project a data set to a trained SOM and find the index of bmu \n",
        "     |      #It is based on nearest neighborhood search module of scikitlearn, but it is not that fast.\n",
        "     |  \n",
        "     |  set_algorithm(self, initmethod='pca', algtype='batch', neighborhoodmethod='gaussian', alfatype='inv', alfaini=0.5, alfafinal=0.005)\n",
        "     |      initmethod = ['random', 'pca']\n",
        "     |      algos = ['seq','batch']\n",
        "     |      all_neigh = ['gaussian','manhatan','bubble','cut_gaussian','epanechicov' ]\n",
        "     |      alfa_types = ['linear','inv','power']\n",
        "     |  \n",
        "     |  set_data_labels(self, dlabel=None)\n",
        "     |      #Set labels of the training data\n",
        "     |      # it should be in the format of a list of strings\n",
        "     |  \n",
        "     |  set_topology(self, mapsize=None, mapshape='planar', lattice='rect', mask=None, compname=None)\n",
        "     |      all_mapshapes = ['planar','toroid','cylinder']\n",
        "     |      all_lattices = ['hexa','rect']\n",
        "     |  \n",
        "     |  train(self, trainlen=None, n_job=1, shared_memory='no', verbose='on')\n",
        "     |      #Main loop of training\n",
        "     |  \n",
        "     |  update_codebook_voronoi(self, training_data, bmu, H, radius)\n",
        "     |      #First finds the Voronoi set of each node. It needs to calculate a smaller matrix. Super fast comparing to classic batch training algorithm\n",
        "     |      # it is based on the implemented algorithm in som toolbox for Matlab by Helsinky university\n",
        "     |  \n",
        "     |  view_map(self, what='codebook', which_dim='all', pack='Yes', text_size=2.8, save='No', save_dir='empty', grid='No', text='Yes', cmap='None', COL_SiZe=6)\n",
        "     |      ###################################\n",
        "     |      #visualize map\n",
        "     |  \n",
        "     |  view_map_dot(self, colormap=None, cols=None, save='No', save_dir='', text_size=8)\n",
        "     |  \n",
        "     |  ----------------------------------------------------------------------\n",
        "     |  Data descriptors defined here:\n",
        "     |  \n",
        "     |  __dict__\n",
        "     |      dictionary for instance variables (if defined)\n",
        "     |  \n",
        "     |  __weakref__\n",
        "     |      list of weak references to the object (if defined)\n",
        "\n",
        "FUNCTIONS\n",
        "    batchtrain(self, njob=1, phase=None, shared_memory='no', verbose='on')\n",
        "        #Batch training which is called for rought training as well as finetuning\n",
        "    \n",
        "    chunk_based_bmu_find(self, x, y, Y2)\n",
        "        # we will call this function in parallel for different number of jobs\n",
        "    \n",
        "    denormalize_by(data_by, n_vect, n_method='var')\n",
        "    \n",
        "    grid_dist(self, bmu_ind)\n",
        "        som and bmu_ind\n",
        "        depending on the lattice \"hexa\" or \"rect\" we have different grid distance\n",
        "        functions.\n",
        "        bmu_ind is a number between 0 and number of nodes-1. depending on the map size\n",
        "        bmu_coord will be calculated and then distance matrix in the map will be returned\n",
        "    \n",
        "    l(a, b)\n",
        "    \n",
        "    lininit(self)\n",
        "    \n",
        "    normalize(data, method='var')\n",
        "    \n",
        "    normalize_by(data_raw, data, method='var')\n",
        "    \n",
        "    rect_dist(self, bmu)\n",
        "    \n",
        "    time(...)\n",
        "        time() -> floating point number\n",
        "        \n",
        "        Return the current time in seconds since the Epoch.\n",
        "        Fractions of a second may be present if the system clock provides them.\n",
        "    \n",
        "    view_1d(self, text_size, which_dim='all', what='codebook')\n",
        "    \n",
        "    view_2d(self, text_size, which_dim='all', what='codebook')\n",
        "    \n",
        "    view_2d_Pack(self, text_size, which_dim='all', what='codebook', save='No', grid='Yes', save_dir='empty', text='Yes', CMAP='None', col_sz=None)\n",
        "\n",
        "\n"
       ]
      }
     ],
     "prompt_number": 192
    },
    {
     "cell_type": "code",
     "collapsed": false,
     "input": [],
     "language": "python",
     "metadata": {},
     "outputs": [],
     "prompt_number": 177
    },
    {
     "cell_type": "code",
     "collapsed": false,
     "input": [],
     "language": "python",
     "metadata": {},
     "outputs": []
    }
   ],
   "metadata": {}
  }
 ]
}