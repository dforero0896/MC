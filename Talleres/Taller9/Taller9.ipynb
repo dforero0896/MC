{
 "metadata": {
  "name": "",
  "signature": "sha256:b3569b252561036b77750e29ec09c7261ad329c3792b4a4d5792d1c9eb411681"
 },
 "nbformat": 3,
 "nbformat_minor": 0,
 "worksheets": [
  {
   "cells": [
    {
     "cell_type": "markdown",
     "metadata": {},
     "source": [
      "#Taller 9 - Ecuaciones en Derivadas Parciales\n",
      "*M\u00e9todos Computacionales - Laboratorio*\n",
      "\n",
      "14-Jul-2015 & 15-Jul-2015\n",
      "\n",
      "## Ecuaci\u00f3n de Onda con Amortiguamiento 8 \u2735\n",
      "\n",
      "1) \u2735\u2735\u2735 Modifique la soluci\u00f3n de la ecuaci\u00f3n de onda 2D por diferencias finitas para incluir efectos de amortiguamiento. Determine la ecuaci\u00f3n de evoluci\u00f3n modificada y escriba el desarrollo algebraico correspondiente.\n",
      "\n",
      "$$\\frac{\\partial^2 \\psi}{\\partial{x}^2} + 2\\eta \\frac{\\partial\\psi}{\\partial{t}} = \\frac{1}{v^2}\\frac{\\partial^2 \\psi}{\\partial{t}^2}$$\n",
      "    \n",
      "2) \u2735 Programe lo anterior y haga una animaci\u00f3n de lo que le acontece a una deformaci\u00f3n inicial similar a la que hemos utilizado en anteriores ocasiones. Considere una membrana con extremos fijos.\n",
      "\n",
      "3) \u2735\u2735\u2735\u2735 Ahora haga una animaci\u00f3n que simule gotas sobre la superficie de una piscina de agua. Extremos fijos. [Aqu\u00ed](https://github.com/ComputoCienciasUniandes/MetodosComputacionalesLaboratorio/raw/master/2015-V/actividades/talleres/Taller9/pool.mp4) se muestra un ejemplo del resultado esperado donde se usaron los siguientes par\u00e1metros:\n",
      "\n",
      "    # unidades arbitrarias\n",
      "    xmin=-0.5\n",
      "    xmax=0.5\n",
      "    ymin=-0.5\n",
      "    ymax=0.5\n",
      "    dt=1.5e-5\n",
      "    dx=1.0e-2\n",
      "    v=400.\n",
      "    eta=1000.\n",
      "    r=v*dt/dx\n",
      "\n",
      "  **Al terminar la clase del mi\u00e9rcoles ejecute `lottery.sh` para saber si su taller va a ser revisado.**\n"
     ]
    },
    {
     "cell_type": "heading",
     "level": 1,
     "metadata": {},
     "source": [
      "Primer punto"
     ]
    },
    {
     "cell_type": "markdown",
     "metadata": {},
     "source": [
      "$$\\frac{\\partial^2\\Psi}{\\partial x^2} + \\frac{\\partial^2\\Psi}{\\partial y^2} + 2\\eta \\frac{\\partial\\Psi}{\\partial t} = \\frac{1}{v^2}\\frac{\\partial^2\\Psi}{\\partial t^2}$$"
     ]
    },
    {
     "cell_type": "markdown",
     "metadata": {},
     "source": [
      "$$\\frac{\\Psi_{i+1, j}^k - 2\\Psi_{i, j}^k + \\Psi_{i-1, j}^k}{\\Delta x ^2} +\n",
      "\\frac{\\Psi_{i, j+1}^k - 2\\Psi_{i, j}^k + \\Psi_{i, j-1}^k}{\\Delta y ^2} + \n",
      "2\\eta\\frac{\\Psi_{i, j}^{k+1} - \\Psi_{i, j}^{k-1}}{2\\Delta t} = \n",
      "\\frac{1}{v^2}\\frac{\\Psi_{i, j}^{k+1} - 2\\Psi_{i, j}^{k} + \\Psi_{i, j}^{k-1}}{\\Delta t^2}$$"
     ]
    },
    {
     "cell_type": "markdown",
     "metadata": {},
     "source": [
      "$$\\frac{\\Psi_{i+1, j}^k - 2\\Psi_{i, j}^k + \\Psi_{i-1, j}^k}{\\Delta x ^2} +\n",
      "\\frac{\\Psi_{i, j+1}^k - 2\\Psi_{i, j}^k + \\Psi_{i, j-1}^k}{\\Delta y ^2} = - \n",
      "2\\eta\\frac{\\Psi_{i, j}^{k+1} - \\Psi_{i, j}^{k-1}}{2\\Delta t}  + \n",
      "\\frac{1}{v^2}\\frac{\\Psi_{i, j}^{k+1} - 2\\Psi_{i, j}^{k} + \\Psi_{i, j}^{k-1}}{\\Delta t^2}$$"
     ]
    },
    {
     "cell_type": "markdown",
     "metadata": {},
     "source": [
      "$$ \\frac{\\Psi_{i+1, j}^k - 2\\Psi_{i, j}^k + \\Psi_{i-1, j}^k}{\\Delta x ^2} +\n",
      "\\frac{\\Psi_{i, j+1}^k - 2\\Psi_{i, j}^k + \\Psi_{i, j-1}^k}{\\Delta y ^2} =\n",
      " \\frac{-2 \\eta \\Delta t^2 v^2  (\\Psi_{i, j}^{k+1} - \\Psi_{i, j}^{k-1}) + \n",
      "2 \\Delta t (\\Psi_{i, j}^{k+1} - 2\\Psi_{i, j}^{k} + \\Psi_{i, j}^{k-1})}{2 \\Delta t^3 v^2}$$"
     ]
    },
    {
     "cell_type": "markdown",
     "metadata": {},
     "source": [
      "$$ 2\\Delta t^3 v^2\\left( \\frac{\\Psi_{i+1, j}^k - 2\\Psi_{i, j}^k + \\Psi_{i-1, j}^k}{\\Delta x ^2} +\n",
      "\\frac{\\Psi_{i, j+1}^k - 2\\Psi_{i, j}^k + \\Psi_{i, j-1}^k}{\\Delta y ^2} \\right)=\n",
      "-2 \\eta \\Delta t^2 v^2 \\Psi_{i, j}^{k+1} + 2 \\eta \\Delta t^2 v^2 \\Psi_{i, j}^{k-1} \n",
      " + 2 \\Delta t \\Psi_{i, j}^{k+1} - 4 \\Delta t \\Psi_{i, j}^{k} + 2 \\Delta t \\Psi_{i, j}^{k-1}$$"
     ]
    },
    {
     "cell_type": "markdown",
     "metadata": {},
     "source": [
      "$$ 2\\Delta t^3v^2 \\left( \\frac{\\Psi_{i+1, j}^k - 2\\Psi_{i, j}^k + \\Psi_{i-1, j}^k}{\\Delta x ^2} +\n",
      "\\frac{\\Psi_{i, j+1}^k - 2\\Psi_{i, j}^k + \\Psi_{i, j-1}^k}{\\Delta y ^2} \\right)\n",
      "-2 \\eta \\Delta t^2 v^2 \\Psi_{i, j}^{k-1} \n",
      "+4 \\Delta t \\Psi_{i, j}^{k}\n",
      "-2 \\Delta t \\Psi_{i, j}^{k-1} =  \\Psi_{i, j}^{k+1}(-2 \\eta \\Delta t^2 v^2 + 2 \\Delta t) $$"
     ]
    },
    {
     "cell_type": "markdown",
     "metadata": {},
     "source": [
      "$$ \\frac{2\\Delta t^3 v^2\\left( \\frac{\\Psi_{i+1, j}^k - 2\\Psi_{i, j}^k + \\Psi_{i-1, j}^k}{\\Delta x ^2} +\n",
      "\\frac{\\Psi_{i, j+1}^k - 2\\Psi_{i, j}^k + \\Psi_{i, j-1}^k}{\\Delta y ^2} \\right)\n",
      "-2 \\eta \\Delta t^2 v^2 \\Psi_{i, j}^{k-1} \n",
      "+4 \\Delta t \\Psi_{i, j}^{k}\n",
      "-2 \\Delta t \\Psi_{i, j}^{k-1}}{-2 \\eta \\Delta t^2 v^2 + 2 \\Delta t} =  \\Psi_{i, j}^{k+1} $$"
     ]
    },
    {
     "cell_type": "markdown",
     "metadata": {},
     "source": [
      "Para el primer instante"
     ]
    },
    {
     "cell_type": "markdown",
     "metadata": {},
     "source": [
      "$$ 2\\Delta t^3 v^2\\left( \\frac{\\Psi_{i+1, j}^k - 2\\Psi_{i, j}^k + \\Psi_{i-1, j}^k}{\\Delta x ^2} +\n",
      "\\frac{\\Psi_{i, j+1}^k - 2\\Psi_{i, j}^k + \\Psi_{i, j-1}^k}{\\Delta y ^2} \\right)=\n",
      "-2 \\eta \\Delta t^2 v^2 \\Psi_{i, j}^{k+1} + 2 \\eta \\Delta t^2 v^2 \\Psi_{i, j}^{k+1} \n",
      " + 2 \\Delta t \\Psi_{i, j}^{k+1} - 4 \\Delta t \\Psi_{i, j}^{k} + 2 \\Delta t \\Psi_{i, j}^{k+1}$$"
     ]
    },
    {
     "cell_type": "markdown",
     "metadata": {},
     "source": [
      "$$ 2\\Delta t^3v^2 \\left( \\frac{\\Psi_{i+1, j}^k - 2\\Psi_{i, j}^k + \\Psi_{i-1, j}^k}{\\Delta x ^2} +\n",
      "\\frac{\\Psi_{i, j+1}^k - 2\\Psi_{i, j}^k + \\Psi_{i, j-1}^k}{\\Delta y ^2} \\right)=\n",
      "2 \\Delta t \\Psi_{i, j}^{k+1} - 4 \\Delta t \\Psi_{i, j}^{k} + 2 \\Delta t \\Psi_{i, j}^{k+1}$$"
     ]
    },
    {
     "cell_type": "markdown",
     "metadata": {},
     "source": [
      "$$ 2\\Delta t^3v^2 \\left( \\frac{\\Psi_{i+1, j}^k - 2\\Psi_{i, j}^k + \\Psi_{i-1, j}^k}{\\Delta x ^2} +\n",
      "\\frac{\\Psi_{i, j+1}^k - 2\\Psi_{i, j}^k + \\Psi_{i, j-1}^k}{\\Delta y ^2} \\right) +  4 \\Delta t \\Psi_{i, j}^{k} =\n",
      "4 \\Delta t \\Psi_{i, j}^{k+1}$$"
     ]
    },
    {
     "cell_type": "markdown",
     "metadata": {},
     "source": [
      "$$ \\frac{2\\Delta t^3v^2 \\left( \\frac{\\Psi_{i+1, j}^k - 2\\Psi_{i, j}^k + \\Psi_{i-1, j}^k}{\\Delta x ^2} +\n",
      "\\frac{\\Psi_{i, j+1}^k - 2\\Psi_{i, j}^k + \\Psi_{i, j-1}^k}{\\Delta y ^2} \\right) +  4 \\Delta t \\Psi_{i, j}^{k}}{4 \\Delta t } =\n",
      "\\Psi_{i, j}^{k+1}$$"
     ]
    },
    {
     "cell_type": "code",
     "collapsed": false,
     "input": [
      "import numpy as np\n",
      "import matplotlib.pyplot as plt\n",
      "from mpl_toolkits.mplot3d import Axes3D\n"
     ],
     "language": "python",
     "metadata": {},
     "outputs": [],
     "prompt_number": 4
    },
    {
     "cell_type": "code",
     "collapsed": false,
     "input": [
      "xmin=-0.5\n",
      "xmax=0.5\n",
      "ymin=-0.5\n",
      "ymax=0.5\n",
      "L=xmax-xmin\n",
      "Nl=100\n",
      "dt=1.5e-6\n",
      "dx=1.0e-2\n",
      "dy = dx\n",
      "Nl=int((xmax-xmin)/(dx))\n",
      "Nt=1000\n",
      "Nl=100\n",
      "v=2.\n",
      "tau=L/v\n",
      "eta=1./(tau*v**2)\n",
      "r=v*dt/dx\n",
      "tmin=0\n",
      "tmax=10*L/v\n",
      "\n",
      "print r, Nt, Nl"
     ],
     "language": "python",
     "metadata": {},
     "outputs": [
      {
       "output_type": "stream",
       "stream": "stdout",
       "text": [
        "0.0003 1000 100\n"
       ]
      }
     ],
     "prompt_number": 7
    },
    {
     "cell_type": "code",
     "collapsed": false,
     "input": [
      "xcoords=np.linspace(xmin,xmax,Nl)\n",
      "ycoords=np.linspace(ymin,ymax,Nl)\n",
      "xmesh,ymesh=np.meshgrid(xcoords,ycoords)\n",
      "tcoords=np.linspace(tmin,tmax,Nt)\n",
      "drum=np.zeros((Nt,Nl,Nl))\n",
      "# fijar la condici\u00f3n inicial\n",
      "stdev=0.01\n",
      "drum[0]=np.exp(-xmesh**2/(2*stdev**2))*np.exp(-ymesh**2/(2*stdev**2))\n",
      "drum[1]=(2*dt**3*v**2*(((np.roll(drum[0], -1, axis=1) - 2*drum[0] + np.roll(drum[0], 1, axis=1))/dy**2)\\\n",
      "                 +((np.roll(drum[0], -1, axis=0) - 2*drum[0] + np.roll(drum[0], 1, axis=0))/dx**2) ) + 4*dt*drum[0])/(4*dt)\n",
      "# Mostrar la condici\u00f3n inicial\n",
      "#plt.figure(figsize=(10,3))\n",
      "#plt.imshow(drum[0],cmap='gist_heat')\n",
      "#plt.show()"
     ],
     "language": "python",
     "metadata": {},
     "outputs": [],
     "prompt_number": 8
    },
    {
     "cell_type": "code",
     "collapsed": false,
     "input": [
      "for i in range(2,Nt):\n",
      "    pdrum=drum[i-1]\n",
      "    ppdrum=drum[i-2]\n",
      "    drum[i]=(2*dt**3*v**2*(((np.roll(pdrum, -1, axis=1) - 2*pdrum + np.roll(pdrum, 1, axis=1))/dy**2) + \\\n",
      "                  ((np.roll(pdrum, -1, axis=0) - 2*pdrum + np.roll(pdrum, 1, axis=0))/dx**2))\\\n",
      "                  -2*eta*dt**2*v**2*ppdrum + 4*dt*pdrum - 2*dt*ppdrum)/(-2*eta*dt**2*v**2 + 2*dt)\n",
      "    \n",
      "    drum[i, :, 0]=0.\n",
      "    drum[i, :, -1]=0.\n",
      "    drum[i, 0, :]=0.\n",
      "    drum[i, -1, :]=0."
     ],
     "language": "python",
     "metadata": {},
     "outputs": [],
     "prompt_number": 9
    },
    {
     "cell_type": "code",
     "collapsed": false,
     "input": [
      "from matplotlib import animation\n",
      "\n",
      "fig=plt.figure(figsize=(10,10))\n",
      "plt.hold(True)\n",
      "plt.pcolor(xcoords,ycoords,drum[0],cmap='coolwarm',vmin=0.,vmax=1.)\n",
      "plt.xlim(xmin,xmax)\n",
      "plt.ylim(ymin,ymax)\n",
      "#plt.colorbar()\n",
      "\n",
      "def animate(i):\n",
      "    global drum\n",
      "    plt.pcolor(xcoords,ycoords,100*drum[10*i],cmap='coolwarm',vmin=0.,vmax=1.)\n",
      "    plt.xlim(xmin,xmax)\n",
      "    plt.ylim(ymin,ymax)\n",
      "    #plt.text(\"Time = %s\" % i, 0.1, 0.1, c=\"white\")\n",
      "animacion = animation.FuncAnimation(fig, animate, np.arange(1,len(drum)/10),interval=10**-100, blit=False)\n",
      "plt.show()\n",
      "plt.hold(False)"
     ],
     "language": "python",
     "metadata": {},
     "outputs": [],
     "prompt_number": 10
    },
    {
     "cell_type": "code",
     "collapsed": false,
     "input": [
      "sPlot=plt.figure()\n",
      "ax=Axes3D(sPlot)\n",
      "surface=ax.plot_surface(xmesh, ymesh, drum[0], cmap=\"coolwarm\")\n",
      "plt.colorbar(surface)\n",
      "a=ax.contourf(xmesh, ymesh, drum[0], zdir='z', cmap=\"coolwarm\")\n",
      "a=ax.contourf(xmesh, ymesh, drum[0], zdir='x', cmap=\"coolwarm\")\n",
      "a=ax.contourf(xmesh, ymesh, drum[0], zdir='y', cmap=\"coolwarm\")\n",
      "    \n",
      "def animate(i):\n",
      "    a=ax.contourf(xmesh, ymesh, drum[10*i], zdir='z', cmap=\"coolwarm\")\n",
      "    a=ax.contourf(xmesh, ymesh, drum[10*i], zdir='x', cmap=\"coolwarm\")\n",
      "    a=ax.contourf(xmesh, ymesh, drum[10*i], zdir='y', cmap=\"coolwarm\")\n",
      "    surf=ax.plot_surface(xmesh, ymesh, drum[10*i], cmap=\"coolwarm\")\n",
      "\n",
      "    ax.set_xlim(-1, 1)\n",
      "    ax.set_ylim(-1, 1)\n",
      "animacion = animation.FuncAnimation(sPlot, animate, np.arange(1,len(drum)/10),interval=10**-100, blit=False)\n",
      "\n",
      "#plt.colorbar()\n",
      "plt.show(sPlot)\n"
     ],
     "language": "python",
     "metadata": {},
     "outputs": [
      {
       "output_type": "stream",
       "stream": "stderr",
       "text": [
        "c:\\Users\\DanielFelipe\\Anaconda\\lib\\site-packages\\mpl_toolkits\\mplot3d\\axes3d.py:1094: FutureWarning: comparison to `None` will result in an elementwise object comparison in the future.\n",
        "  if self.button_pressed in self._rotate_btn:\n"
       ]
      }
     ],
     "prompt_number": 9
    },
    {
     "cell_type": "code",
     "collapsed": false,
     "input": [
      "fig, ax=plt.subplots(3, 3, figsize=(15, 15))\n",
      "theone=ax[0, 0].imshow(10*drum[0], vmin=0., vmax=1.)\n",
      "ax[0, 1].imshow(10*drum[100], vmin=0., vmax=1.)\n",
      "ax[0, 2].imshow(10*drum[200], vmin=0., vmax=1.)\n",
      "ax[1, 0].imshow(10*drum[500], vmin=0., vmax=1.)\n",
      "ax[1, 1].imshow(10*drum[600], vmin=0., vmax=1.)\n",
      "ax[1, 2].imshow(10*drum[700], vmin=0., vmax=1.)\n",
      "ax[2, 0].imshow(10*drum[800], vmin=0., vmax=1.)\n",
      "ax[2, 1].imshow(10*drum[900], vmin=0., vmax=1.)\n",
      "ax[2, 2].imshow(10*drum[-1], vmin=0., vmax=1.)\n",
      "fig.colorbar(theone)\n",
      "plt.show(fig)"
     ],
     "language": "python",
     "metadata": {},
     "outputs": [],
     "prompt_number": 10
    },
    {
     "cell_type": "markdown",
     "metadata": {},
     "source": [
      "#Gotas en la piscina"
     ]
    },
    {
     "cell_type": "code",
     "collapsed": false,
     "input": [
      "import numpy as np\n",
      "import matplotlib.pyplot as plt\n",
      "from mpl_toolkits.mplot3d import Axes3D\n",
      "\n",
      "tmin=0\n",
      "tmax=.3105882/2.\n",
      "xmin=-0.5\n",
      "xmax=0.5\n",
      "ymin=-0.5\n",
      "ymax=0.5\n",
      "Nl=100\n",
      "dt=1.5e-6\n",
      "dx=1.0e-2\n",
      "dy = dx\n",
      "Nt=1000#int((tmax-tmin)/dt)\n",
      "Nl=int((xmax-xmin)/(dx))\n",
      "#Nt=1000\n",
      "#Nl=100\n",
      "v=400.\n",
      "eta=-10**-7\n",
      "r=v*dt/dx\n",
      "print r, Nt, Nl"
     ],
     "language": "python",
     "metadata": {},
     "outputs": [
      {
       "output_type": "stream",
       "stream": "stdout",
       "text": [
        "0.06 1000 100\n"
       ]
      }
     ],
     "prompt_number": 12
    },
    {
     "cell_type": "code",
     "collapsed": false,
     "input": [
      "from random import*\n",
      "xcoords=np.linspace(xmin,xmax,Nl)\n",
      "ycoords=np.linspace(ymin,ymax,Nl)\n",
      "xmesh,ymesh=np.meshgrid(xcoords,ycoords)\n",
      "tcoords=np.linspace(tmin,tmax,Nt)\n",
      "drum=np.zeros((Nt,Nl,Nl))\n",
      "# fijar la condici\u00f3n inicial\n",
      "stdev=0.01\n",
      "drum[0]=np.exp(-xmesh**2/(2*stdev**2))*np.exp(-ymesh**2/(2*stdev**2))\n",
      "drum[1]=(2*dt**3*v**2*(((np.roll(drum[0], -1, axis=1) - 2*drum[0] + np.roll(drum[0], 1, axis=1))/dy**2)\\\n",
      "                 +((np.roll(drum[0], -1, axis=0) - 2*drum[0] + np.roll(drum[0], 1, axis=0))/dx**2) ) + 4*dt*drum[0])/(4*dt)\n",
      "xrand=np.random.rand(Nt)-.5\n",
      "yrand=np.random.rand(Nt)-.5\n",
      "# Mostrar la condici\u00f3n inicial\n",
      "#plt.figure(figsize=(10,3))\n",
      "#plt.imshow(drum[0],cmap='gist_heat')\n",
      "#plt.show()\n",
      "print drop"
     ],
     "language": "python",
     "metadata": {},
     "outputs": [
      {
       "output_type": "stream",
       "stream": "stdout",
       "text": [
        "True\n"
       ]
      }
     ],
     "prompt_number": 13
    },
    {
     "cell_type": "code",
     "collapsed": false,
     "input": [
      "for i in range(2,Nt):\n",
      "    drop=np.random.choice([True, False, False, False, False, False, False, False])\n",
      "    pdrum=drum[i-1]\n",
      "    ppdrum=drum[i-2]\n",
      "    \n",
      "    drum[i]=(2*dt**3*v**2*(((np.roll(pdrum, -1, axis=1) - 2*pdrum + np.roll(pdrum, 1, axis=1))/dy**2) + \\\n",
      "                  ((np.roll(pdrum, -1, axis=0) - 2*pdrum + np.roll(pdrum, 1, axis=0))/dx**2))\\\n",
      "                  -2*eta*dt**2*v**2*ppdrum + 4*dt*pdrum - 2*dt*ppdrum)/(-2*eta*dt**2*v**2 + 2*dt)\n",
      "    if drop == True:\n",
      "        drum[i]+=np.exp(-(xmesh-xrand[i])**2/(2*stdev**2))*np.exp(-(ymesh-yrand[i])**2/(2*stdev**2))\n",
      "    drum[i, :, 0]=0.\n",
      "    drum[i, :, -1]=0.\n",
      "    drum[i, 0, :]=0.\n",
      "    drum[i, -1, :]=0."
     ],
     "language": "python",
     "metadata": {},
     "outputs": [],
     "prompt_number": 23
    },
    {
     "cell_type": "code",
     "collapsed": false,
     "input": [
      "fig, ax=plt.subplots(3, 3, figsize=(15, 15))\n",
      "ax[0, 0].imshow(drum[0], vmin=0., vmax=1.)\n",
      "ax[0, 1].imshow(drum[100], vmin=0., vmax=1.)\n",
      "ax[0, 2].imshow(drum[200], vmin=0., vmax=1.)\n",
      "ax[1, 0].imshow(drum[300], vmin=0., vmax=1.)\n",
      "ax[1, 1].imshow(drum[500], vmin=0., vmax=1.)\n",
      "ax[1, 2].imshow(drum[600], vmin=0., vmax=1.)\n",
      "ax[2, 0].imshow(drum[800], vmin=0., vmax=1.)\n",
      "ax[2, 1].imshow(drum[900], vmin=0., vmax=1.)\n",
      "ax[2, 2].imshow(drum[-1], vmin=0., vmax=1.)\n",
      "plt.show(fig)"
     ],
     "language": "python",
     "metadata": {},
     "outputs": [],
     "prompt_number": 24
    },
    {
     "cell_type": "code",
     "collapsed": false,
     "input": [
      "from matplotlib import animation\n",
      "\n",
      "fig=plt.figure(figsize=(10,10))\n",
      "plt.hold(True)\n",
      "plt.pcolor(xcoords,ycoords,drum[0],cmap='gist_heat',vmin=0.,vmax=1.)\n",
      "plt.xlim(xmin,xmax)\n",
      "plt.ylim(ymin,ymax)\n",
      "plt.colorbar()\n",
      "\n",
      "def animate(i):\n",
      "    global drum\n",
      "    plt.pcolor(xcoords,ycoords,10*drum[100*i],cmap='gist_heat',vmin=-1.,vmax=1.)\n",
      "    plt.xlim(xmin,xmax)\n",
      "    plt.ylim(ymin,ymax)\n",
      "animacion = animation.FuncAnimation(fig, animate, np.arange(1,len(drum)/100),interval=10**-100, blit=False)\n",
      "plt.show()\n",
      "plt.hold(False)"
     ],
     "language": "python",
     "metadata": {},
     "outputs": [],
     "prompt_number": 18
    },
    {
     "cell_type": "code",
     "collapsed": false,
     "input": [],
     "language": "python",
     "metadata": {},
     "outputs": []
    }
   ],
   "metadata": {}
  }
 ]
}