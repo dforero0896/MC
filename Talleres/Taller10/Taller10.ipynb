{
 "metadata": {
  "name": "",
  "signature": "sha256:79c9bc18bd490029094d81aaaa126e42ff7d0243382cc88244f2a8bd52670184"
 },
 "nbformat": 3,
 "nbformat_minor": 0,
 "worksheets": [
  {
   "cells": [
    {
     "cell_type": "code",
     "collapsed": false,
     "input": [
      "import numpy as np\n",
      "import matplotlib.pyplot as plt\n",
      "%matplotlib inline"
     ],
     "language": "python",
     "metadata": {},
     "outputs": [],
     "prompt_number": 63
    },
    {
     "cell_type": "code",
     "collapsed": false,
     "input": [
      "N=20\n",
      "lattice=np.ones((N, N, N))\n",
      "T=10.\n",
      "beta=1./T\n",
      "def total_energy():\n",
      "    global lattice\n",
      "    return -sum(sum(lattice*(np.roll(lattice,1,axis=1)+\\\n",
      "                         np.roll(lattice,-1,axis=1)+\\\n",
      "                         np.roll(lattice,1,axis=0)+\\\n",
      "                         np.roll(lattice,-1,axis=0)+\\\n",
      "                         np.roll(lattice,1,axis=2)+\\\n",
      "                         np.roll(lattice,-1,axis=2))))\n",
      "def block_energy(i, j, k):\n",
      "    global lattice\n",
      "    global N\n",
      "    return -(lattice[i, j, k]*(lattice[(i-1)%N, j, k]+\\\n",
      "                                  lattice[(i+1)%N, j, k]+\\\n",
      "                                  lattice[i, (j+1)%N, k]+\\\n",
      "                                  lattice[i, (j-1)%N, k]+\\\n",
      "                                  lattice[i, j, (k+1)%N]+\\\n",
      "                                  lattice[i, j, (k-1)%N]))\n",
      "def flipone():\n",
      "    global lattice\n",
      "    global beta\n",
      "    global N\n",
      "    # Pick a random site\n",
      "    nx, ny, nz= np.random.randint(0,N), np.random.randint(0,N), np.random.randint(0,N)\n",
      "    # Calculate current energy of site and neighbors\n",
      "    en_i=block_energy(nx, ny, nz)\n",
      "    # If it were flipped\n",
      "    en_f=-en_i\n",
      "    if en_f<en_i: # This could be simplified\n",
      "        lattice[nx, ny, nz]*=-1\n",
      "    elif np.random.random()<min(1,np.exp(-beta*(en_f-en_i))):\n",
      "        lattice[nx, ny, nz]*=-1\n",
      "\n",
      "def magnetization():\n",
      "    global lattice\n",
      "    global N\n",
      "    return sum(sum(sum(lattice)))/N**3\n"
     ],
     "language": "python",
     "metadata": {},
     "outputs": [],
     "prompt_number": 64
    },
    {
     "cell_type": "code",
     "collapsed": false,
     "input": [
      "%timeit flipone()"
     ],
     "language": "python",
     "metadata": {},
     "outputs": [
      {
       "output_type": "stream",
       "stream": "stdout",
       "text": [
        "10000 loops, best of 3: 4.02 \u00b5s per loop\n"
       ]
      }
     ],
     "prompt_number": 65
    },
    {
     "cell_type": "code",
     "collapsed": false,
     "input": [
      "magnetizaciones=[]\n",
      "lattice=np.ones((N, N, N))\n",
      "numIter=int(1e6)\n",
      "for temp in np.linspace(1,8,16):\n",
      "    print temp,\n",
      "    T=temp\n",
      "    beta=1./T\n",
      "    mag=[]\n",
      "    for i in range(numIter):\n",
      "        flipone()\n",
      "        if i>numIter-100:\n",
      "            mag.append(magnetization())\n",
      "    magnetizaciones.append([T,np.mean(mag)])\n",
      "magnetizaciones=np.array(magnetizaciones)"
     ],
     "language": "python",
     "metadata": {},
     "outputs": [
      {
       "output_type": "stream",
       "stream": "stdout",
       "text": [
        "1.0 "
       ]
      },
      {
       "output_type": "stream",
       "stream": "stdout",
       "text": [
        "1.46666666667 "
       ]
      },
      {
       "output_type": "stream",
       "stream": "stdout",
       "text": [
        "1.93333333333 "
       ]
      },
      {
       "output_type": "stream",
       "stream": "stdout",
       "text": [
        "2.4 "
       ]
      },
      {
       "output_type": "stream",
       "stream": "stdout",
       "text": [
        "2.86666666667 "
       ]
      },
      {
       "output_type": "stream",
       "stream": "stdout",
       "text": [
        "3.33333333333 "
       ]
      },
      {
       "output_type": "stream",
       "stream": "stdout",
       "text": [
        "3.8 "
       ]
      },
      {
       "output_type": "stream",
       "stream": "stdout",
       "text": [
        "4.26666666667 "
       ]
      },
      {
       "output_type": "stream",
       "stream": "stdout",
       "text": [
        "4.73333333333 "
       ]
      },
      {
       "output_type": "stream",
       "stream": "stdout",
       "text": [
        "5.2 "
       ]
      },
      {
       "output_type": "stream",
       "stream": "stdout",
       "text": [
        "5.66666666667 "
       ]
      },
      {
       "output_type": "stream",
       "stream": "stdout",
       "text": [
        "6.13333333333 "
       ]
      },
      {
       "output_type": "stream",
       "stream": "stdout",
       "text": [
        "6.6 "
       ]
      },
      {
       "output_type": "stream",
       "stream": "stdout",
       "text": [
        "7.06666666667 "
       ]
      },
      {
       "output_type": "stream",
       "stream": "stdout",
       "text": [
        "7.53333333333 "
       ]
      },
      {
       "output_type": "stream",
       "stream": "stdout",
       "text": [
        "8.0\n"
       ]
      }
     ],
     "prompt_number": 66
    },
    {
     "cell_type": "code",
     "collapsed": false,
     "input": [
      "print magnetizaciones"
     ],
     "language": "python",
     "metadata": {},
     "outputs": [
      {
       "output_type": "stream",
       "stream": "stdout",
       "text": [
        "[[  1.00000000e+00   1.00000000e+00]\n",
        " [  1.46666667e+00   9.99500000e-01]\n",
        " [  1.93333333e+00   9.95343434e-01]\n",
        " [  2.40000000e+00   9.82500000e-01]\n",
        " [  2.86666667e+00   9.57497475e-01]\n",
        " [  3.33333333e+00   9.15214646e-01]\n",
        " [  3.80000000e+00   7.95209596e-01]\n",
        " [  4.26666667e+00   6.36068182e-01]\n",
        " [  4.73333333e+00  -1.10181818e-01]\n",
        " [  5.20000000e+00  -1.58484848e-02]\n",
        " [  5.66666667e+00  -6.15277778e-02]\n",
        " [  6.13333333e+00   1.92247475e-02]\n",
        " [  6.60000000e+00  -1.96717172e-03]\n",
        " [  7.06666667e+00   1.81136364e-02]\n",
        " [  7.53333333e+00   5.34595960e-03]\n",
        " [  8.00000000e+00   1.67979798e-02]]\n"
       ]
      }
     ],
     "prompt_number": 67
    },
    {
     "cell_type": "code",
     "collapsed": false,
     "input": [
      "Magnet, ax=plt.subplots(1, 1, figsize=(10, 7))\n",
      "ax.set_ylim(-0.1, 1)\n",
      "ax.set_xlim(1, 8)\n",
      "ax.scatter(magnetizaciones[:, 0], magnetizaciones[:, 1], s=50)\n",
      "ax.plot(magnetizaciones[:, 0], magnetizaciones[:, 1], ls=\"-.\", lw=2)\n",
      "ax.vlines(4.51, -1, 1, color=\"r\")\n",
      "ax.plot(np.linspace(1, 8, 10), np.zeros(10))\n",
      "ax.set_title(u\"Ising 3D - Magnetizaci\u00f3n\\nRed c\u00fabica de $20^3$ \\\n",
      "- Condiciones de frontera peri\u00f3dicas\\n$10^6$ iteraciones para cada temperatura\")\n",
      "ax.set_ylabel(\"M/N\")\n",
      "ax.set_xlabel(\"T (J)\")"
     ],
     "language": "python",
     "metadata": {},
     "outputs": [
      {
       "metadata": {},
       "output_type": "pyout",
       "prompt_number": 69,
       "text": [
        "<matplotlib.text.Text at 0x112c0240>"
       ]
      },
      {
       "metadata": {},
       "output_type": "display_data",
       "png": "[encoded data removed]",
       "text": [
        "<matplotlib.figure.Figure at 0x112dfc88>"
       ]
      }
     ],
     "prompt_number": 69
    },
    {
     "cell_type": "code",
     "collapsed": false,
     "input": [],
     "language": "python",
     "metadata": {},
     "outputs": []
    }
   ],
   "metadata": {}
  }
 ]
}