{
 "metadata": {
  "name": "",
  "signature": "sha256:9322937c6d7105cdb7dc5ae53ee06ba4627c12136c120fb8e7ba9208bb36f34d"
 },
 "nbformat": 3,
 "nbformat_minor": 0,
 "worksheets": [
  {
   "cells": [
    {
     "cell_type": "code",
     "collapsed": false,
     "input": [
      "%pylab inline\n",
      "import numpy as np\n",
      "import matplotlib.pyplot as plt\n",
      "from scipy import stats\n",
      "import csv\n",
      "from scipy.optimize import curve_fit\n",
      "import math\n",
      "import scipy.misc\n",
      "from scipy.stats import linregress\n",
      "from scipy import interpolate\n",
      "from scipy import signal\n"
     ],
     "language": "python",
     "metadata": {},
     "outputs": [
      {
       "output_type": "stream",
       "stream": "stdout",
       "text": [
        "Populating the interactive namespace from numpy and matplotlib\n"
       ]
      },
      {
       "output_type": "stream",
       "stream": "stderr",
       "text": [
        "WARNING: pylab import has clobbered these variables: ['random']\n",
        "`%matplotlib` prevents importing * from pylab and numpy\n"
       ]
      }
     ],
     "prompt_number": 96
    },
    {
     "cell_type": "code",
     "collapsed": false,
     "input": [
      "'''\n",
      "data = loadtxt(\"File.csv\", delimiter=',', dtype=None, skiprows=1)\n",
      "slope, intercept, r_value, p_value, std_err = linregress(x,y)\n",
      "fitT=polyfit(x, y, orden)\n",
      "fitpars, covmat = curve_fit(Func, x, y)\n",
      "'''"
     ],
     "language": "python",
     "metadata": {},
     "outputs": [
      {
       "metadata": {},
       "output_type": "pyout",
       "prompt_number": 97,
       "text": [
        "'\\ndata = loadtxt(\"File.csv\", delimiter=\\',\\', dtype=None, skiprows=1)\\nslope, intercept, r_value, p_value, std_err = linregress(x,y)\\nfitT=polyfit(x, y, orden)\\nfitpars, covmat = curve_fit(Func, x, y)\\n'"
       ]
      }
     ],
     "prompt_number": 97
    },
    {
     "cell_type": "code",
     "collapsed": false,
     "input": [
      "def sqwave(x):\n",
      "    ans=[]\n",
      "    for i in range(len(x)):\n",
      "        if(x[i]>=0 and x[i]<=1):\n",
      "            ans.append(0.)\n",
      "        elif(x[i]>1 and x[i]<=2):\n",
      "            ans.append(1.)\n",
      "        else:\n",
      "            ans.append(0.)\n",
      "    ans=np.asarray(ans)\n",
      "    return ans"
     ],
     "language": "python",
     "metadata": {},
     "outputs": [],
     "prompt_number": 116
    },
    {
     "cell_type": "code",
     "collapsed": false,
     "input": [
      "x=np.linspace(0, 10, 1000)\n"
     ],
     "language": "python",
     "metadata": {},
     "outputs": [],
     "prompt_number": 251
    },
    {
     "cell_type": "code",
     "collapsed": false,
     "input": [
      "def Fourier(x, orden):\n",
      "    a=0\n",
      "    b=1\n",
      "\n",
      "    while(b<=2*orden+1):\n",
      "        term=(1./(b))*np.sin((b)*x)\n",
      "        a+=term\n",
      "        b+=2\n",
      "    return a\n",
      "vecFourier=vectorize(Fourier)"
     ],
     "language": "python",
     "metadata": {},
     "outputs": [],
     "prompt_number": 288
    },
    {
     "cell_type": "code",
     "collapsed": false,
     "input": [
      "PlotFourier, ax=subplots(1, 1, figsize=(10, 7))\n",
      "\n",
      "ax.plot(x, Fourier(x, 1))\n"
     ],
     "language": "python",
     "metadata": {},
     "outputs": [
      {
       "metadata": {},
       "output_type": "pyout",
       "prompt_number": 290,
       "text": [
        "[<matplotlib.lines.Line2D at 0x21671828>]"
       ]
      },
      {
       "metadata": {},
       "output_type": "display_data",
       "png": "[encoded data removed]",
       "text": [
        "<matplotlib.figure.Figure at 0x21671898>"
       ]
      }
     ],
     "prompt_number": 290
    },
    {
     "cell_type": "code",
     "collapsed": false,
     "input": [
      "mx=scipy.optimize.basinhopping(lambda x: Fourier(x,10), 1.5)"
     ],
     "language": "python",
     "metadata": {},
     "outputs": [],
     "prompt_number": 283
    },
    {
     "cell_type": "code",
     "collapsed": false,
     "input": [
      "print mx\n"
     ],
     "language": "python",
     "metadata": {},
     "outputs": [
      {
       "output_type": "stream",
       "stream": "stdout",
       "text": [
        "                  nfev: 2187\n",
        " minimization_failures: 0\n",
        "                   fun: -0.9285984037697579\n",
        "                     x: array([ 12.25221134])\n",
        "               message: ['requested number of basinhopping iterations completed successfully']\n",
        "                  njev: 729\n",
        "                   nit: 100\n"
       ]
      }
     ],
     "prompt_number": 284
    },
    {
     "cell_type": "code",
     "collapsed": false,
     "input": [
      "mx.fun"
     ],
     "language": "python",
     "metadata": {},
     "outputs": [
      {
       "metadata": {},
       "output_type": "pyout",
       "prompt_number": 285,
       "text": [
        "-0.9285984037697579"
       ]
      }
     ],
     "prompt_number": 285
    },
    {
     "cell_type": "code",
     "collapsed": false,
     "input": [
      "def salto(y, n):\n",
      "    saltos=[]\n",
      "    for i in range(n):\n",
      "        mx=scipy.optimize.basinhopping(lambda y: Fourier(y,i), 1.5, niter=200)\n",
      "        vali=2*np.abs(mx.fun)\n",
      "        saltos.append(vali)\n",
      "    return saltos"
     ],
     "language": "python",
     "metadata": {},
     "outputs": [],
     "prompt_number": 299
    },
    {
     "cell_type": "code",
     "collapsed": false,
     "input": [
      "print salto(x, 100)[-1]\n",
      "print \"La constante de Gibbs es aproximadamente: 1.8519501421\" "
     ],
     "language": "python",
     "metadata": {},
     "outputs": [
      {
       "output_type": "stream",
       "stream": "stdout",
       "text": [
        "1.8519501421\n"
       ]
      }
     ],
     "prompt_number": 305
    },
    {
     "cell_type": "code",
     "collapsed": false,
     "input": [
      "losnumeros=[]\n",
      "for i in range(100):\n",
      "    losnumeros.append(i)\n",
      "losnumeros=np.asarray(losnumeros)\n",
      "Cte=[]\n",
      "for i in range(100):\n",
      "    Cte.append(1.8519501421)\n",
      "Cte=np.asarray(Cte)"
     ],
     "language": "python",
     "metadata": {},
     "outputs": [],
     "prompt_number": 306
    },
    {
     "cell_type": "code",
     "collapsed": false,
     "input": [
      "Gibbs, ax=subplots(1, 1, figsize=(10, 7))\n",
      "ax.scatter(losnumeros, salto(x, 100))\n",
      "ax.plot(x, Cte)"
     ],
     "language": "python",
     "metadata": {},
     "outputs": []
    },
    {
     "cell_type": "code",
     "collapsed": false,
     "input": [
      "def longitudCambio(x, orden):\n",
      "    epsilon=0.01\n",
      "    for i in range(orden):\n",
      "        sal=salto(x, orden)\n",
      "        dif=np.abs(sal[-1]-sal[-2])\n",
      "        if (dif<epsilon):\n",
      "            print sal[-1]\n",
      "        \n",
      "    \n",
      "        \n",
      "     \n",
      "        "
     ],
     "language": "python",
     "metadata": {},
     "outputs": []
    },
    {
     "cell_type": "code",
     "collapsed": false,
     "input": [],
     "language": "python",
     "metadata": {},
     "outputs": []
    }
   ],
   "metadata": {}
  }
 ]
}