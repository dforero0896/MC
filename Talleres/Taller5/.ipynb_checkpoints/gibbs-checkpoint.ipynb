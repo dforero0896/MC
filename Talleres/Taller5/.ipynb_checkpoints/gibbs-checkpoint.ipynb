{
 "metadata": {
  "name": "",
  "signature": "sha256:4e4586c024b6322f65980c8c0a6b6dcec71b7543cde3d05cade2ee2fb831b68d"
 },
 "nbformat": 3,
 "nbformat_minor": 0,
 "worksheets": [
  {
   "cells": [
    {
     "cell_type": "code",
     "collapsed": false,
     "input": [
      "%pylab inline\n",
      "import numpy as np\n",
      "import matplotlib.pyplot as plt\n",
      "from scipy import stats\n",
      "import csv\n",
      "from scipy.optimize import curve_fit\n",
      "import math\n",
      "import scipy.misc\n",
      "from scipy.stats import linregress\n",
      "from scipy import interpolate\n",
      "from scipy import signal\n"
     ],
     "language": "python",
     "metadata": {},
     "outputs": [
      {
       "output_type": "stream",
       "stream": "stdout",
       "text": [
        "Populating the interactive namespace from numpy and matplotlib\n"
       ]
      }
     ],
     "prompt_number": 1
    },
    {
     "cell_type": "code",
     "collapsed": false,
     "input": [
      "def sqwave(x):\n",
      "    ans=[]\n",
      "    for i in range(len(x)):\n",
      "        if(x[i]>=0 and x[i]<=1):\n",
      "            ans.append(0.)\n",
      "        elif(x[i]>1 and x[i]<=2):\n",
      "            ans.append(1.)\n",
      "        else:\n",
      "            ans.append(0.)\n",
      "    ans=np.asarray(ans)\n",
      "    return ans"
     ],
     "language": "python",
     "metadata": {},
     "outputs": [],
     "prompt_number": 2
    },
    {
     "cell_type": "code",
     "collapsed": false,
     "input": [
      "x=np.linspace(0, 10, 1000)\n"
     ],
     "language": "python",
     "metadata": {},
     "outputs": [],
     "prompt_number": 3
    },
    {
     "cell_type": "code",
     "collapsed": false,
     "input": [
      "def Fourier(x, orden):\n",
      "    a=0\n",
      "    b=1\n",
      "\n",
      "    while(b<=2*orden+1):\n",
      "        term=(1./(b))*np.sin((b)*x)\n",
      "        a+=term\n",
      "        b+=2\n",
      "    return a\n",
      "vecFourier=vectorize(Fourier)"
     ],
     "language": "python",
     "metadata": {},
     "outputs": [],
     "prompt_number": 4
    },
    {
     "cell_type": "code",
     "collapsed": false,
     "input": [
      "PlotFourier, ax=subplots(1, 1, figsize=(10, 7))\n",
      "\n",
      "ax.plot(x, Fourier(x, 10000))\n"
     ],
     "language": "python",
     "metadata": {},
     "outputs": [
      {
       "metadata": {},
       "output_type": "pyout",
       "prompt_number": 7,
       "text": [
        "[<matplotlib.lines.Line2D at 0x148a4630>]"
       ]
      },
      {
       "metadata": {},
       "output_type": "display_data",
       "png": "[encoded data removed]",
       "text": [
        "<matplotlib.figure.Figure at 0x148a4668>"
       ]
      }
     ],
     "prompt_number": 7
    },
    {
     "cell_type": "code",
     "collapsed": false,
     "input": [
      "def salto(y, n):\n",
      "    saltos=[]\n",
      "    for i in range(n):\n",
      "        mx=scipy.optimize.basinhopping(lambda y: Fourier(y,i), 1.5, niter=200)\n",
      "        vali=2*np.abs(mx.fun)\n",
      "        saltos.append(vali)\n",
      "    return saltos"
     ],
     "language": "python",
     "metadata": {},
     "outputs": [],
     "prompt_number": 8
    },
    {
     "cell_type": "code",
     "collapsed": false,
     "input": [
      "print salto(x, 101)[-1]\n",
      "print \"La constante de Gibbs es aproximadamente: 1.8519501421\" "
     ],
     "language": "python",
     "metadata": {},
     "outputs": []
    },
    {
     "cell_type": "code",
     "collapsed": false,
     "input": [
      "losnumeros=[]\n",
      "for i in range(10):\n",
      "    losnumeros.append(i)\n",
      "losnumeros=np.asarray(losnumeros)\n"
     ],
     "language": "python",
     "metadata": {},
     "outputs": [],
     "prompt_number": 11
    },
    {
     "cell_type": "code",
     "collapsed": false,
     "input": [
      "Gibbs, ax=subplots(1, 1, figsize=(10, 7))\n",
      "ax.scatter(losnumeros, salto(x, 10))\n"
     ],
     "language": "python",
     "metadata": {},
     "outputs": [
      {
       "metadata": {},
       "output_type": "pyout",
       "prompt_number": 12,
       "text": [
        "<matplotlib.collections.PathCollection at 0x14e72240>"
       ]
      },
      {
       "metadata": {},
       "output_type": "display_data",
       "png": "[encoded data removed]",
       "text": [
        "<matplotlib.figure.Figure at 0x14b9b940>"
       ]
      }
     ],
     "prompt_number": 12
    },
    {
     "cell_type": "code",
     "collapsed": false,
     "input": [
      "def longitudCambio(x, orden):\n",
      "    epsilon=0.01\n",
      "    for i in range(orden):\n",
      "        sal=salto(x, orden)\n",
      "        dif=np.abs(sal[-1]-sal[-2])\n",
      "        if (dif<epsilon):\n",
      "            print sal[-1]\n",
      "        \n",
      "    \n",
      "        \n",
      "     \n",
      "        "
     ],
     "language": "python",
     "metadata": {},
     "outputs": [],
     "prompt_number": 308
    },
    {
     "cell_type": "code",
     "collapsed": false,
     "input": [],
     "language": "python",
     "metadata": {},
     "outputs": []
    },
    {
     "cell_type": "code",
     "collapsed": false,
     "input": [],
     "language": "python",
     "metadata": {},
     "outputs": []
    }
   ],
   "metadata": {}
  }
 ]
}