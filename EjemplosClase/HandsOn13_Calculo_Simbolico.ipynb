{
 "metadata": {
  "name": "",
  "signature": "sha256:ca4e086bd18e8f08e4f0a50511fff38fe7b1be32b3f6d1b19112b6e2b6f79b1c"
 },
 "nbformat": 3,
 "nbformat_minor": 0,
 "worksheets": [
  {
   "cells": [
    {
     "cell_type": "code",
     "collapsed": false,
     "input": [
      "import numpy as np\n",
      "import matplotlib.pyplot as plt\n",
      "%matplotlib inline\n",
      "from scipy import stats\n",
      "import csv\n",
      "from scipy.optimize import curve_fit\n",
      "import math\n",
      "import scipy.misc\n",
      "from scipy.stats import linregress\n",
      "from scipy import interpolate\n",
      "from scipy.fftpack import *\n",
      "from scipy.integrate import *\n",
      "import matplotlib.animation as animation\n",
      "from sympy import *\n",
      "init_printing(use_unicode=True)"
     ],
     "language": "python",
     "metadata": {},
     "outputs": [],
     "prompt_number": 1
    },
    {
     "cell_type": "code",
     "collapsed": false,
     "input": [
      "x=symbols(\"x\")\n",
      "diff(x**3, x)\n",
      "integrate(exp(-x**2), (x, 1, 2))"
     ],
     "language": "python",
     "metadata": {},
     "outputs": [
      {
       "latex": [
        "$$- \\frac{\\sqrt{\\pi}}{2} \\operatorname{erf}{\\left (1 \\right )} + \\frac{\\sqrt{\\pi}}{2} \\operatorname{erf}{\\left (2 \\right )}$$"
       ],
       "metadata": {},
       "output_type": "pyout",
       "png": "[encoded data removed]",
       "prompt_number": 2,
       "text": [
        "    ___            ___       \n",
        "  \u2572\u2571 \u03c0 \u22c5erf(1)   \u2572\u2571 \u03c0 \u22c5erf(2)\n",
        "- \u2500\u2500\u2500\u2500\u2500\u2500\u2500\u2500\u2500\u2500\u2500\u2500 + \u2500\u2500\u2500\u2500\u2500\u2500\u2500\u2500\u2500\u2500\u2500\u2500\n",
        "       2              2      "
       ]
      }
     ],
     "prompt_number": 2
    },
    {
     "cell_type": "code",
     "collapsed": false,
     "input": [
      "t, fn, fn1, h, tn, tn1 = symbols(\"t fn fn1 h tn tn1\")\n",
      "p=symbols(\"p\")\n",
      "p=fn1*(t-tn)/(tn1-tn) + fn*(t-tn1)/(tn-tn1)\n",
      "tn1=tn-h\n",
      "simplify(integrate(fn1*(t-tn)/(tn1-tn) + fn*(t-tn1)/(tn-tn1), (t, tn, tn+h)))"
     ],
     "language": "python",
     "metadata": {},
     "outputs": [
      {
       "latex": [
        "$$\\frac{h}{2} \\left(3 fn - fn_{1}\\right)$$"
       ],
       "metadata": {},
       "output_type": "pyout",
       "png": "[encoded data removed]",
       "prompt_number": 3,
       "text": [
        "h\u22c5(3\u22c5fn - fn\u2081)\n",
        "\u2500\u2500\u2500\u2500\u2500\u2500\u2500\u2500\u2500\u2500\u2500\u2500\u2500\u2500\n",
        "      2       "
       ]
      }
     ],
     "prompt_number": 3
    },
    {
     "cell_type": "code",
     "collapsed": false,
     "input": [
      "t, fn, fn1, fn2, h, tn, tn1, tn2 = symbols(\"t fn fn1 fn2 h tn tn1 tn2\")\n",
      "p=symbols(\"p\")\n",
      "p=fn1*(t-tn)*(t-tn2)/((tn1-tn)*(tn1-tn2)) + fn*(t-tn1)*(t-tn2)/((tn-tn1)*(tn-tn2)) + fn2*(t-tn1)*(t-tn)/((tn2-tn1)*(tn2-tn))\n",
      "tn1=tn-h\n",
      "tn2=tn-2*h\n",
      "simplify(integrate(fn1*(t-tn)*(t-tn2)/((tn1-tn)*(tn1-tn2)) + fn*(t-tn1)*(t-tn2)/((tn-tn1)*(tn-tn2)) + fn2*(t-tn1)*(t-tn)/((tn2-tn1)*(tn2-tn)), (t, tn, tn+h)))"
     ],
     "language": "python",
     "metadata": {},
     "outputs": [
      {
       "latex": [
        "$$\\frac{h}{12} \\left(23 fn - 16 fn_{1} + 5 fn_{2}\\right)$$"
       ],
       "metadata": {},
       "output_type": "pyout",
       "png": "[encoded data removed]",
       "prompt_number": 4,
       "text": [
        "h\u22c5(23\u22c5fn - 16\u22c5fn\u2081 + 5\u22c5fn\u2082)\n",
        "\u2500\u2500\u2500\u2500\u2500\u2500\u2500\u2500\u2500\u2500\u2500\u2500\u2500\u2500\u2500\u2500\u2500\u2500\u2500\u2500\u2500\u2500\u2500\u2500\u2500\u2500\n",
        "            12            "
       ]
      }
     ],
     "prompt_number": 4
    },
    {
     "cell_type": "code",
     "collapsed": false,
     "input": [
      "t, fn, fn1, fn2, fn3, h, tn, tn1, tn2, tn3 = symbols(\"t fn fn1 fn2 fn3 h tn tn1 tn2 tn3\")\n",
      "p=symbols(\"p\")\n",
      "p=fn1*(t-tn)*(t-tn2)*(t-tn3)/((tn1-tn)*(tn1-tn2)*(tn1-tn3)) + fn*(t-tn1)*(t-tn2)*(t-tn3)/((tn-tn1)*(tn-tn2)*(tn-tn3)) + fn2*(t-tn1)*(t-tn)*(t-tn3)/((tn2-tn1)*(tn2-tn)*(tn2-tn3)) + fn3*(t-tn)*(t-tn1)*(t-tn2)/((tn3-tn)*(tn3-tn1)*(tn3-tn2))\n",
      "tn1=tn-h\n",
      "tn2=tn-2*h\n",
      "tn3=tn-3*h\n",
      "simplify(integrate(fn1*(t-tn)*(t-tn2)*(t-tn3)/((tn1-tn)*(tn1-tn2)*(tn1-tn3)) + fn*(t-tn1)*(t-tn2)*(t-tn3)/((tn-tn1)*(tn-tn2)*(tn-tn3)) + fn2*(t-tn1)*(t-tn)*(t-tn3)/((tn2-tn1)*(tn2-tn)*(tn2-tn3)) + fn3*(t-tn)*(t-tn1)*(t-tn2)/((tn3-tn)*(tn3-tn1)*(tn3-tn2)), (t, tn, tn+h)))"
     ],
     "language": "python",
     "metadata": {},
     "outputs": [
      {
       "latex": [
        "$$\\frac{h}{24} \\left(55 fn - 59 fn_{1} + 37 fn_{2} - 9 fn_{3}\\right)$$"
       ],
       "metadata": {},
       "output_type": "pyout",
       "png": "[encoded data removed]",
       "prompt_number": 5,
       "text": [
        "h\u22c5(55\u22c5fn - 59\u22c5fn\u2081 + 37\u22c5fn\u2082 - 9\u22c5fn\u2083)\n",
        "\u2500\u2500\u2500\u2500\u2500\u2500\u2500\u2500\u2500\u2500\u2500\u2500\u2500\u2500\u2500\u2500\u2500\u2500\u2500\u2500\u2500\u2500\u2500\u2500\u2500\u2500\u2500\u2500\u2500\u2500\u2500\u2500\u2500\u2500\u2500\n",
        "                 24                "
       ]
      }
     ],
     "prompt_number": 5
    },
    {
     "cell_type": "code",
     "collapsed": false,
     "input": [],
     "language": "python",
     "metadata": {},
     "outputs": []
    }
   ],
   "metadata": {}
  }
 ]
}