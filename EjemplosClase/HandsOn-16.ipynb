{
 "metadata": {
  "name": "",
  "signature": "sha256:18dba8679f238d8495e6c557a04f5e84418ad74050cd0064f310ff9b375c8989"
 },
 "nbformat": 3,
 "nbformat_minor": 0,
 "worksheets": [
  {
   "cells": [
    {
     "cell_type": "code",
     "collapsed": false,
     "input": [
      "import numpy as np\n",
      "import matplotlib.pyplot as plt\n",
      "%matplotlib inline"
     ],
     "language": "python",
     "metadata": {},
     "outputs": [],
     "prompt_number": 2
    },
    {
     "cell_type": "code",
     "collapsed": false,
     "input": [
      "N=32\n",
      "lattice=np.zeros((N, N))\n",
      "T=10.\n",
      "beta=1./T\n",
      "J=-1.\n",
      "def delta(i, j):\n",
      "    if i==j:\n",
      "        return 1.\n",
      "    else:\n",
      "        return 0.\n",
      "'''    \n",
      "def total_energy():\n",
      "    global lattice\n",
      "    return -sum(sum(lattice*(np.roll(lattice,1,axis=1)+\\\n",
      "                         np.roll(lattice,-1,axis=1)+\\\n",
      "                         np.roll(lattice,1,axis=0)+\\\n",
      "                         np.roll(lattice,-1,axis=0))))\n",
      "'''                         \n",
      "def block_energy(i, j):\n",
      "    global lattice\n",
      "    global N\n",
      "    global J\n",
      "    return J*(delta(lattice[i, j],lattice[(i+1)%N, j]) +\\\n",
      "              delta(lattice[i, j],lattice[(i-1)%N, j]) +\\\n",
      "              delta(lattice[i, j],lattice[i, (j+1)%N]) +\\\n",
      "              delta(lattice[i, j],lattice[i, (j-1)%N]))\n",
      "\n",
      "def flipone():\n",
      "    global lattice\n",
      "    global beta\n",
      "    global N\n",
      "    possibleStates=[0, 1, 2, 3, 4]\n",
      "    # Pick a random site\n",
      "    nx, ny= np.random.randint(0,N), np.random.randint(0,N)\n",
      "    possibleStates.remove(lattice[nx, ny])\n",
      "    # Calculate current energy of site and neighbors\n",
      "    en_i=block_energy(nx, ny)\n",
      "    # If it were flipped\n",
      "    en_f=-en_i\n",
      "    if en_f<en_i: # This could be simplified\n",
      "        lattice[nx, ny]=np.random.choice(possibleStates)\n",
      "    elif np.random.random()<min(1,np.exp(-beta*(en_f-en_i))):\n",
      "        lattice[nx, ny]=np.random.choice(possibleStates)\n",
      "\n",
      "def magnetization():\n",
      "    global lattice\n",
      "    global N\n",
      "    return float(len(lattice[lattice==0]))/N #sum(sum(lattice))/N**2\n"
     ],
     "language": "python",
     "metadata": {},
     "outputs": [],
     "prompt_number": 62
    },
    {
     "cell_type": "code",
     "collapsed": false,
     "input": [
      "print lattice\n",
      "flipone()\n",
      "print float(len(lattice[lattice==0]))/N**2\n",
      "magnetization()"
     ],
     "language": "python",
     "metadata": {},
     "outputs": [
      {
       "output_type": "stream",
       "stream": "stdout",
       "text": [
        "[[ 0.  0.  0. ...,  0.  0.  0.]\n",
        " [ 0.  0.  0. ...,  0.  0.  0.]\n",
        " [ 0.  0.  0. ...,  0.  0.  0.]\n",
        " ..., \n",
        " [ 0.  0.  0. ...,  0.  0.  0.]\n",
        " [ 0.  0.  0. ...,  0.  0.  0.]\n",
        " [ 0.  0.  0. ...,  0.  0.  0.]]\n",
        "1.0\n"
       ]
      },
      {
       "metadata": {},
       "output_type": "pyout",
       "prompt_number": 63,
       "text": [
        "32.0"
       ]
      }
     ],
     "prompt_number": 63
    },
    {
     "cell_type": "code",
     "collapsed": false,
     "input": [
      "%timeit flipone()"
     ],
     "language": "python",
     "metadata": {},
     "outputs": [
      {
       "output_type": "stream",
       "stream": "stdout",
       "text": [
        "100000 loops, best of 3: 6.82 \u00b5s per loop\n"
       ]
      }
     ],
     "prompt_number": 64
    },
    {
     "cell_type": "code",
     "collapsed": false,
     "input": [
      "q=5.\n",
      "magnetizaciones=[]\n",
      "lattice=np.zeros((N, N))\n",
      "numIter=int(1e6)\n",
      "for temp in np.linspace(0.6,1.1,16):\n",
      "    print temp,\n",
      "    T=temp\n",
      "    beta=1./T\n",
      "    mag=[]\n",
      "    for i in range(numIter):\n",
      "        flipone()\n",
      "        if i>numIter-100:\n",
      "            mag.append(magnetization())\n",
      "            m=np.mean(mag)\n",
      "            r=(q*m-1)/(q-1)\n",
      "    magnetizaciones.append([T, r])\n",
      "magnetizaciones=np.array(magnetizaciones)"
     ],
     "language": "python",
     "metadata": {},
     "outputs": [
      {
       "output_type": "stream",
       "stream": "stdout",
       "text": [
        "0.6 "
       ]
      },
      {
       "output_type": "stream",
       "stream": "stdout",
       "text": [
        "0.633333333333 "
       ]
      },
      {
       "output_type": "stream",
       "stream": "stdout",
       "text": [
        "0.666666666667 "
       ]
      },
      {
       "output_type": "stream",
       "stream": "stdout",
       "text": [
        "0.7 "
       ]
      },
      {
       "output_type": "stream",
       "stream": "stdout",
       "text": [
        "0.733333333333 "
       ]
      },
      {
       "output_type": "stream",
       "stream": "stdout",
       "text": [
        "0.766666666667 "
       ]
      },
      {
       "output_type": "stream",
       "stream": "stdout",
       "text": [
        "0.8 "
       ]
      },
      {
       "output_type": "stream",
       "stream": "stdout",
       "text": [
        "0.833333333333 "
       ]
      },
      {
       "output_type": "stream",
       "stream": "stdout",
       "text": [
        "0.866666666667 "
       ]
      },
      {
       "output_type": "stream",
       "stream": "stdout",
       "text": [
        "0.9 "
       ]
      },
      {
       "output_type": "stream",
       "stream": "stdout",
       "text": [
        "0.933333333333 "
       ]
      },
      {
       "output_type": "stream",
       "stream": "stdout",
       "text": [
        "0.966666666667 "
       ]
      },
      {
       "output_type": "stream",
       "stream": "stdout",
       "text": [
        "1.0 "
       ]
      },
      {
       "output_type": "stream",
       "stream": "stdout",
       "text": [
        "1.03333333333 "
       ]
      },
      {
       "output_type": "stream",
       "stream": "stdout",
       "text": [
        "1.06666666667 "
       ]
      },
      {
       "output_type": "stream",
       "stream": "stdout",
       "text": [
        "1.1\n"
       ]
      }
     ],
     "prompt_number": 65
    },
    {
     "cell_type": "code",
     "collapsed": false,
     "input": [
      "print magnetizaciones"
     ],
     "language": "python",
     "metadata": {},
     "outputs": [
      {
       "output_type": "stream",
       "stream": "stdout",
       "text": [
        "[[  0.6         39.75      ]\n",
        " [  0.63333333  39.75      ]\n",
        " [  0.66666667  39.75      ]\n",
        " [  0.7         39.75      ]\n",
        " [  0.73333333  39.7109375 ]\n",
        " [  0.76666667  39.75      ]\n",
        " [  0.8         39.7109375 ]\n",
        " [  0.83333333  39.7109375 ]\n",
        " [  0.86666667  39.75      ]\n",
        " [  0.9         39.75      ]\n",
        " [  0.93333333  39.75      ]\n",
        " [  0.96666667  39.75      ]\n",
        " [  1.          39.7109375 ]\n",
        " [  1.03333333  39.59375   ]\n",
        " [  1.06666667  39.6328125 ]\n",
        " [  1.1         39.671875  ]]\n"
       ]
      }
     ],
     "prompt_number": 66
    },
    {
     "cell_type": "code",
     "collapsed": false,
     "input": [
      "Magnet, ax=plt.subplots(1, 1, figsize=(10, 7))\n",
      "#ax.set_ylim(-0.1, 1)\n",
      "#ax.set_xlim(1, 8)\n",
      "ax.scatter(magnetizaciones[:, 0], magnetizaciones[:, 1], s=50)\n",
      "ax.plot(magnetizaciones[:, 0], magnetizaciones[:, 1], ls=\"-.\", lw=2)\n",
      "#ax.vlines(4.51, -1, 1, color=\"r\")\n",
      "#ax.plot(np.linspace(1, 8, 10), np.zeros(10))\n",
      "ax.set_title(u\"Ising 3D - Magnetizaci\u00f3n\\nRed c\u00fabica de $20^3$ \\\n",
      "- Condiciones de frontera peri\u00f3dicas\\n$10^6$ iteraciones para cada temperatura\")\n",
      "ax.set_ylabel(\"M/N\")\n",
      "ax.set_xlabel(\"T (J)\")"
     ],
     "language": "python",
     "metadata": {},
     "outputs": [
      {
       "metadata": {},
       "output_type": "pyout",
       "prompt_number": 67,
       "text": [
        "<matplotlib.text.Text at 0x9b4c2b0>"
       ]
      },
      {
       "metadata": {},
       "output_type": "display_data",
       "png": "[encoded data removed]",
       "text": [
        "<matplotlib.figure.Figure at 0xc46dda0>"
       ]
      }
     ],
     "prompt_number": 67
    },
    {
     "cell_type": "code",
     "collapsed": false,
     "input": [],
     "language": "python",
     "metadata": {},
     "outputs": []
    }
   ],
   "metadata": {}
  }
 ]
}