{
 "metadata": {
  "name": "",
  "signature": "sha256:b5681b7da48d17419d3402e097b2ba2d46e5d77416e677a3f42329a316ce8d45"
 },
 "nbformat": 3,
 "nbformat_minor": 0,
 "worksheets": [
  {
   "cells": [
    {
     "cell_type": "code",
     "collapsed": false,
     "input": [
      "#%pylab inline\n",
      "import numpy as np\n",
      "import matplotlib.pyplot as plt\n",
      "from scipy import stats\n",
      "import csv\n",
      "from scipy.optimize import *\n",
      "import math\n",
      "import scipy.misc\n",
      "from scipy import integrate\n",
      "from scipy.fftpack import *\n",
      "from sympy import *"
     ],
     "language": "python",
     "metadata": {},
     "outputs": [],
     "prompt_number": 1
    },
    {
     "cell_type": "code",
     "collapsed": false,
     "input": [
      "'''\n",
      "slope, intercept, r_value, p_value, std_err = linregress(x,y)\n",
      "fitT=polyfit(x, y, orden)\n",
      "fitpars, covmat = curve_fit(Func, x, y)\n",
      "'''"
     ],
     "language": "python",
     "metadata": {},
     "outputs": [
      {
       "metadata": {},
       "output_type": "pyout",
       "prompt_number": 2,
       "text": [
        "'\\nslope, intercept, r_value, p_value, std_err = linregress(x,y)\\nfitT=polyfit(x, y, orden)\\nfitpars, covmat = curve_fit(Func, x, y)\\n'"
       ]
      }
     ],
     "prompt_number": 2
    },
    {
     "cell_type": "code",
     "collapsed": false,
     "input": [
      "\n",
      "def Simpson(func, limi, lims, ninter):\n",
      "    interval=np.linspace(limi, lims, 3*ninter+1)\n",
      "    h=(lims-limi)/(3.*ninter)\n",
      "    SE=(3*h/8)*sum(func(interval[:-3:3]) + 3.*func(interval[1:-2:3]) + 3.*func(interval[2:-1:3]) + func(interval[3::3]))\n",
      "    return SE"
     ],
     "language": "python",
     "metadata": {},
     "outputs": [],
     "prompt_number": 61
    },
    {
     "cell_type": "code",
     "collapsed": false,
     "input": [
      "def funcion(x):\n",
      "    return x**2+x**4+x**10"
     ],
     "language": "python",
     "metadata": {},
     "outputs": [],
     "prompt_number": 68
    },
    {
     "cell_type": "code",
     "collapsed": false,
     "input": [
      "print Simpson(funcion, 0., 1., 3)"
     ],
     "language": "python",
     "metadata": {},
     "outputs": [
      {
       "output_type": "stream",
       "stream": "stdout",
       "text": [
        "0.625499892788\n"
       ]
      }
     ],
     "prompt_number": 69
    },
    {
     "cell_type": "code",
     "collapsed": false,
     "input": [
      "print 103./165."
     ],
     "language": "python",
     "metadata": {},
     "outputs": [
      {
       "output_type": "stream",
       "stream": "stdout",
       "text": [
        "0.624242424242\n"
       ]
      }
     ],
     "prompt_number": 70
    },
    {
     "cell_type": "code",
     "collapsed": false,
     "input": [],
     "language": "python",
     "metadata": {},
     "outputs": []
    }
   ],
   "metadata": {}
  }
 ]
}