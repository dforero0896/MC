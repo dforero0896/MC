{
 "metadata": {
  "name": "",
  "signature": "sha256:4ba9c85ed206a243d8f0df6fb67b74e1f96f930faf652ff63d0af9b4f303afe3"
 },
 "nbformat": 3,
 "nbformat_minor": 0,
 "worksheets": [
  {
   "cells": [
    {
     "cell_type": "code",
     "collapsed": false,
     "input": [
      "%pylab inline\n",
      "#import numpy as np\n",
      "#import matplotlib.pyplot as plt\n",
      "from scipy import stats\n",
      "import csv\n",
      "from scipy.optimize import curve_fit\n",
      "import math\n",
      "import scipy.misc\n",
      "from scipy.stats import linregress\n",
      "from scipy.optimize import root\n"
     ],
     "language": "python",
     "metadata": {},
     "outputs": [
      {
       "output_type": "stream",
       "stream": "stdout",
       "text": [
        "Populating the interactive namespace from numpy and matplotlib\n"
       ]
      }
     ],
     "prompt_number": 29
    },
    {
     "cell_type": "code",
     "collapsed": false,
     "input": [
      "x=np.linspace(1000, 100000, 10000)\n",
      "def Lagrangiano(a):\n",
      "    f=((893.2*10**20)/a**2)+((1.898*10**27)/((1.898*10**27)+(893.2*10**20))*(421.6*10**3)-a)*((1.898*10**27)+893.2*10**20)/((421.6*10**3)**3)-((1.898*10**27)/((421.6*10**3)-a)**2)\n",
      "    return f\n",
      "\n",
      "\n",
      "plot(x, Lagrangiano(x))\n",
      "sol=root(Lagrangiano, 10000)\n",
      "print sol"
     ],
     "language": "python",
     "metadata": {},
     "outputs": [
      {
       "output_type": "stream",
       "stream": "stdout",
       "text": [
        "  status: 1\n",
        " success: True\n",
        "     qtf: array([-37666.])\n",
        "    nfev: 7\n",
        "       r: array([  2.35820578e+11])\n",
        "     fun: array([ 0.])\n",
        "       x: array([ 10465.00884041])\n",
        " message: 'The solution converged.'\n",
        "    fjac: array([[-1.]])\n"
       ]
      },
      {
       "metadata": {},
       "output_type": "display_data",
       "png": "[encoded data removed]",
       "text": [
        "<matplotlib.figure.Figure at 0x164a7d30>"
       ]
      }
     ],
     "prompt_number": 56
    },
    {
     "cell_type": "code",
     "collapsed": false,
     "input": [
      "h1=1\n",
      "d1=1\n",
      "L1=3\n",
      "x1=np.linspace(0, L1, 100)"
     ],
     "language": "python",
     "metadata": {},
     "outputs": [],
     "prompt_number": 19
    },
    {
     "cell_type": "code",
     "collapsed": false,
     "input": [
      "def Fourier(h, L, d, x, orden):\n",
      "    m=1\n",
      "    total=0  \n",
      "    while m<orden:\n",
      "        a =((2*h*L**2)/((m)**2*np.pi**2*d*(L-d)))*np.sin(((m)*np.pi*d)/L)*np.sin(m*np.pi*x/L)\n",
      "        total+=a\n",
      "        m += 1\n",
      "    return total\n",
      "figsize=(10, 10)\n",
      "plt.plot(x1, Fourier(h1, L1, d1, x1, 1000), label=\"100 iteraciones\")\n",
      "plt.legend()\n",
      "\n"
     ],
     "language": "python",
     "metadata": {},
     "outputs": [
      {
       "metadata": {},
       "output_type": "pyout",
       "prompt_number": 57,
       "text": [
        "<matplotlib.legend.Legend at 0x16a54588>"
       ]
      },
      {
       "metadata": {},
       "output_type": "display_data",
       "png": "[encoded data removed]",
       "text": [
        "<matplotlib.figure.Figure at 0x13f23b38>"
       ]
      }
     ],
     "prompt_number": 57
    },
    {
     "cell_type": "code",
     "collapsed": false,
     "input": [
      "def func(x):\n",
      "    if (x >= 0 and x <= 1):\n",
      "        return x\n",
      "    elif(x>1 and x <= 3):\n",
      "        return (-1/2)*x - 3\n",
      "    "
     ],
     "language": "python",
     "metadata": {},
     "outputs": [],
     "prompt_number": 61
    },
    {
     "cell_type": "code",
     "collapsed": false,
     "input": [
      "x=np.linspace(0, 3, 100)\n",
      "#plot(x, func(x))"
     ],
     "language": "python",
     "metadata": {},
     "outputs": [],
     "prompt_number": 64
    },
    {
     "cell_type": "code",
     "collapsed": false,
     "input": [],
     "language": "python",
     "metadata": {},
     "outputs": []
    }
   ],
   "metadata": {}
  }
 ]
}