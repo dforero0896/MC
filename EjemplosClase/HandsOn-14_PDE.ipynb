{
 "metadata": {
  "name": "",
  "signature": "sha256:6b03baf430b3b690cb5d35b99f35105539b3ee5b38ae35dfbddd4d7acd41a1cc"
 },
 "nbformat": 3,
 "nbformat_minor": 0,
 "worksheets": [
  {
   "cells": [
    {
     "cell_type": "code",
     "collapsed": false,
     "input": [
      "import numpy as np\n",
      "import matplotlib as mpl\n",
      "import matplotlib.pyplot as plt\n",
      "#%matplotlib inline"
     ],
     "language": "python",
     "metadata": {},
     "outputs": [],
     "prompt_number": 1
    },
    {
     "cell_type": "code",
     "collapsed": false,
     "input": [
      "tmin=0\n",
      "tmax=.003105882\n",
      "xmin=-0.33  # en metros\n",
      "xmax=0.33   # en metros\n",
      "Nt=1000\n",
      "Nl=100\n",
      "dt=(tmax-tmin)/Nt\n",
      "dx=(xmax-xmin)/Nl\n",
      "v=425. # m/s\n",
      "r=v*dt/dx\n",
      "print \"r=\",r"
     ],
     "language": "python",
     "metadata": {},
     "outputs": [
      {
       "output_type": "stream",
       "stream": "stdout",
       "text": [
        "r= 0.199999977273\n"
       ]
      }
     ],
     "prompt_number": 2
    },
    {
     "cell_type": "code",
     "collapsed": false,
     "input": [
      "#fija en los extremos\n",
      "xcoords=np.linspace(xmin,xmax,Nl)\n",
      "\n",
      "numPoints=10000\n",
      "\n",
      "\n",
      "\n",
      "\n",
      "tcoords=np.linspace(tmin,tmax,Nt)\n",
      "chord=np.zeros((Nt,Nl))\n",
      "# fijar la condici\u00f3n inicial\n",
      "std=0.05\n",
      "chord[0]=0.01*np.exp(-xcoords**2/(2*std**2))\n",
      "chord[0,0]=0\n",
      "#chord[0,-1]=0\n",
      "chord[1]=chord[0]+r**2/2.*(np.roll(chord[0],1)+np.roll(chord[0],-1)-2*chord[0])\n",
      "plt.figure(figsize=(10,3))\n",
      "plt.plot(xcoords,chord[0])\n",
      "plt.show()\n",
      "for i in range(2,Nt):\n",
      "    ppchord=chord[i-2]\n",
      "    pchord=chord[i-1]\n",
      "    h = (xmax-xmin)/(numPoints-1) # Este es el paso del arreglo x\n",
      "    yforward = np.roll(xcoords,-1) # toma el arreglo y y lo mueve una posici\u00f3n hacia la izquierda\n",
      "    ybackward = np.roll(xcoords,1) # y esto una posici\u00f3n a la derecha\n",
      "    # y finalmente usando diferencias centrales.\n",
      "    dy3 = (yforward-ybackward)/(2.*h)\n",
      "    # La primera y la \u00faltima no tienen significado\n",
      "    dy3=dy3[1:-1]\n",
      "    chord[i]=2*(1-r**2)*pchord-ppchord+r**2*(np.roll(pchord,1)+np.roll(pchord,-1))\n",
      "    chord[i,0]=0\n",
      "    chord[i,-1]=0\n",
      "    dy3[-1]=0\n",
      "plt.figure(figsize=(10,10))\n",
      "plt.pcolor(xcoords,tcoords,chord,cmap='gist_heat')\n",
      "plt.xlim(xmin,xmax)\n",
      "plt.ylim(tmin,tmax)\n",
      "plt.show()"
     ],
     "language": "python",
     "metadata": {},
     "outputs": [],
     "prompt_number": 12
    },
    {
     "cell_type": "code",
     "collapsed": false,
     "input": [
      "from matplotlib import animation\n",
      "\n",
      "fig=plt.figure(figsize=(12,1))\n",
      "ax = fig.add_subplot(111, autoscale_on=False)\n",
      "chordplot,=ax.plot([],[],\"o\",ms=2)\n",
      "plt.xlim(xmin,xmax)\n",
      "plt.ylim(-0.01,0.01)\n",
      "\n",
      "time_template = 't = %.2f'\n",
      "time_text = ax.text(0.5, 0.8, 'nada',transform=ax.transAxes)\n",
      "\n",
      "def animate(i):\n",
      "    chordplot.set_data(xcoords,chord[3*i])\n",
      "    time_text.set_text(time_template%(i*dt*1000)+\"ms\")\n",
      "    return chordplot,time_text\n",
      "\n",
      "animacion = animation.FuncAnimation(fig, animate, np.arange(1,len(chord)/3),interval=1, blit=False)\n",
      "plt.show()"
     ],
     "language": "python",
     "metadata": {},
     "outputs": [],
     "prompt_number": 13
    },
    {
     "cell_type": "code",
     "collapsed": false,
     "input": [],
     "language": "python",
     "metadata": {},
     "outputs": []
    }
   ],
   "metadata": {}
  }
 ]
}