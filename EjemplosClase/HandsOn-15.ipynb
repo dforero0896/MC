{
 "metadata": {
  "name": "",
  "signature": "sha256:67b9b00c47d36679d90ecd86dc83e4d6451e71b6a661e9c38aa6d14c5fa86d7a"
 },
 "nbformat": 3,
 "nbformat_minor": 0,
 "worksheets": [
  {
   "cells": [
    {
     "cell_type": "code",
     "collapsed": false,
     "input": [
      "import numpy as np\n",
      "import matplotlib.pyplot as plt\n",
      "%matplotlib inline"
     ],
     "language": "python",
     "metadata": {},
     "outputs": [],
     "prompt_number": 1
    },
    {
     "cell_type": "code",
     "collapsed": false,
     "input": [
      "N = 20 #El n\u00famero de colombianos.\n",
      "P= 10 #El n\u00famero de peruanos.\n",
      "Tot=N+P #El total de puestos en la mesa.\n",
      "sep = 2*np.pi/Tot #La separaci\u00f3n en radianes entre puestos.\n",
      "col=np.ones(N)\n",
      "per=np.zeros(P)\n",
      "mesa=np.append(per, col)\n",
      "np.random.shuffle(mesa)\n",
      "print mesa\n",
      "\n",
      "cFav=float(len(mesa[(mesa==0) & (np.roll(mesa, -1)==1) & (np.roll(mesa, 1)==1)]))\n",
      "prob=cFav/P\n",
      "print prob"
     ],
     "language": "python",
     "metadata": {},
     "outputs": [
      {
       "output_type": "stream",
       "stream": "stdout",
       "text": [
        "[ 1.  1.  0.  1.  0.  1.  0.  1.  1.  0.  1.  1.  0.  1.  1.  1.  1.  1.\n",
        "  1.  1.  1.  1.  1.  0.  1.  0.  1.  0.  0.  0.]\n",
        "0.7\n"
       ]
      }
     ],
     "prompt_number": 19
    },
    {
     "cell_type": "code",
     "collapsed": false,
     "input": [
      "meanProbs=[]\n",
      "for i in range(100):\n",
      "    N=i\n",
      "    col=np.ones(N)\n",
      "    per=np.zeros(10)\n",
      "    mesa=np.append(per, col)\n",
      "    prob=[]\n",
      "    for j in range(10000):\n",
      "        np.random.shuffle(mesa)\n",
      "        cFav=float(len(mesa[(mesa==0) & (np.roll(mesa, -1)==1) & (np.roll(mesa, 1)==1)]))\n",
      "        prob.append(cFav/10)\n",
      "    meanProbs.append(np.mean(prob))\n"
     ],
     "language": "python",
     "metadata": {},
     "outputs": [],
     "prompt_number": 54
    },
    {
     "cell_type": "code",
     "collapsed": false,
     "input": [
      "theorProbs=[]\n",
      "for i in range(100):\n",
      "    N=float(i)\n",
      "    theorProbs.append((N/(N+10-1))*((N-1)/(N+10-2)))\n"
     ],
     "language": "python",
     "metadata": {},
     "outputs": [],
     "prompt_number": 55
    },
    {
     "cell_type": "code",
     "collapsed": false,
     "input": [
      "plt.figure(figsize=(10, 7))\n",
      "plt.scatter(np.arange(100), meanProbs, s=8, label=\"Experimental\")\n",
      "plt.plot(np.arange(100), theorProbs, c=\"red\", label=u\"Te\u00f3rico\", lw=3, ls=\":\")\n",
      "plt.xlim(0, 100)\n",
      "plt.ylim(0, 1)\n",
      "plt.legend()"
     ],
     "language": "python",
     "metadata": {},
     "outputs": [
      {
       "metadata": {},
       "output_type": "pyout",
       "prompt_number": 63,
       "text": [
        "<matplotlib.legend.Legend at 0xdd05eb8>"
       ]
      },
      {
       "metadata": {},
       "output_type": "display_data",
       "png": "[encoded data removed]",
       "text": [
        "<matplotlib.figure.Figure at 0xc9f22e8>"
       ]
      }
     ],
     "prompt_number": 63
    },
    {
     "cell_type": "code",
     "collapsed": false,
     "input": [],
     "language": "python",
     "metadata": {},
     "outputs": []
    }
   ],
   "metadata": {}
  }
 ]
}