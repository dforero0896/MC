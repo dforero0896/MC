{
 "metadata": {
  "name": "",
  "signature": "sha256:6a36328cfe4dfd9a24b84bf7027f471a2acdd18d0b1628474dda1b99a8eaa40c"
 },
 "nbformat": 3,
 "nbformat_minor": 0,
 "worksheets": [
  {
   "cells": [
    {
     "cell_type": "code",
     "collapsed": false,
     "input": [
      "%pylab inline\n",
      "import numpy as np\n",
      "import matplotlib.pyplot as plt\n",
      "from scipy import stats\n",
      "import csv\n",
      "from scipy.optimize import curve_fit\n",
      "import math\n",
      "import scipy.misc\n",
      "from scipy.stats import linregress\n",
      "from scipy import interpolate"
     ],
     "language": "python",
     "metadata": {},
     "outputs": [
      {
       "output_type": "stream",
       "stream": "stdout",
       "text": [
        "Populating the interactive namespace from numpy and matplotlib\n"
       ]
      }
     ],
     "prompt_number": 2
    },
    {
     "cell_type": "code",
     "collapsed": false,
     "input": [
      "data = loadtxt(\"polyunkown.csv\", delimiter=',', dtype=None, skiprows=0)\n",
      "corrcoef(data[:, 0], data[:, 1])\n"
     ],
     "language": "python",
     "metadata": {},
     "outputs": [
      {
       "metadata": {},
       "output_type": "pyout",
       "prompt_number": 27,
       "text": [
        "array([[ 1.        ,  0.61217733],\n",
        "       [ 0.61217733,  1.        ]])"
       ]
      }
     ],
     "prompt_number": 27
    },
    {
     "cell_type": "code",
     "collapsed": false,
     "input": [
      "'''\n",
      "data = loadtxt(\"File.csv\", delimiter=',', dtype=None, skiprows=1)\n",
      "slope, intercept, r_value, p_value, std_err = linregress(x,y)\n",
      "fitT=polyfit(x, y, orden)\n",
      "fitpars, covmat = curve_fit(Func, x, y)\n",
      "'''"
     ],
     "language": "python",
     "metadata": {},
     "outputs": [
      {
       "metadata": {},
       "output_type": "pyout",
       "prompt_number": 28,
       "text": [
        "'\\ndata = loadtxt(\"File.csv\", delimiter=\\',\\', dtype=None, skiprows=1)\\nslope, intercept, r_value, p_value, std_err = linregress(x,y)\\nfitT=polyfit(x, y, orden)\\nfitpars, covmat = curve_fit(Func, x, y)\\n'"
       ]
      }
     ],
     "prompt_number": 28
    },
    {
     "cell_type": "code",
     "collapsed": false,
     "input": [
      "x=(10**-2)*np.asarray([2.3, 2.8,3.2,3.7,4.3])\n",
      "y=(10**-6)*np.asarray([34745, 19689, 12594, 7982, 5822])\n",
      "t=(10**-2)*np.linspace(1, 5, 1000)\n",
      "def B(x, p1):\n",
      "    return p1/x**3\n",
      "print type(x)"
     ],
     "language": "python",
     "metadata": {},
     "outputs": [
      {
       "output_type": "stream",
       "stream": "stdout",
       "text": [
        "<type 'numpy.ndarray'>\n"
       ]
      }
     ],
     "prompt_number": 85
    },
    {
     "cell_type": "code",
     "collapsed": false,
     "input": [
      "scatter (x, y)\n",
      "fitpars, covmat = curve_fit(B, x, y)\n",
      "plot(t, B(t, fitpars[0]))\n",
      "print fitpars\n"
     ],
     "language": "python",
     "metadata": {},
     "outputs": [
      {
       "output_type": "stream",
       "stream": "stdout",
       "text": [
        "[  4.23658993e-07]\n"
       ]
      },
      {
       "metadata": {},
       "output_type": "display_data",
       "png": "[encoded data removed]",
       "text": [
        "<matplotlib.figure.Figure at 0x15e82b38>"
       ]
      }
     ],
     "prompt_number": 86
    },
    {
     "cell_type": "code",
     "collapsed": false,
     "input": [
      "m=4*np.pi*fitpars[0]/(2*4*np.pi*10**-7)\n",
      "print m"
     ],
     "language": "python",
     "metadata": {},
     "outputs": [
      {
       "output_type": "stream",
       "stream": "stdout",
       "text": [
        "2.11829496446\n"
       ]
      }
     ],
     "prompt_number": 76
    },
    {
     "cell_type": "code",
     "collapsed": false,
     "input": [
      "Tabla=np.zeros([100, 2])\n",
      "xn=(10**-2)*np.linspace(2.3, 4.3, 100)\n",
      "bn=B(xn, fitpars[0])\n",
      "Tabla[:, 0]=xn*10**2\n",
      "Tabla[:, 1]=bn*10**6\n",
      "print Tabla"
     ],
     "language": "python",
     "metadata": {},
     "outputs": [
      {
       "output_type": "stream",
       "stream": "stdout",
       "text": [
        "[[  2.30000000e+00   3.48203331e+04]\n",
        " [  2.32020202e+00   3.39186866e+04]\n",
        " [  2.34040404e+00   3.30479034e+04]\n",
        " [  2.36060606e+00   3.22066739e+04]\n",
        " [  2.38080808e+00   3.13937551e+04]\n",
        " [  2.40101010e+00   3.06079658e+04]\n",
        " [  2.42121212e+00   2.98481839e+04]\n",
        " [  2.44141414e+00   2.91133420e+04]\n",
        " [  2.46161616e+00   2.84024253e+04]\n",
        " [  2.48181818e+00   2.77144678e+04]\n",
        " [  2.50202020e+00   2.70485503e+04]\n",
        " [  2.52222222e+00   2.64037971e+04]\n",
        " [  2.54242424e+00   2.57793740e+04]\n",
        " [  2.56262626e+00   2.51744860e+04]\n",
        " [  2.58282828e+00   2.45883751e+04]\n",
        " [  2.60303030e+00   2.40203183e+04]\n",
        " [  2.62323232e+00   2.34696258e+04]\n",
        " [  2.64343434e+00   2.29356391e+04]\n",
        " [  2.66363636e+00   2.24177295e+04]\n",
        " [  2.68383838e+00   2.19152965e+04]\n",
        " [  2.70404040e+00   2.14277662e+04]\n",
        " [  2.72424242e+00   2.09545903e+04]\n",
        " [  2.74444444e+00   2.04952442e+04]\n",
        " [  2.76464646e+00   2.00492264e+04]\n",
        " [  2.78484848e+00   1.96160570e+04]\n",
        " [  2.80505051e+00   1.91952766e+04]\n",
        " [  2.82525253e+00   1.87864454e+04]\n",
        " [  2.84545455e+00   1.83891423e+04]\n",
        " [  2.86565657e+00   1.80029637e+04]\n",
        " [  2.88585859e+00   1.76275231e+04]\n",
        " [  2.90606061e+00   1.72624498e+04]\n",
        " [  2.92626263e+00   1.69073883e+04]\n",
        " [  2.94646465e+00   1.65619979e+04]\n",
        " [  2.96666667e+00   1.62259515e+04]\n",
        " [  2.98686869e+00   1.58989352e+04]\n",
        " [  3.00707071e+00   1.55806478e+04]\n",
        " [  3.02727273e+00   1.52707998e+04]\n",
        " [  3.04747475e+00   1.49691135e+04]\n",
        " [  3.06767677e+00   1.46753219e+04]\n",
        " [  3.08787879e+00   1.43891685e+04]\n",
        " [  3.10808081e+00   1.41104065e+04]\n",
        " [  3.12828283e+00   1.38387989e+04]\n",
        " [  3.14848485e+00   1.35741176e+04]\n",
        " [  3.16868687e+00   1.33161432e+04]\n",
        " [  3.18888889e+00   1.30646647e+04]\n",
        " [  3.20909091e+00   1.28194788e+04]\n",
        " [  3.22929293e+00   1.25803900e+04]\n",
        " [  3.24949495e+00   1.23472099e+04]\n",
        " [  3.26969697e+00   1.21197571e+04]\n",
        " [  3.28989899e+00   1.18978568e+04]\n",
        " [  3.31010101e+00   1.16813407e+04]\n",
        " [  3.33030303e+00   1.14700463e+04]\n",
        " [  3.35050505e+00   1.12638173e+04]\n",
        " [  3.37070707e+00   1.10625028e+04]\n",
        " [  3.39090909e+00   1.08659572e+04]\n",
        " [  3.41111111e+00   1.06740401e+04]\n",
        " [  3.43131313e+00   1.04866162e+04]\n",
        " [  3.45151515e+00   1.03035546e+04]\n",
        " [  3.47171717e+00   1.01247292e+04]\n",
        " [  3.49191919e+00   9.95001819e+03]\n",
        " [  3.51212121e+00   9.77930387e+03]\n",
        " [  3.53232323e+00   9.61247263e+03]\n",
        " [  3.55252525e+00   9.44941469e+03]\n",
        " [  3.57272727e+00   9.29002395e+03]\n",
        " [  3.59292929e+00   9.13419792e+03]\n",
        " [  3.61313131e+00   8.98183749e+03]\n",
        " [  3.63333333e+00   8.83284684e+03]\n",
        " [  3.65353535e+00   8.68713333e+03]\n",
        " [  3.67373737e+00   8.54460734e+03]\n",
        " [  3.69393939e+00   8.40518220e+03]\n",
        " [  3.71414141e+00   8.26877403e+03]\n",
        " [  3.73434343e+00   8.13530166e+03]\n",
        " [  3.75454545e+00   8.00468654e+03]\n",
        " [  3.77474747e+00   7.87685262e+03]\n",
        " [  3.79494949e+00   7.75172626e+03]\n",
        " [  3.81515152e+00   7.62923616e+03]\n",
        " [  3.83535354e+00   7.50931326e+03]\n",
        " [  3.85555556e+00   7.39189065e+03]\n",
        " [  3.87575758e+00   7.27690350e+03]\n",
        " [  3.89595960e+00   7.16428900e+03]\n",
        " [  3.91616162e+00   7.05398627e+03]\n",
        " [  3.93636364e+00   6.94593630e+03]\n",
        " [  3.95656566e+00   6.84008185e+03]\n",
        " [  3.97676768e+00   6.73636745e+03]\n",
        " [  3.99696970e+00   6.63473930e+03]\n",
        " [  4.01717172e+00   6.53514518e+03]\n",
        " [  4.03737374e+00   6.43753448e+03]\n",
        " [  4.05757576e+00   6.34185807e+03]\n",
        " [  4.07777778e+00   6.24806825e+03]\n",
        " [  4.09797980e+00   6.15611877e+03]\n",
        " [  4.11818182e+00   6.06596470e+03]\n",
        " [  4.13838384e+00   5.97756244e+03]\n",
        " [  4.15858586e+00   5.89086964e+03]\n",
        " [  4.17878788e+00   5.80584518e+03]\n",
        " [  4.19898990e+00   5.72244912e+03]\n",
        " [  4.21919192e+00   5.64064266e+03]\n",
        " [  4.23939394e+00   5.56038811e+03]\n",
        " [  4.25959596e+00   5.48164883e+03]\n",
        " [  4.27979798e+00   5.40438925e+03]\n",
        " [  4.30000000e+00   5.32857475e+03]]\n"
       ]
      }
     ],
     "prompt_number": 111
    },
    {
     "cell_type": "code",
     "collapsed": false,
     "input": [],
     "language": "python",
     "metadata": {},
     "outputs": [],
     "prompt_number": 66
    },
    {
     "cell_type": "code",
     "collapsed": false,
     "input": [],
     "language": "python",
     "metadata": {},
     "outputs": []
    }
   ],
   "metadata": {}
  }
 ]
}