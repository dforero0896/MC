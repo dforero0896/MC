{
 "metadata": {
  "name": "",
  "signature": "sha256:3cd59f788c93eed24f741730c39f5273a225c84324a70400a0ef9dbc26cebc94"
 },
 "nbformat": 3,
 "nbformat_minor": 0,
 "worksheets": [
  {
   "cells": [
    {
     "cell_type": "code",
     "collapsed": false,
     "input": [
      "%pylab inline\n",
      "import math\n"
     ],
     "language": "python",
     "metadata": {},
     "outputs": [
      {
       "output_type": "stream",
       "stream": "stdout",
       "text": [
        "Populating the interactive namespace from numpy and matplotlib\n"
       ]
      }
     ],
     "prompt_number": 2
    },
    {
     "cell_type": "heading",
     "level": 6,
     "metadata": {},
     "source": [
      "import turtle\n",
      " \n",
      "koch_flake = \"FRFRF\"\n",
      "iterations = 1\n",
      " \n",
      "for i in range(iterations):\n",
      "    koch_flake = koch_flake.replace(\"F\",\"FLFRFLF\")\n",
      " \n",
      "turtle.down()\n",
      " \n",
      "for move in koch_flake:\n",
      "    if move == \"F\":\n",
      "        turtle.forward(100.0 / (3 ** (iterations - 1)))\n",
      "    elif move == \"L\":\n",
      "        turtle.left(60)\n",
      "    elif move == \"R\":\n",
      "        turtle.right(120)"
     ]
    },
    {
     "cell_type": "code",
     "collapsed": false,
     "input": [],
     "language": "python",
     "metadata": {},
     "outputs": []
    },
    {
     "cell_type": "code",
     "collapsed": false,
     "input": [
      "inicialx=np.asarray([0, 1, 2, 0])\n",
      "inicialy=np.asarray([0, 1, 0, 0])"
     ],
     "language": "python",
     "metadata": {},
     "outputs": [],
     "prompt_number": 5
    },
    {
     "cell_type": "code",
     "collapsed": true,
     "input": [
      "plot(inicialx, inicialy)"
     ],
     "language": "python",
     "metadata": {},
     "outputs": [
      {
       "metadata": {},
       "output_type": "pyout",
       "prompt_number": 6,
       "text": [
        "[<matplotlib.lines.Line2D at 0x9c119e8>]"
       ]
      },
      {
       "metadata": {},
       "output_type": "display_data",
       "png": "[encoded data removed]",
       "text": [
        "<matplotlib.figure.Figure at 0x9963b70>"
       ]
      }
     ],
     "prompt_number": 6
    },
    {
     "cell_type": "code",
     "collapsed": false,
     "input": [],
     "language": "python",
     "metadata": {},
     "outputs": []
    }
   ],
   "metadata": {}
  }
 ]
}