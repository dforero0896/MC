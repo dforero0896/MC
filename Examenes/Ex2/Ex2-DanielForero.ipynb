{
 "metadata": {
  "name": "",
  "signature": "sha256:c3f8d06c5effd4729d43f2a46a27e60e0eb3edef1ce5fb63fdcd37f66a74d194"
 },
 "nbformat": 3,
 "nbformat_minor": 0,
 "worksheets": [
  {
   "cells": [
    {
     "cell_type": "code",
     "collapsed": false,
     "input": [
      "from scipy.io import wavfile \n",
      "import numpy as np\n",
      "import matplotlib.pyplot as plt\n",
      "%matplotlib inline\n",
      "from scipy import stats\n",
      "import csv\n",
      "from scipy.optimize import curve_fit\n",
      "import math\n",
      "import scipy.misc\n",
      "from scipy.stats import linregress\n",
      "from scipy import interpolate\n",
      "from scipy.fftpack import *"
     ],
     "language": "python",
     "metadata": {},
     "outputs": [],
     "prompt_number": 109
    },
    {
     "cell_type": "code",
     "collapsed": false,
     "input": [
      "data = np.genfromtxt(\"ring.dft\", dtype=complex)\n",
      "FFTsong=data\n",
      "samplerate=22050 \n",
      "print FFTsong"
     ],
     "language": "python",
     "metadata": {},
     "outputs": [
      {
       "output_type": "stream",
       "stream": "stdout",
       "text": [
        "[-648062.00000000     +0.j         -248017.89136691+225018.34766216j\n",
        " -848679.46623416-320446.6553453j  ...,  237525.42917303-154187.87171057j\n",
        " -848679.46623416+320446.6553453j  -248017.89136691-225018.34766216j]\n"
       ]
      }
     ],
     "prompt_number": 110
    },
    {
     "cell_type": "code",
     "collapsed": false,
     "input": [
      "x=np.linspace(0, len(FFTsong), len(FFTsong))\n",
      "song = ifft(FFTsong)\n",
      "song=np.int16(song)\n",
      "wavfile.write(\"song_ex_1.wav\",22050 ,song)\n",
      "print x"
     ],
     "language": "python",
     "metadata": {},
     "outputs": [
      {
       "output_type": "stream",
       "stream": "stdout",
       "text": [
        "[  0.00000000e+00   1.00000804e+00   2.00001608e+00 ...,   1.24393000e+05\n",
        "   1.24394000e+05   1.24395000e+05]\n"
       ]
      }
     ],
     "prompt_number": 111
    },
    {
     "cell_type": "code",
     "collapsed": false,
     "input": [
      "interpolacion=scipy.interpolate.interp1d(x, song, kind=\"zero\")"
     ],
     "language": "python",
     "metadata": {},
     "outputs": [],
     "prompt_number": 112
    },
    {
     "cell_type": "code",
     "collapsed": false,
     "input": [
      "x2=np.linspace(0, len(FFTsong), 2*len(FFTsong))\n",
      "nsong=interpolacion(x2)\n",
      "nsong=np.int16(nsong)\n",
      "wavfile.write(\"song_ex_2.wav\",22050 ,nsong)\n",
      "plt.plot(x2, nsong)"
     ],
     "language": "python",
     "metadata": {},
     "outputs": [
      {
       "metadata": {},
       "output_type": "pyout",
       "prompt_number": 113,
       "text": [
        "[<matplotlib.lines.Line2D at 0x3c31e2b0>]"
       ]
      },
      {
       "metadata": {},
       "output_type": "display_data",
       "png": "[encoded data removed]",
       "text": [
        "<matplotlib.figure.Figure at 0x3730fef0>"
       ]
      }
     ],
     "prompt_number": 113
    },
    {
     "cell_type": "code",
     "collapsed": false,
     "input": [
      "rampa=np.linspace(1., 0., len(nsong))\n",
      "nnsong=rampa*nsong\n",
      "nnsong=np.int16(nnsong)\n",
      "wavfile.write(\"song_ex_3.wav\",22050 ,nnsong)\n",
      "plt.plot(x2, nnsong)\n"
     ],
     "language": "python",
     "metadata": {},
     "outputs": [
      {
       "metadata": {},
       "output_type": "pyout",
       "prompt_number": 114,
       "text": [
        "[<matplotlib.lines.Line2D at 0x3b31fc18>]"
       ]
      },
      {
       "metadata": {},
       "output_type": "display_data",
       "png": "[encoded data removed]",
       "text": [
        "<matplotlib.figure.Figure at 0x324aa978>"
       ]
      }
     ],
     "prompt_number": 114
    },
    {
     "cell_type": "code",
     "collapsed": false,
     "input": [],
     "language": "python",
     "metadata": {},
     "outputs": [],
     "prompt_number": 114
    },
    {
     "cell_type": "code",
     "collapsed": false,
     "input": [],
     "language": "python",
     "metadata": {},
     "outputs": []
    }
   ],
   "metadata": {}
  }
 ]
}