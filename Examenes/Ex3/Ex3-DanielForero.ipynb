{
 "metadata": {
  "name": "",
  "signature": "sha256:cfe133101e247952e5733a45e0956898bc588d46b4d6a78663f801a60470bf32"
 },
 "nbformat": 3,
 "nbformat_minor": 0,
 "worksheets": [
  {
   "cells": [
    {
     "cell_type": "code",
     "collapsed": false,
     "input": [
      "import numpy as np\n",
      "import matplotlib.pyplot as plt\n",
      "%matplotlib inline"
     ],
     "language": "python",
     "metadata": {},
     "outputs": [],
     "prompt_number": 164
    },
    {
     "cell_type": "code",
     "collapsed": false,
     "input": [
      "def puntos(N):\n",
      "    return np.transpose(np.array([np.random.random(N), np.random.random(N)]))"
     ],
     "language": "python",
     "metadata": {},
     "outputs": [],
     "prompt_number": 165
    },
    {
     "cell_type": "code",
     "collapsed": false,
     "input": [
      "a=puntos(10)\n",
      "plt.scatter(a[:, 0], a[:, 1])"
     ],
     "language": "python",
     "metadata": {},
     "outputs": [
      {
       "metadata": {},
       "output_type": "pyout",
       "prompt_number": 166,
       "text": [
        "<matplotlib.collections.PathCollection at 0xc9b8f98>"
       ]
      },
      {
       "metadata": {},
       "output_type": "display_data",
       "png": "[encoded data removed]",
       "text": [
        "<matplotlib.figure.Figure at 0xd4726a0>"
       ]
      }
     ],
     "prompt_number": 166
    },
    {
     "cell_type": "code",
     "collapsed": false,
     "input": [
      "coord=np.roll(a, 9, axis=0)[0]- a[0]\n",
      "np.sqrt(coord[0]**2 + coord[1]**2)\n"
     ],
     "language": "python",
     "metadata": {},
     "outputs": [
      {
       "metadata": {},
       "output_type": "pyout",
       "prompt_number": 167,
       "text": [
        "0.50563891390078797"
       ]
      }
     ],
     "prompt_number": 167
    },
    {
     "cell_type": "code",
     "collapsed": false,
     "input": [
      "def distancias(puntos):\n",
      "    distList=[]\n",
      "    \n",
      "    \n",
      "    \n",
      "    \n",
      "    \n",
      "    \n",
      "    \n",
      "    \n",
      "    \n",
      "    \n",
      "    \n",
      "    \n",
      "    \n",
      "    \n",
      "    \n",
      "    \n",
      "    \n",
      "    for i in range(len(puntos)):\n",
      "        actual=puntos[i]\n",
      "        for j in range(i+1, len(puntos)):\n",
      "            arestar=puntos[j]\n",
      "            coord=arestar-actual\n",
      "            dist=np.sqrt(coord[0]**2 + coord[1]**2)\n",
      "            distList.append(dist)\n",
      "\n",
      "    return distList"
     ],
     "language": "python",
     "metadata": {},
     "outputs": [],
     "prompt_number": 168
    },
    {
     "cell_type": "code",
     "collapsed": false,
     "input": [
      "m=distancias(puntos(10))\n",
      "print min(m)"
     ],
     "language": "python",
     "metadata": {},
     "outputs": [
      {
       "output_type": "stream",
       "stream": "stdout",
       "text": [
        "0.116333095782\n"
       ]
      }
     ],
     "prompt_number": 169
    },
    {
     "cell_type": "markdown",
     "metadata": {},
     "source": [
      "##Pseudoc\u00f3digo\n",
      "+ Se generan X puntos en escala logar\u00edtmica.\n",
      "+ Se requiere hacer un ciclo que itere sobre el arreglo reci\u00e9n creado con potencias de 10.\n",
      "+ Cada iteraci\u00f3n define un nuevo n\u00famero N de puntos a generar aleatoriamente.\n",
      "+ Para cada N se hace un n\u00famero M de iteraciones, para lo cual es necesario un ciclo.\n",
      "+ En cada iteraci\u00f3n sobre M se generan N puntos usando `puntos(N)`.\n",
      "+ Se calculan las distancias usando `distancias(puntos)`.\n",
      "+ Se calcula el m\u00ednimo del arreglo obtenido usando `min()`.\n",
      "+ Se calcula el promedio de m\u00ednimos obtenidos tras M iteraciones y se a\u00f1ade a una lista/arreglo de longitud final X.\n",
      "+ A este punto se tiene, para cada valor de N un valor promedio de distancias m\u00ednimas que se puede graficar en escala logar\u00edtmica.\n"
     ]
    },
    {
     "cell_type": "code",
     "collapsed": false,
     "input": [
      "losN=np.logspace(1, 2, 7)\n",
      "toPlot=[]\n",
      "\n",
      "for n in losN:\n",
      "    N=int(n)\n",
      "    mins=[]\n",
      "    for j in range(100):\n",
      "        ps=puntos(N)\n",
      "        distan=distancias(ps)\n",
      "        themin=min(distan)\n",
      "        mins.append(themin)\n",
      "    toPlot.append([N, np.mean(mins)])\n",
      "    np.asarray(toPlot)"
     ],
     "language": "python",
     "metadata": {},
     "outputs": [],
     "prompt_number": 170
    },
    {
     "cell_type": "code",
     "collapsed": false,
     "input": [
      "toPlot"
     ],
     "language": "python",
     "metadata": {},
     "outputs": [
      {
       "metadata": {},
       "output_type": "pyout",
       "prompt_number": 171,
       "text": [
        "[[10, 0.077082264889248575],\n",
        " [14, 0.051638578326266026],\n",
        " [21, 0.030286207510922206],\n",
        " [31, 0.022056768122386043],\n",
        " [46, 0.014287995804257294],\n",
        " [68, 0.010677335989624018],\n",
        " [100, 0.0066879542757223047]]"
       ]
      }
     ],
     "prompt_number": 171
    },
    {
     "cell_type": "code",
     "collapsed": false,
     "input": [
      "fig, ax=plt.subplots(1, 1)\n",
      "plt.plot(toPlot[0], toPlot[1])\n",
      "ax.set_xscale(\"log\")\n",
      "ax.set_yscale(\"log\")\n",
      "ax.set_xlabel(\"N\")\n",
      "ax.set_ylabel(\"$\\bar{d_m}$\")\n",
      "ax.set_title(\"Distancias minimas promedio\")\n",
      "plt.show(fig)"
     ],
     "language": "python",
     "metadata": {},
     "outputs": [
      {
       "metadata": {},
       "output_type": "display_data",
       "text": [
        "<matplotlib.figure.Figure at 0xcd14f98>"
       ]
      }
     ],
     "prompt_number": 172
    },
    {
     "cell_type": "code",
     "collapsed": false,
     "input": [],
     "language": "python",
     "metadata": {},
     "outputs": [],
     "prompt_number": 157
    },
    {
     "cell_type": "code",
     "collapsed": false,
     "input": [],
     "language": "python",
     "metadata": {},
     "outputs": []
    }
   ],
   "metadata": {}
  }
 ]
}