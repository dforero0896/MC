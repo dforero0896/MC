{
 "metadata": {
  "name": "",
  "signature": "sha256:44edbd8e5a2b8cbcb2624318caf74bab285e07f96e1d16314d63a23cc30c72dd"
 },
 "nbformat": 3,
 "nbformat_minor": 0,
 "worksheets": []
}