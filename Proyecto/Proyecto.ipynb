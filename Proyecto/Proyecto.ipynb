{
 "metadata": {
  "name": "",
  "signature": "sha256:f367d4fea461ca3f5ed4ea0db6c136f1649c884299967d19f25ea5ee3b79e061"
 },
 "nbformat": 3,
 "nbformat_minor": 0,
 "worksheets": [
  {
   "cells": [
    {
     "cell_type": "markdown",
     "metadata": {},
     "source": [
      "#Modelo de difusi\u00f3n en un mineral\n",
      "###Daniel Felipe Forero S\u00e1nchez - 201415069\n",
      "\n",
      "Como en muchas otras situaciones, el sistema roca-ambiente presenta fen\u00f3menos de difusi\u00f3n, en los que las rocas intercambian material entre s\u00ed as\u00ed como los minerales en ellas pueden cambiar su composici\u00f3n con el tiempo a\u00fan estando en la misma roca. \n",
      "\n",
      "El metasomatismo es un proceso mediante el cual un fluido con una cierta composici\u00f3n qu\u00edmica cambia la composici\u00f3n qu\u00edmica de un mineral a lo largo del tiempo. Se considera un tipo de metamorfismo, aunque se tiene la condici\u00f3n de que en el metasomatismo la roca se mantiene completamente s\u00f3lida, es decir, la temperatura es relativamente baja, generalmente menor a los 200\u00b0C.\n",
      "\n",
      "Se pueden encontrar dos tipos distintos de metasomatismo:\n",
      "+ *Metasomatismo infiltracional:* Se da cuando la roca sufre una infiltraci\u00f3n o paso constante de fluido.\n",
      "+ *Metasomatismo difusional:* Se da cuando el fluido se encuentra estancado.\n",
      "\n",
      "\n",
      "Seg\u00fan las condiciones geol\u00f3gicas se pueden distinguir:\n",
      "+ *Autometasomatismo:* Metasomatismo que se da en las rocas \u00edgneas producto de la solidificaci\u00f3n y enfriamiento del magma. Procesos como la primera o segunda ebullici\u00f3n en los cuales el agua sale del magma llevando consigo gran cantidad de elementos, generalmente raros, formando dep\u00f3sitos pegmat\u00edticos.\n",
      "\n",
      "+ *Metasomatismo de borde:* Dado en el contacto entre dos minerales o rocas en estado s\u00f3lido.\n",
      "+ *Metasomatismo de contacto:* Dado en la roca que est\u00e1 en contacto con un cuerpo \u00edgneo (c\u00e1mara magm\u00e1tica por ejemplo), se puede dar en la roca de caja o en ambas partes.\n",
      "+ *Metasomatismo pr\u00f3ximo a vetas:* Dado en las rocas que rodean una veta por la que pasa un fluido.\n",
      "\n",
      "Para simular el comportamiento de un mineral que sufre un metasomatismo infiltracional que se podr\u00eda, posiblemente, ubicar en la etapa postmagm\u00e1tica de una roca \u00edgnea (autometasomatismo), a lo largo de un intervalo significativo de tiempo se toma la ecuaci\u00f3n de difusi\u00f3n:\n",
      "\n",
      "$$ D\\left(\\frac{\\partial^2 f}{\\partial x^2} + \\frac{\\partial^2 f}{\\partial y^2} \\right) = \\frac{\\partial f}{\\partial t}$$\n",
      "\n",
      "donde $D$ es el coeficiente de difusi\u00f3n, que puede ser constante o una funci\u00f3n $D(T)$ donde $T$ es la temperatura.\n",
      "\n",
      "\u00bfPor qu\u00e9 infiltracional? Como se ha planteado el problema, la condici\u00f3n de frontera para la concentraci\u00f3n es un cosntante 10, asi que se asume que en el exterior, la concentraci\u00f3n de elemento X es siempre la misma, para lo cual se requiere que una vez el fluido haya modificado el mineral, en el siguiente instante el fluido debe tener la misma concentraci\u00f3n. \u00c9sto no suceder\u00eda en metasomatismo difusional, dado que el fluido estancado cambiar\u00eda tambi\u00e9n su composici\u00f3n con el tiempo, disminuyendo as\u00ed la tasa de difusi\u00f3n hasta un estado de equilibrio con el exterior m\u00e1s pr\u00f3ximo que el que se obtiene con las condiciones de metasomatismo infiltracional."
     ]
    },
    {
     "cell_type": "markdown",
     "metadata": {},
     "source": [
      "[Ac\u00e1](http://www.iim.unam.mx/mbizarro/Difusion%20en%20solidos.pdf) se puede ver que el coeficiente de difusi\u00f3n depende de la siguiente manera con la temperatura.\n",
      "\n",
      "\n",
      "\n",
      "$$ D=D_0 e^{\\frac{-Q_d}{RT}} $$\n",
      "\n",
      "Donde $Q_d$ es la energ\u00eda de activaci\u00f3n, y $R$ es la constante universal de los gases. Se intentar\u00e1 tomar valores que den un valor de $D$ para el cual el m\u00e9todo sea estable, dado que para valores reales como $Qd=460\\times 10^3 J/mol$ no es posible calcular, ni siquiera, $e^{-Qd}$. La temperatura si se pretende mantener m\u00e1s real, con valores de alrededor de 473 K para el metasomatismo y cuidando la relaci\u00f3n exponencial de \u00e9sta con el coeficiente $D$ de difusi\u00f3n."
     ]
    },
    {
     "cell_type": "markdown",
     "metadata": {},
     "source": [
      "Se toma la ecuaci\u00f3n de difusi\u00f3n:\n",
      "\n",
      "$$ D\\left(\\frac{\\partial^2 f}{\\partial x^2} + \\frac{\\partial^2 f}{\\partial y^2} \\right) = \\frac{\\partial f}{\\partial t}$$\n",
      "\n",
      "y se discretiza de la siguiente manera:\n",
      "\n",
      "$$ D\\left( \\frac{f_{i+1, j}^{k} - 2f_{i, j}^{k} + f_{i-1, j}^{k}}{\\Delta x^2} + \\frac{f_{i, j+1}^{k} - 2f_{i, j}^{k} + f_{i, j-1}^{k}}{\\Delta y^2} \\right) = \\frac{f_{i, j}^{k+1} - f_{i, j}^{k}}{\\Delta t}$$\n",
      "\n",
      "Y se despeja el valor de la funci\u00f3n en un instante posterior.\n",
      "\n",
      "$$ \\Delta t D\\left( \\frac{f_{i+1, j}^{k} - 2f_{i, j}^{k} + f_{i-1, j}^{k}}{\\Delta x^2} + \\frac{f_{i, j+1}^{k} - 2f_{i, j}^{k} + f_{i, j-1}^{k}}{\\Delta y^2} \\right)  + f_{i, j}^{k} = f_{i, j}^{k+1}$$"
     ]
    },
    {
     "cell_type": "code",
     "collapsed": false,
     "input": [
      "import numpy as np\n",
      "import matplotlib.pyplot as plt\n",
      "#%matplotlib inline\n",
      "import math\n",
      "from scipy import interpolate\n",
      "from scipy.fftpack import *\n",
      "from sympy import *\n",
      "init_printing(use_unicode=True)\n",
      "from scipy.integrate import *\n",
      "import matplotlib.animation as animation\n",
      "from mpl_toolkits.mplot3d import *\n",
      "import numexpr as ne\n"
     ],
     "language": "python",
     "metadata": {},
     "outputs": [],
     "prompt_number": 1
    },
    {
     "cell_type": "code",
     "collapsed": false,
     "input": [
      "#Se definen los par\u00e1metros a utilizar en la soluci\u00f3n de la ecuaci\u00f3n diferencial.\n",
      "Nt=100000 #n\u00famero de iteraciones/tiempos.\n",
      "tmin=0. #tiempo inicial\n",
      "tmax=1249. #tiempo final\n",
      "dt=(tmax-tmin)/Nt #espaciamiento entre instantes de tiempo\n",
      "Nl=100 #n\u00famero de elementos de espacio (amplitud de la red)\n",
      "xmin=-10. #\\\n",
      "xmax=10. #- intervalo de integraci\u00f3n en x\n",
      "ymin=-10.#- intervalo de integraci\u00f3n en y\n",
      "ymax=10.  #/\n",
      "xcoords=np.linspace(xmin, xmax, Nl) #arreglos con las cordenadas en x\n",
      "ycoords=np.linspace(ymin, ymax, Nl) #arreglos con las coordenadas en y\n",
      "dx=(xmax-xmin)/Nl #espaciamiento entre coordenadas x.\n",
      "dy=(ymax-ymin)/Nl #espaciamiento entre coordenadas y.\n",
      "\n",
      "D=np.exp(-1e3/473.) #Temperatura aproximada m\u00e1xima para el metasomatismo 200\u00b0C (http://www0.unsl.edu.ar/~geo/materias/geoquimica/documentos/teorias/T7-rocas-metamorf.pdf)\n",
      "\n",
      "print D #coeficiente de difusi\u00f3n.\n",
      "2*dt*D/(dx*dy) #r < 0.5 estabilidad num\u00e9rica del m\u00e9todo\n",
      "\n"
     ],
     "language": "python",
     "metadata": {},
     "outputs": [
      {
       "output_type": "stream",
       "stream": "stdout",
       "text": [
        "0.120734071902\n"
       ]
      },
      {
       "latex": [
        "$$0.075398427903$$"
       ],
       "metadata": {},
       "output_type": "pyout",
       "png": "[encoded data removed]",
       "prompt_number": 2,
       "text": [
        "0.075398427903"
       ]
      }
     ],
     "prompt_number": 2
    },
    {
     "cell_type": "code",
     "collapsed": false,
     "input": [
      "mineral=np.zeros([Nt, Nl, Nl]) #Cristal mineral (bidimensional) con concentraci\u00f3n cero del elemento X.\n",
      "\n",
      "#Se fija la frontera (borde o cara) del cristal en el valor de concentraci\u00f3n del exterior (fluido). C_ext=10\n",
      "#mineral[0, :, 0]=10\n",
      "mineral[0, :, -1]=10\n",
      "#mineral[0, -1, :]=10\n",
      "#mineral[0, 0, :]=10\n",
      "\n"
     ],
     "language": "python",
     "metadata": {},
     "outputs": [],
     "prompt_number": 3
    },
    {
     "cell_type": "markdown",
     "metadata": {},
     "source": [
      "A manera de ayuda:\n",
      "\n",
      "+ $f_{i+1, j}^{k}=$ `np.roll(mineral[i-1], -1, axis=0)`\n",
      "+ $f_{i-1, j}^{k}=$ `np.roll(mineral[i-1], 1, axis=0)`\n",
      "+ $f_{i, j+1}^{k}=$ `np.roll(mineral[i-1], -1, axis=1)`\n",
      "+ $f_{i, j-1}^{k}=$ `np.roll(mineral[i-1], 1, axis=1)`\n",
      "+ $f_{i, j}^{k-1}=$ `mineral[i-2]`\n",
      "+ $f_{i, j}^{k+1}=$ `mineral[i]`\n",
      "+ $f_{i, j}^{k}=$ `mineral[i-1]`"
     ]
    },
    {
     "cell_type": "code",
     "collapsed": false,
     "input": [
      "#Se soluciona la ecuaci\u00edn diferencial con el m\u00e9todo de relajaci\u00f3n\n",
      "for i in range(1, Nt):\n",
      "    if i%10000==0:\n",
      "        print i\n",
      "    mineralpasado=mineral[i-1]\n",
      "    mineral[i]=dt*D*((np.roll(mineralpasado, -1, axis=0) - 2*mineralpasado + np.roll(mineralpasado, 1, axis=0))/dx**2 + \\\n",
      "                     (np.roll(mineralpasado, -1, axis=1) - 2*mineralpasado + np.roll(mineralpasado, 1, axis=1))/dy**2) + \\\n",
      "                    mineralpasado\n",
      "    mineral[i, :, 0]=10\n",
      "    mineral[i, :, -1]=10\n",
      "    mineral[i, -1, :]=10\n",
      "    mineral[i, 0, :]=10\n",
      "print mineral[-1, 50, 50] #Se imprime el valor de f(tmax, 0, 0), es suficiente para obtener un estado de equilibrio."
     ],
     "language": "python",
     "metadata": {},
     "outputs": [
      {
       "output_type": "stream",
       "stream": "stdout",
       "text": [
        "10000\n",
        "20000"
       ]
      },
      {
       "output_type": "stream",
       "stream": "stdout",
       "text": [
        "\n",
        "30000"
       ]
      },
      {
       "output_type": "stream",
       "stream": "stdout",
       "text": [
        "\n",
        "40000"
       ]
      },
      {
       "output_type": "stream",
       "stream": "stdout",
       "text": [
        "\n",
        "50000"
       ]
      },
      {
       "output_type": "stream",
       "stream": "stdout",
       "text": [
        "\n",
        "60000"
       ]
      },
      {
       "output_type": "stream",
       "stream": "stdout",
       "text": [
        "\n",
        "70000"
       ]
      },
      {
       "output_type": "stream",
       "stream": "stdout",
       "text": [
        "\n",
        "80000"
       ]
      },
      {
       "output_type": "stream",
       "stream": "stdout",
       "text": [
        "\n",
        "90000"
       ]
      },
      {
       "output_type": "stream",
       "stream": "stdout",
       "text": [
        "\n",
        "9.99182684608"
       ]
      },
      {
       "output_type": "stream",
       "stream": "stdout",
       "text": [
        "\n"
       ]
      }
     ],
     "prompt_number": 18
    },
    {
     "cell_type": "markdown",
     "metadata": {},
     "source": [
      "Debido a distintos cambios en las condiciones de la roca como lo son temperatura, presi\u00f3n, o, como se ha mencionado, presencia de fluidos, se lleva a la roca a un estado de no equilibrio termodin\u00e1mico, por lo cual \u00e9sta cambia hacia una nueva configuraci\u00f3n en equilibrio, la roca generada es denominada metam\u00f3rfica.\n",
      "\n",
      "Existen tambi\u00e9n distintos tipos de metamorfismo, entre los cuales se encuentran:\n",
      "\n",
      "+ *Metamorfismo de contacto:* Es el metamorfismo producido por el contacto entre la roca de caja y el intrusivo \u00edgneo de alta temperatura. Se denomina aureola de metamorfismo a la porci\u00f3n de roca de caja que ha sido alterada.\n",
      "+ *Metamorfismo regional:* Es el metamorfismo debido a la presi\u00f3n y temperatura dadas en condiciones de l\u00edmite convergente de placas como zonas de subducci\u00f3n. Adem\u00e1s es propiciado por la cantidad de fluidos que llevan las rocas, en especial la corteza oce\u00e1nica.\n",
      "+ *Metamorfismo din\u00e1mico:* Se da en los planos de falla, dado por las condiciones de presi\u00f3n y, en especial, temperatura t\u00edpicos de esta situaci\u00f3n. Se produce cataclasis (destucci\u00f3n de los granos o cristales que termina formando una matriz de peque\u00f1os granos) generalmente, dependiendo de las condiciones la deformaci\u00f3n puede no ser fr\u00e1gil (ruptura de todos los cristales) sino d\u00factil (deformaci\u00f3n y recristalizaci\u00f3n de los minerales).\n",
      "+ *Metamorfismo de enterramiento:* Dado por la presi\u00f3n y temperatura a la que est\u00e1n expuestos los sedimentos a una gran profundidad.\n",
      "+ *Metamorfismo de choque:* Dado por impactos meteor\u00edticos por ejemplo, es de alta presi\u00f3n generalmente y produce minerales \u00fanicos que dan pistas de impactos de este tipo.\n",
      "+ *Metasomatismo*\n",
      "\n",
      "Se simular\u00e1 el cambio en la composici\u00f3n de un cristal mineral en contacto con una de las anteriores fuentes de calor, posiblemente un magma con una cierta composici\u00f3n que incluye concentraci\u00f3n 10 para el mismo elemento X tratado antes.\n",
      "Para lo anterior se pretende solucionar primero la ecuaci\u00f3n de calor y de \u00e9sta extraer las temperaturas del cristal en cada momento. Usar esta temperatura para obtener un coeficiente de difusi\u00f3n para el momento `i` que rija la soluci\u00f3n de la ecuaci\u00f3n de difusi\u00f3n."
     ]
    },
    {
     "cell_type": "markdown",
     "metadata": {},
     "source": [
      "Tomando la ecuaci\u00f3n de calor\n",
      "\n",
      "$$ \\frac{\\partial T}{\\partial t} - \\alpha \\left( \\frac{\\partial^2T}{\\partial x^2} + \\frac{\\partial^2T}{\\partial y^2}\\right) = 0$$\n",
      "\n",
      "Se discretiza de la siguiente manera haciendo uso de diferencias futuras:\n",
      "\n",
      "\n",
      "$$ \\frac{T_{i, j}^{k+1} - T_{i, j}^{k}}{\\Delta t} - \\alpha \\left( \\frac{T_{i+1, j}^{k} - 2T_{i, j}^{k} + T_{i-1, j}^{k}}{\\Delta x^2} + \\frac{T_{i, j+1}^{k} - 2T_{i, j}^{k} + T_{i, j-1}^{k}}{\\Delta y^2} \\right)=0$$\n",
      "\n",
      "\n",
      "$$ \\frac{T_{i, j}^{k+1} - T_{i, j}^{k}}{\\Delta t} = \\alpha \\left( \\frac{T_{i+1, j}^{k} - 2T_{i, j}^{k} + T_{i-1, j}^{k}}{\\Delta x^2} + \\frac{T_{i, j+1}^{k} - 2T_{i, j}^{k} + T_{i, j-1}^{k}}{\\Delta y^2} \\right)$$\n",
      "\n",
      "\n",
      "$$ T_{i, j}^{k+1}= \\Delta t\\alpha \\left( \\frac{T_{i+1, j}^{k} - 2T_{i, j}^{k} + T_{i-1, j}^{k}}{\\Delta x^2} + \\frac{T_{i, j+1}^{k} - 2T_{i, j}^{k} + T_{i, j-1}^{k}}{\\Delta y^2} \\right) +  T_{i, j}^{k} $$\n",
      "\n",
      "N\u00f3tese que la ecuacion de calor es id\u00e9ntica a la ecuaci\u00f3n de difusi\u00f3n con $f=T$ y $D=\\alpha$ donde $\\alpha$ es la difusividad t\u00e9rmica del material, dad por $\\alpha=\\frac{\\kappa}{\\rho C_p}$ con $\\kappa$ la conductividad t\u00e9rmica del material, $\\rho$ la densidad y $C_p$ el calor espec\u00edfico. Se tom\u00f3 $\\alpha=0.8$ convenientemente para observar de mejor manera los resultados."
     ]
    },
    {
     "cell_type": "code",
     "collapsed": false,
     "input": [
      "#Se vuelven a declarar los mismos par\u00e1metros a utilizar para que los resultados sean comparables.\n",
      "Nt=100000\n",
      "tmin=0.\n",
      "tmax=1249.\n",
      "dt=(tmax-tmin)/Nt\n",
      "Nl=100\n",
      "xmin=-10.\n",
      "xmax=10.\n",
      "ymin=-10.\n",
      "ymax=10.\n",
      "xcoords=np.linspace(xmin, xmax, Nl)\n",
      "ycoords=np.linspace(ymin, ymax, Nl)\n",
      "dx=(xmax-xmin)/Nl\n",
      "dy=(ymax-ymin)/Nl\n",
      "\n",
      "''' Valores reales para alpha que hacen imperceptible la diferencia con el modelo de coeficiente constante\n",
      "kappa=0.35 # W/mK  conductividad t\u00e9rmica de una mica. http://www.vaxasoftware.com/doc_edu/fis/condutermica.pdf\n",
      "rho=2.883*(100.**3/1.)*(1./1000.) #Kg/m**3 \n",
      "cp=0.88e3 #J/Kg K  http://www.fisicanet.com.ar/fisica/termodinamica/tb01_calor.php\n",
      "alpha=kappa/(cp*rho)\n",
      "'''\n",
      "#Un coeficiente de difusividad de calor arbitrario.\n",
      "alpha=.8\n",
      "2*dt*alpha/(dx*dy) #r<0.5\n"
     ],
     "language": "python",
     "metadata": {},
     "outputs": [
      {
       "latex": [
        "$$0.4996$$"
       ],
       "metadata": {},
       "output_type": "pyout",
       "png": "[encoded data removed]",
       "prompt_number": 19,
       "text": [
        "0.4996"
       ]
      }
     ],
     "prompt_number": 19
    },
    {
     "cell_type": "code",
     "collapsed": false,
     "input": [
      "temps=np.empty([Nt, Nl, Nl]) #Se crea un arreglo vac\u00edo para las temperaturas.\n",
      "temps.fill(473) #Se llena con T= 473K la temperatura del metasomatismo.\n",
      "#Se fijan las fronteras con T=973K la temperatura del metamorfismo.\n",
      "temps[0, :, 0]=973\n",
      "temps[0, :, -1]=973\n",
      "temps[0, -1, :]=973\n",
      "temps[0, 0, :]=973"
     ],
     "language": "python",
     "metadata": {},
     "outputs": [],
     "prompt_number": 20
    },
    {
     "cell_type": "code",
     "collapsed": false,
     "input": [
      "#Se soluciona la ecuaci\u00f3n de calor por el m\u00e9todo de relajaci\u00f3n:\n",
      "for i in range(1, Nt):\n",
      "    temppasado=temps[i-1]\n",
      "    temps[i]=dt*alpha*((np.roll(temppasado, -1, axis=0) - 2*temppasado + np.roll(temppasado, 1, axis=0))/dx**2 + \\\n",
      "                     (np.roll(temppasado, -1, axis=1) - 2*temppasado + np.roll(temppasado, 1, axis=1))/dy**2) + \\\n",
      "                    temppasado\n",
      "    temps[i, :, 0]=973\n",
      "    temps[i, :, -1]=973\n",
      "    temps[i, -1, :]=973\n",
      "    temps[i, 0, :]=973"
     ],
     "language": "python",
     "metadata": {},
     "outputs": [],
     "prompt_number": 21
    },
    {
     "cell_type": "code",
     "collapsed": false,
     "input": [
      "mineralT=np.zeros([Nt, Nl, Nl]) #El cristal mineral a solucionar con coeficiente de difusi\u00f3n variable.\n",
      "#La concentraci\u00f3n en los bordes es igual a la tomada anteriormente para hacer los resultados comparables.\n",
      "mineralT[0, :, 0]=10\n",
      "mineralT[0, :, -1]=10\n",
      "mineralT[0, -1, :]=10\n",
      "mineralT[0, 0, :]=10"
     ],
     "language": "python",
     "metadata": {},
     "outputs": [],
     "prompt_number": 22
    },
    {
     "cell_type": "code",
     "collapsed": false,
     "input": [
      "#Se define una funci\u00f3n que toma la temperature en el tiempo i y retorna un arreglo bidimensional de coeficientes de difusi\u00f3n.\n",
      "def Dmat(i):\n",
      "    return np.exp(-1e3/temps[i])"
     ],
     "language": "python",
     "metadata": {},
     "outputs": [],
     "prompt_number": 23
    },
    {
     "cell_type": "code",
     "collapsed": false,
     "input": [
      "#Se soluciona la ecuaci\u00f3n de difusi\u00f3n con coeficiente variable dado por la relaci\u00f3n exponencial vista entre \u00e9ste y la temperatura.\n",
      "for i in range(1, Nt):\n",
      "    mineralpasado=mineralT[i-1]\n",
      "    mineralT[i]=dt*Dmat(i)*((np.roll(mineralpasado, -1, axis=0) - 2*mineralpasado + np.roll(mineralpasado, 1, axis=0))/dx**2 + \\\n",
      "                     (np.roll(mineralpasado, -1, axis=1) - 2*mineralpasado + np.roll(mineralpasado, 1, axis=1))/dy**2) + \\\n",
      "                    mineralpasado\n",
      "    mineralT[i, :, 0]=10\n",
      "    mineralT[i, :, -1]=10\n",
      "    mineralT[i, -1, :]=10\n",
      "    mineralT[i, 0, :]=10\n",
      "print mineralT[-1, 50, 50] #El valor de f(tmax, 0, 0) = 10 el valor en equilibrio."
     ],
     "language": "python",
     "metadata": {},
     "outputs": [
      {
       "output_type": "stream",
       "stream": "stdout",
       "text": [
        "9.99999999655\n"
       ]
      }
     ],
     "prompt_number": 24
    },
    {
     "cell_type": "code",
     "collapsed": false,
     "input": [
      "#Se anima la proyecci\u00f3n en x e y a lo largo del tiempo del resultado de ambos modelos\n",
      "\n",
      "Proyeccion, ax=plt.subplots(1, 2, figsize=(20, 10))\n",
      "ax[0].pcolor(xcoords,ycoords,mineral[0],vmin=0.,vmax=10.)\n",
      "ax[1].pcolor(xcoords,ycoords,mineralT[0],vmin=0.,vmax=10.)\n",
      "def animate(i):\n",
      "    global mineralT\n",
      "    ax[0].pcolor(xcoords,ycoords,mineral[1000*i],vmin=0.,vmax=10.)\n",
      "    ax[1].pcolor(xcoords,ycoords,mineralT[1000*i],vmin=0.,vmax=10.)\n",
      "    ax[0].set_title(\"Coeficiente constante\")\n",
      "    ax[1].set_title(\"Coeficiente variable\")\n",
      "    ax[0].text(-9, 9.5, \"Time = %s\" % (tmin + 1000*i*dt), color=\"white\")\n",
      "    ax[1].text(-9, 9.5, \"Time = %s\" % (tmin + 1000*i*dt), color=\"white\")\n",
      "    plt.hold(False)\n",
      "animacion = animation.FuncAnimation(Proyeccion, animate, np.arange(1,len(mineralT)/1000),interval=10**-1000, blit=False)\n",
      "plt.show()"
     ],
     "language": "python",
     "metadata": {},
     "outputs": [],
     "prompt_number": 25
    },
    {
     "cell_type": "code",
     "collapsed": false,
     "input": [
      "#Se anima un perfil de la concentraci\u00f3n en funci\u00f3n de la posici\u00f3n para todo el tiemo t.\n",
      "Perfil, ax=plt.subplots(1, 2, figsize=(20, 10))\n",
      "plt.hold(False)\n",
      "def animate(i):\n",
      "    global mineral\n",
      "  \n",
      "    ax[0].scatter(xcoords,mineral[100*i, 50, :])\n",
      "    ax[1].scatter(xcoords,mineralT[100*i, 50, :])\n",
      "    ax[0].set_ylim(0,ymax+1)\n",
      "    ax[1].set_ylim(0,ymax+1)\n",
      "    ax[0].set_xlim(xmin, xmax)\n",
      "    ax[1].set_xlim(xmin, xmax)\n",
      "    ax[0].text(-9, 10.5, \"Time = %s\" % (tmin + 100*i*dt))\n",
      "    ax[1].text(-9, 10.5, \"Time = %s\" % (tmin + 100*i*dt))\n",
      "    ax[0].set_title(\"Coeficiente constante\")\n",
      "    ax[1].set_title(\"Coeficiente variable\")\n",
      "animacion = animation.FuncAnimation(Perfil, animate, np.arange(1,len(mineral)/100),interval=10**-100, blit=False)\n",
      "plt.show()\n",
      "plt.hold(False)"
     ],
     "language": "python",
     "metadata": {},
     "outputs": [],
     "prompt_number": 26
    },
    {
     "cell_type": "code",
     "collapsed": false,
     "input": [
      "#Se grafican perfiles de concentraci\u00f3n en el punto central en funci\u00f3n del tiempo junto con su derivada\n",
      "#para ver claramente la diferencia en el cambio generado por los dos modelos y la velocidad con la que \u00e9ste se da en cada uno.\n",
      "\n",
      "cdet=mineral[:, 50, 50] #Concentraci\u00f3n en el punto central para todo t con coeficiente constante.\n",
      "cdet2=mineralT[:, 50, 50] #Concentraci\u00f3n en el punto central para todo t con coeficiente variable.\n",
      "lost=np.linspace(tmin, tmax, Nt) # Arreglo de tiempos a lo largo de los cuales graficar y derivar.\n",
      "\n",
      "#Se calculan las derivadas:\n",
      "numPoints=100\n",
      "a=tmin # L\u00edmite inferior\n",
      "b=tmax # L\u00edmite superior\n",
      "\n",
      "#Coeficiente constante:\n",
      "y=cdet # Las abscisas\n",
      "h = (b-a)/(numPoints-1) # Este es el paso del arreglo t.\n",
      "yforward = np.roll(y,-1) # valor del arreglo en un instante posterior.\n",
      "ybackward = np.roll(y,1) # valor del arreglo en un instante anterior.\n",
      "derc = (yforward-ybackward)/(2.*h) #usando diferencias centrales.\n",
      "derc=derc[1:-1]\n",
      "#Coeficiente variable:\n",
      "y=cdet2 # Las abscisas\n",
      "h = (b-a)/(numPoints-1) # Este es el paso del arreglo t.\n",
      "yforward = np.roll(y,-1) # valor del arreglo en un instante posterior.\n",
      "ybackward = np.roll(y,1) # valor del arreglo en un instante anterior.\n",
      "derc2 = (yforward-ybackward)/(2.*h) #usando diferencias centrales.\n",
      "derc2=derc2[1:-1]\n",
      "\n",
      "\n",
      "#Se grafican los perfiles a la izquierda y sus derivadas a la derecha. #Correr el bloque dos veces si no son graficadas correctamente.\n",
      "cambios, ax=plt.subplots(1, 2, figsize=(20, 10))\n",
      "plt.hold(True)\n",
      "ax[1].plot(lost[1:-1], derc2, label=\"Coeficiente variable\")\n",
      "ax[1].plot(lost[1:-1], derc, label=\"Coeficiente constante\")\n",
      "plt.hold(True)\n",
      "ax[0].plot(lost, cdet2, label=\"Coeficiente variable\")\n",
      "ax[0].plot(lost, cdet, label=\"Coeficiente constante\")\n",
      "ax[1].set_xlabel(\"$t$\", fontsize=15)\n",
      "ax[0].set_xlabel(\"$t$\", fontsize=15)\n",
      "ax[0].set_ylabel(\"$f(t, 0, 0)$\", fontsize=15)\n",
      "ax[1].set_ylabel(\"$v(t, 0, 0)$\", fontsize=15)\n",
      "ax[0].set_title(u\"Perfil de concentraci\u00f3n\", fontsize=15)\n",
      "ax[1].set_title(u\"Perfil de velocidad de\\n cambio de concentraci\u00f3n\", fontsize=15)\n",
      "ax[1].legend(loc=\"best\")\n",
      "ax[0].legend(loc=\"best\")\n",
      "plt.show(cambios)\n"
     ],
     "language": "python",
     "metadata": {},
     "outputs": [],
     "prompt_number": 40
    },
    {
     "cell_type": "markdown",
     "metadata": {},
     "source": [
      "Se ve que la velocidad en el caso de coeficiente variable es mucho mayor que la del coeficiente constante, sugiriendo que se llega al equilibrio mucho mas r\u00e1pido, como lo muestran las animaciones y el perfil de concentraciones.\n",
      "\n",
      "\n",
      "Dado el comportamiento asint\u00f3tico del acercamiento de la curva del perfil de concentraci\u00f3n al su valor final de 10, se tomar\u00e1 el valor de la concentraci\u00f3n en $(0, 0)$ obtenido en el \u00faltimo tiempo para el coeficiente constante como referencia para compararlo con el caso de coeficiente variable."
     ]
    },
    {
     "cell_type": "code",
     "collapsed": false,
     "input": [
      "refVal=np.round(mineral[-1, 50, 50], 4)\n",
      "epsilon=0.000001\n",
      "valVar=np.mean(lost[(mineralT[:, 50, 50]>refVal-epsilon) & (mineralT[:, 50, 50]<refVal+epsilon)])\n",
      "print \"El tiempo en el que el m\u00e9todo de coeficiente variable llega a \\\n",
      "la soluci\u00f3n obtenida en t=tmax por el m\u00e9todo de coeficiente constante es de \", valVar, \"unidades de tiempo.\"\n",
      "\n"
     ],
     "language": "python",
     "metadata": {},
     "outputs": [
      {
       "output_type": "stream",
       "stream": "stdout",
       "text": [
        "El tiempo en el que el m\u00e9todo de coeficiente variable llega a la soluci\u00f3n obtenida en t=tmax por el m\u00e9todo de coeficiente constante es de  434.031840318 unidades de tiempo.\n"
       ]
      }
     ],
     "prompt_number": 39
    },
    {
     "cell_type": "markdown",
     "metadata": {},
     "source": [
      "## Conclusiones\n",
      "\n",
      "Se pretendi\u00f3 emular un par de situaciones, en las que un cristal mineral (que se tom\u00f3 bidimensional) estaba expuesto a distintas condiciones que causaban su alteraci\u00f3n. \n",
      "\n",
      "En la situaci\u00f3n en que se emul\u00f3 el metasomatismo las condiciones fueron de baja y constante temperatura, con concentraci\u00f3n inicial interior cero y exterior diez. Se observ\u00f3 que la movilidad de los iones fue lenta, requiriendo m\u00e1s de 1000 unidades de tiempo para llegar al resultado de equilibrio mientras el sgundo m\u00e9todo lo hace en unas 434 unidades de tiempo. Lo anterior es de esperarse, dado que el metasomatismo es un proceso lento, mientras al metamorfismo logra fundir facilmente algunos cristales e iniciar un proceso denominado recristalizaci\u00f3n, que lleva a la formaci\u00f3n de nuevas rocas.\n",
      "\n",
      "Por otra parte se emul\u00f3 el metamorfismo, en el cual el mismo cristal mineral estaba en contacto no con un fluido tipo agua con iones disueltos (que causa metasomatismo) sino con un magma de distinta composici\u00f3n (pero con igual concentraci\u00f3n de elemento X para hacer los resultados comparables) de manera que fue necesario mirar la difusi\u00f3n del elemento X teniendo en cuenta la dependencia del coeficiente de difusi\u00f3n de la temperatura. Se obtiene un resultado bastante l\u00f3gico, dado que la temperatura contribuye en gran medida a la difusi\u00f3n de iones, propici\u00e1ndola  de manera que el cristal se ve totalmente alterado en un tiempo mucho menor, lo que da cabida a un intercambio total de elementos y a una fase de recristalizaci\u00f3n, dando paso a nuevos minerales y nuevas rocas.\n",
      "\n",
      "En cuanto a los modelos en s\u00ed, se encontraron varios problemas en cuanto a la convergencia de los mpetodos num\u00e9ricos y a la capacidad del programa y la m\u00e1quina de manejar la cantidad de datos. De lo anterior se desprende el hecho de no haber podido utilizar datos reales, dado que valores como la energ\u00eda de activaci\u00f3n del i\u00f3n a difundir, las medidas del cristal y las unidades de tiempo hubieran sido muy grandes o muy peque\u00f1as como para que se lograra calcular `np.exp(-Qt/R*T)` dado que en las unidades consistentes (micr\u00f3metros, a\u00f1os o miles de a\u00f1os) hubiera llevado a un 0. Se intent\u00f3 tambi\u00e9n utilizar el valor de $\\alpha$ correspondiente a la mica, pero era un valor muy peque\u00f1o y, ya habiendo modelado al anterior caso como se hizo, no era posible utilizarlo dado que no habr\u00eda mucha diferencia entre los dos modelos, dados los peque\u00f1os cambios de temperatura que generar\u00eda. Se di\u00f3 mas importancia a ver la diferencia entre ambas simulaciones y la importancia de la dependencia de la temperatura en procesos como \u00e9ste, por lo cual se buscaron valores arbitrarios, pero convenientes, que permitieran ver el fen\u00f3meno de la manera correcta y permitieran a\u00fan sacar conclusiones de \u00e9ste."
     ]
    },
    {
     "cell_type": "markdown",
     "metadata": {},
     "source": [
      "###Referencias:\n",
      "+ [*Metasomatismo*](https://es.wikipedia.org/wiki/Metasomatismo)\n",
      "+ [*Metamorfismo*](https://es.wikipedia.org/wiki/Metamorfismo)"
     ]
    },
    {
     "cell_type": "code",
     "collapsed": false,
     "input": [],
     "language": "python",
     "metadata": {},
     "outputs": []
    }
   ],
   "metadata": {}
  }
 ]
}