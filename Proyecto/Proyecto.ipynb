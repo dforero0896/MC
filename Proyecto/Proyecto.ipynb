{
 "metadata": {
  "name": "",
  "signature": "sha256:9e6370af897fcf29b724df86a0cc0141d307b3e3b293514ae4e62bd113d5bb29"
 },
 "nbformat": 3,
 "nbformat_minor": 0,
 "worksheets": [
  {
   "cells": [
    {
     "cell_type": "markdown",
     "metadata": {},
     "source": [
      "#Modelo de difusi\u00f3n en un mineral\n",
      "###Daniel Felipe Forero S\u00e1nchez - 201415069\n",
      "\n",
      "Como en muchas otras situaciones, el sistema roca-ambiente presenta fen\u00f3menos de difusi\u00f3n, en los que las rocas intercambian material entre s\u00ed as\u00ed como los minerales en ellas pueden cambiar su composici\u00f3n con el tiempo a\u00fan estando en la misma roca. \n",
      "\n",
      "El metasomatismo es un proceso mediante el cual un fluido con una cierta composici\u00f3n qu\u00edmica cambia la composici\u00f3n qu\u00edmica de un mineral a lo largo del tiempo sin necesidad de fundir parcialmente los minerales sino con el simple intercambio de iones por difusi\u00f3n. Para que se de lo anterior, se debe estar a una temperatura baja (de unos 200\u00b0C o menos).\n",
      "\n",
      "Para simular el comportamiento de un mineral que sufre un flujo contante de fluido en todas sus caras a lo largo de un intervalo significativo de tiempo se toma la ecuaci\u00f3n de difusi\u00f3n:\n",
      "\n",
      "$$ D\\left(\\frac{\\partial^2 f}{\\partial x^2} + \\frac{\\partial^2 f}{\\partial y^2} \\right) = \\frac{\\partial f}{\\partial t}$$\n",
      "\n",
      "donde $D$ es el coeficiente de difusi\u00f3n, que puede ser constante o una funci\u00f3n $D(T)$ donde $T$ es la temperatura.\n"
     ]
    },
    {
     "cell_type": "markdown",
     "metadata": {},
     "source": [
      "[Ac\u00e1](http://www.iim.unam.mx/mbizarro/Difusion%20en%20solidos.pdf) se puede ver que el coeficiente de difusi\u00f3n depende de la siguiente manera con la temperatura.\n",
      "\n",
      "\n",
      "$$ D=D_0 e^{\\frac{-Q_d}{RT}} $$\n",
      "\n",
      "Donde $Q_d$ es la energ\u00eda de activaci\u00f3n, y $R$ es la constante universal de los gases. Se intentar\u00e1 tomar valores que den un valor de $D$ para el cual el m\u00e9todo sea estable, dado que para valores reales como $Qd=460\\times 10^3 J/mol$ no es posible calcular, ni siquiera, $e^{-Qd}$. La temperatura si se pretende mantener m\u00e1s real, con valores de alrededor de 473 K para el metasomatismo y cuidando la relaci\u00f3n exponencial de \u00e9sta con el coeficiente $D$ de difusi\u00f3n."
     ]
    },
    {
     "cell_type": "markdown",
     "metadata": {},
     "source": [
      "Se toma la ecuaci\u00f3n de difusi\u00f3n:\n",
      "\n",
      "$$ D\\left(\\frac{\\partial^2 f}{\\partial x^2} + \\frac{\\partial^2 f}{\\partial y^2} \\right) = \\frac{\\partial f}{\\partial t}$$\n",
      "\n",
      "y se discretiza de la siguiente manera:\n",
      "\n",
      "$$ D\\left( \\frac{f_{i+1, j}^{k} - 2f_{i, j}^{k} + f_{i-1, j}^{k}}{\\Delta x^2} + \\frac{f_{i, j+1}^{k} - 2f_{i, j}^{k} + f_{i, j-1}^{k}}{\\Delta y^2} \\right) = \\frac{f_{i, j}^{k+1} - f_{i, j}^{k}}{\\Delta t}$$\n",
      "\n",
      "Y se despeja el valor de la funci\u00f3n en un instante posterior.\n",
      "\n",
      "$$ \\Delta t D\\left( \\frac{f_{i+1, j}^{k} - 2f_{i, j}^{k} + f_{i-1, j}^{k}}{\\Delta x^2} + \\frac{f_{i, j+1}^{k} - 2f_{i, j}^{k} + f_{i, j-1}^{k}}{\\Delta y^2} \\right)  + f_{i, j}^{k} = f_{i, j}^{k+1}$$"
     ]
    },
    {
     "cell_type": "code",
     "collapsed": false,
     "input": [
      "import numpy as np\n",
      "import matplotlib.pyplot as plt\n",
      "#%matplotlib inline\n",
      "import math\n",
      "from scipy import interpolate\n",
      "from scipy.fftpack import *\n",
      "from sympy import *\n",
      "init_printing(use_unicode=True)\n",
      "from scipy.integrate import *\n",
      "import matplotlib.animation as animation\n",
      "from mpl_toolkits.mplot3d import *\n",
      "import numexpr as ne\n"
     ],
     "language": "python",
     "metadata": {},
     "outputs": [],
     "prompt_number": 1
    },
    {
     "cell_type": "code",
     "collapsed": false,
     "input": [
      "Nt=100000\n",
      "tmin=0.\n",
      "tmax=1000. \n",
      "dt=(tmax-tmin)/Nt\n",
      "Nl=100\n",
      "xmin=-10. #micr\u00f3metros.\n",
      "xmax=10. #micr\u00f3metros.\n",
      "ymin=-10. #micr\u00f3metros.\n",
      "ymax=10. #micr\u00f3metros.\n",
      "xcoords=np.linspace(xmin, xmax, Nl)\n",
      "ycoords=np.linspace(ymin, ymax, Nl)\n",
      "dx=(xmax-xmin)/Nl\n",
      "dy=(ymax-ymin)/Nl\n",
      "\n",
      "D=np.exp(-1e3/473.) #Temperatura aproximada m\u00e1xima para el metasomatismo 200\u00b0C (http://www0.unsl.edu.ar/~geo/materias/geoquimica/documentos/teorias/T7-rocas-metamorf.pdf)\n",
      "\n",
      "print D\n",
      "2*dt*D/(dx*dy)\n",
      "\n"
     ],
     "language": "python",
     "metadata": {},
     "outputs": [
      {
       "output_type": "stream",
       "stream": "stdout",
       "text": [
        "0.120734071902\n"
       ]
      },
      {
       "latex": [
        "$$0.0603670359511$$"
       ],
       "metadata": {},
       "output_type": "pyout",
       "png": "[encoded data removed]",
       "prompt_number": 2,
       "text": [
        "0.0603670359511"
       ]
      }
     ],
     "prompt_number": 2
    },
    {
     "cell_type": "code",
     "collapsed": false,
     "input": [
      "#Cabe aclarar que el coeficiente de difusi\u00f3n es demasiado alto para un s\u00f3lido,"
     ],
     "language": "python",
     "metadata": {},
     "outputs": [],
     "prompt_number": 3
    },
    {
     "cell_type": "code",
     "collapsed": false,
     "input": [
      "#Se supone que el cristal est\u00e1 inmerso en un magma con concentraci\u00f3n 10 para el elemento X.\n",
      "\n",
      "#Se crea una matriz que representa un cierto cristal con concentraci\u00f3n 0 para un elemento X.\n",
      "mineral=np.zeros([Nt, Nl, Nl])\n",
      "\n",
      "\n",
      "#Por lo tanto se fijan los las fronteras en 10.\n",
      "mineral[0, :, 0]=10\n",
      "mineral[0, :, -1]=10\n",
      "mineral[0, -1, :]=10\n",
      "mineral[0, 0, :]=10\n",
      "\n"
     ],
     "language": "python",
     "metadata": {},
     "outputs": [],
     "prompt_number": 4
    },
    {
     "cell_type": "markdown",
     "metadata": {},
     "source": [
      "A manera de ayuda:\n",
      "\n",
      "+ $f_{i+1, j}^{k}=$ `np.roll(mineral[i-1], -1, axis=0)`\n",
      "+ $f_{i-1, j}^{k}=$ `np.roll(mineral[i-1], 1, axis=0)`\n",
      "+ $f_{i, j+1}^{k}=$ `np.roll(mineral[i-1], -1, axis=1)`\n",
      "+ $f_{i, j-1}^{k}=$ `np.roll(mineral[i-1], 1, axis=1)`\n",
      "+ $f_{i, j}^{k-1}=$ `mineral[i-2]`\n",
      "+ $f_{i, j}^{k+1}=$ `mineral[i]`\n",
      "+ $f_{i, j}^{k}=$ `mineral[i-1]`"
     ]
    },
    {
     "cell_type": "code",
     "collapsed": false,
     "input": [
      "for i in range(1, Nt):\n",
      "    mineralpasado=mineral[i-1]\n",
      "    mineral[i]=dt*D*((np.roll(mineralpasado, -1, axis=0) - 2*mineralpasado + np.roll(mineralpasado, 1, axis=0))/dx**2 + \\\n",
      "                     (np.roll(mineralpasado, -1, axis=1) - 2*mineralpasado + np.roll(mineralpasado, 1, axis=1))/dy**2) + \\\n",
      "                    mineralpasado\n",
      "    mineral[i, :, 0]=10\n",
      "    mineral[i, :, -1]=10\n",
      "    mineral[i, -1, :]=10\n",
      "    mineral[i, 0, :]=10\n",
      "print mineral[-1, 50, 50]"
     ],
     "language": "python",
     "metadata": {},
     "outputs": [
      {
       "output_type": "stream",
       "stream": "stdout",
       "text": [
        "9.96286808104\n"
       ]
      }
     ],
     "prompt_number": 5
    },
    {
     "cell_type": "markdown",
     "metadata": {},
     "source": [
      "El metamorfismo es un fen\u00f3meno que envuelve al metasomatismo pero es m\u00e1s conocido por ser causado por temperaturas m\u00e1s altas, aunque insuficientes para fundir la roca totalmente. El metamotfismo no es regido \u00fanicamente por la temperatura, dado que la presi\u00f3n tambien teiene un papel muy importante, pero que no se podr\u00e1 tomar en cuenta ahora. La fuente de calor causante del metamorfismo puede ser un choque o roce de placas o bloques de roca, la caida de un meteorito o el contacto con una c\u00e1mara magm\u00e1tica.\n",
      "\n",
      "El metamorfismo de contacto es causado en la roca de caja (o roca encajante) por el contacto con el magma de la c\u00e1mara (magm\u00e1tica) y la temperatura de \u00e9ste. Se pretende ahora solucionar la ecuaci\u00f3n de calor y la ecuaci\u00f3n de difusi\u00f3n para un cristal (bidimensional) que tiene tus caras en contacto con magma o bajo alguna otra fuente de calor, con una cierta concentraci\u00f3n de X y a una cierta temperatura T correspondiente al metamorfismo, aproximadamente 973K.\n",
      "\n",
      "Para lo anterior se pretende solucionar primero la ecuaci\u00f3n de calor y de \u00e9sta extraer las temperaturas del cristal en cada momento. Usar esta temperatura para obtener un coeficiente de difusi\u00f3n para el momento `i` que rija la soluci\u00f3n de la ecuaci\u00f3n."
     ]
    },
    {
     "cell_type": "markdown",
     "metadata": {},
     "source": [
      "Tomando la ecuaci\u00f3n de calor\n",
      "\n",
      "$$ \\frac{\\partial T}{\\partial t} - \\alpha \\left( \\frac{\\partial^2T}{\\partial x^2} + \\frac{\\partial^2T}{\\partial y^2}\\right) = 0$$\n",
      "\n",
      "Se discretiza de la siguiente manera haciendo uso de diferencias futuras:\n",
      "\n",
      "\n",
      "$$ \\frac{T_{i, j}^{k+1} - T_{i, j}^{k}}{\\Delta t} - \\alpha \\left( \\frac{T_{i+1, j}^{k} - 2T_{i, j}^{k} + T_{i-1, j}^{k}}{\\Delta x^2} + \\frac{T_{i, j+1}^{k} - 2T_{i, j}^{k} + T_{i, j-1}^{k}}{\\Delta y^2} \\right)=0$$\n",
      "\n",
      "\n",
      "$$ \\frac{T_{i, j}^{k+1} - T_{i, j}^{k}}{\\Delta t} = \\alpha \\left( \\frac{T_{i+1, j}^{k} - 2T_{i, j}^{k} + T_{i-1, j}^{k}}{\\Delta x^2} + \\frac{T_{i, j+1}^{k} - 2T_{i, j}^{k} + T_{i, j-1}^{k}}{\\Delta y^2} \\right)$$\n",
      "\n",
      "\n",
      "$$ T_{i, j}^{k+1}= \\Delta t\\alpha \\left( \\frac{T_{i+1, j}^{k} - 2T_{i, j}^{k} + T_{i-1, j}^{k}}{\\Delta x^2} + \\frac{T_{i, j+1}^{k} - 2T_{i, j}^{k} + T_{i, j-1}^{k}}{\\Delta y^2} \\right) +  T_{i, j}^{k} $$\n",
      "\n",
      "N\u00f3tese que la ecuacion de calor es id\u00e9ntica a la ecuaci\u00f3n de difusi\u00f3n con $f=T$ y $D=\\alpha$ donde $\\alpha$ es la difusividad t\u00e9rmica del material, dad por $\\alpha=\\frac{\\kappa}{\\rho C_p}$ con $\\kappa$ la conductividad t\u00e9rmica del material, $\\rho$ la densidad y $C_p$ el calor espec\u00edfico."
     ]
    },
    {
     "cell_type": "code",
     "collapsed": false,
     "input": [
      "Nt=100000\n",
      "tmin=0.\n",
      "tmax=1000.\n",
      "dt=(tmax-tmin)/Nt\n",
      "Nl=100\n",
      "xmin=-10.\n",
      "xmax=10.\n",
      "ymin=-10.\n",
      "ymax=10.\n",
      "xcoords=np.linspace(xmin, xmax, Nl)\n",
      "ycoords=np.linspace(ymin, ymax, Nl)\n",
      "dx=(xmax-xmin)/Nl\n",
      "dy=(ymax-ymin)/Nl\n",
      "''' Valores reales para alpha que hacen imperceptible la diferencia con el modelo de coeficiente constante\n",
      "kappa=0.35 # W/mK  conductividad t\u00e9rmica de una mica. http://www.vaxasoftware.com/doc_edu/fis/condutermica.pdf\n",
      "rho=2.883*(100.**3/1.)*(1./1000.) #Kg/m**3 \n",
      "cp=0.88e3 #J/Kg K  http://www.fisicanet.com.ar/fisica/termodinamica/tb01_calor.php\n",
      "alpha=kappa/(cp*rho)\n",
      "'''\n",
      "alpha=.8\n",
      "2*dt*alpha/(dx*dy)\n"
     ],
     "language": "python",
     "metadata": {},
     "outputs": [
      {
       "latex": [
        "$$0.4$$"
       ],
       "metadata": {},
       "output_type": "pyout",
       "png": "[encoded data removed]",
       "prompt_number": 6,
       "text": [
        "0.4"
       ]
      }
     ],
     "prompt_number": 6
    },
    {
     "cell_type": "code",
     "collapsed": false,
     "input": [
      "temps=np.ones([Nt, Nl, Nl])\n",
      "temps*=473\n",
      "temps[0, :, 0]=973\n",
      "temps[0, :, -1]=973\n",
      "temps[0, -1, :]=973\n",
      "temps[0, 0, :]=973"
     ],
     "language": "python",
     "metadata": {},
     "outputs": [],
     "prompt_number": 7
    },
    {
     "cell_type": "code",
     "collapsed": false,
     "input": [
      "#La ecuaci\u00f3n de calor:\n",
      "for i in range(1, Nt):\n",
      "    temppasado=temps[i-1]\n",
      "    temps[i]=dt*alpha*((np.roll(temppasado, -1, axis=0) - 2*temppasado + np.roll(temppasado, 1, axis=0))/dx**2 + \\\n",
      "                     (np.roll(temppasado, -1, axis=1) - 2*temppasado + np.roll(temppasado, 1, axis=1))/dy**2) + \\\n",
      "                    temppasado\n",
      "    temps[i, :, 0]=973\n",
      "    temps[i, :, -1]=973\n",
      "    temps[i, -1, :]=973\n",
      "    temps[i, 0, :]=973"
     ],
     "language": "python",
     "metadata": {},
     "outputs": [],
     "prompt_number": 8
    },
    {
     "cell_type": "code",
     "collapsed": false,
     "input": [
      "mineralT=np.zeros([Nt, Nl, Nl])\n",
      "mineralT[0, :, 0]=10\n",
      "mineralT[0, :, -1]=10\n",
      "mineralT[0, -1, :]=10\n",
      "mineralT[0, 0, :]=10"
     ],
     "language": "python",
     "metadata": {},
     "outputs": [],
     "prompt_number": 9
    },
    {
     "cell_type": "code",
     "collapsed": false,
     "input": [
      "def Dmat(i):\n",
      "    return np.exp(-1e3/temps[i])"
     ],
     "language": "python",
     "metadata": {},
     "outputs": [],
     "prompt_number": 10
    },
    {
     "cell_type": "code",
     "collapsed": false,
     "input": [
      "for i in range(1, Nt):\n",
      "    mineralpasado=mineralT[i-1]\n",
      "    mineralT[i]=dt*Dmat(i)*((np.roll(mineralpasado, -1, axis=0) - 2*mineralpasado + np.roll(mineralpasado, 1, axis=0))/dx**2 + \\\n",
      "                     (np.roll(mineralpasado, -1, axis=1) - 2*mineralpasado + np.roll(mineralpasado, 1, axis=1))/dy**2) + \\\n",
      "                    mineralpasado\n",
      "    mineralT[i, :, 0]=10\n",
      "    mineralT[i, :, -1]=10\n",
      "    mineralT[i, -1, :]=10\n",
      "    mineralT[i, 0, :]=10\n",
      "print mineralT[-1, 50, 50]"
     ],
     "language": "python",
     "metadata": {},
     "outputs": [
      {
       "output_type": "stream",
       "stream": "stdout",
       "text": [
        "9.999999694\n"
       ]
      }
     ],
     "prompt_number": 11
    },
    {
     "cell_type": "code",
     "collapsed": false,
     "input": [
      "#Proyecci\u00f3n\n",
      "Proyeccion, ax=plt.subplots(1, 2, figsize=(20, 10))\n",
      "ax[0].pcolor(xcoords,ycoords,mineral[0],vmin=0.,vmax=10.)\n",
      "ax[1].pcolor(xcoords,ycoords,mineralT[0],vmin=0.,vmax=10.)\n",
      "def animate(i):\n",
      "    global mineralT\n",
      "    ax[0].pcolor(xcoords,ycoords,mineral[1000*i],vmin=0.,vmax=10.)\n",
      "    ax[1].pcolor(xcoords,ycoords,mineralT[1000*i],vmin=0.,vmax=10.)\n",
      "    ax[0].set_title(\"Coeficiente constante\")\n",
      "    ax[1].set_title(\"Coeficiente variable\")\n",
      "    ax[0].text(-9, 9.5, \"Time = %s\" % (tmin + 1000*i*dt), color=\"white\")\n",
      "    ax[1].text(-9, 9.5, \"Time = %s\" % (tmin + 1000*i*dt), color=\"white\")\n",
      "    plt.hold(False)\n",
      "animacion = animation.FuncAnimation(Proyeccion, animate, np.arange(1,len(mineralT)/1000),interval=10**-1000, blit=False)\n",
      "plt.show()"
     ],
     "language": "python",
     "metadata": {},
     "outputs": [],
     "prompt_number": 13
    },
    {
     "cell_type": "code",
     "collapsed": false,
     "input": [
      "#Perfil\n",
      "Perfil, ax=plt.subplots(1, 2, figsize=(20, 10))\n",
      "plt.hold(False)\n",
      "def animate(i):\n",
      "    global mineral\n",
      "  \n",
      "    ax[0].scatter(xcoords,mineral[100*i, 50, :])\n",
      "    ax[1].scatter(xcoords,mineralT[100*i, 50, :])\n",
      "    ax[0].set_ylim(0,ymax+1)\n",
      "    ax[1].set_ylim(0,ymax+1)\n",
      "    ax[0].set_xlim(xmin, xmax)\n",
      "    ax[1].set_xlim(xmin, xmax)\n",
      "    ax[0].text(-9, 10.5, \"Time = %s\" % (tmin + 100*i*dt))\n",
      "    ax[1].text(-9, 10.5, \"Time = %s\" % (tmin + 100*i*dt))\n",
      "    ax[0].set_title(\"Coeficiente constante\")\n",
      "    ax[1].set_title(\"Coeficiente variable\")\n",
      "animacion = animation.FuncAnimation(Perfil, animate, np.arange(1,len(mineral)/100),interval=10**-100, blit=False)\n",
      "plt.show()\n",
      "plt.hold(False)"
     ],
     "language": "python",
     "metadata": {},
     "outputs": [],
     "prompt_number": 14
    },
    {
     "cell_type": "code",
     "collapsed": false,
     "input": [
      "#Cambio de la concentraci\u00f3n en el punto central para todos los tiempos t.\n",
      "cdet=mineral[:, 50, 50]\n",
      "cdet2=mineralT[:, 50, 50]\n",
      "lost=np.linspace(tmin, tmax, Nt)\n",
      "#Se calcula la derivada:\n",
      "numPoints=100\n",
      "a=tmin # L\u00edmite inferior\n",
      "b=tmax # L\u00edmite superior\n",
      "\n",
      "y=cdet # Las abscisas\n",
      "h = (b-a)/(numPoints-1) # Este es el paso del arreglo x\n",
      "yforward = np.roll(y,-1) # toma el arreglo y y lo mueve una posici\u00f3n hacia la izquierda\n",
      "ybackward = np.roll(y,1) # y esto una posici\u00f3n a la derecha\n",
      "# y finalmente usando diferencias centrales.\n",
      "derc = (yforward-ybackward)/(2.*h)\n",
      "# La primera y la \u00faltima no tienen significado\n",
      "derc=derc[1:-1]\n",
      "\n",
      "y=cdet2 # Las abscisas\n",
      "h = (b-a)/(numPoints-1) # Este es el paso del arreglo x\n",
      "yforward = np.roll(y,-1) # toma el arreglo y y lo mueve una posici\u00f3n hacia la izquierda\n",
      "ybackward = np.roll(y,1) # y esto una posici\u00f3n a la derecha\n",
      "# y finalmente usando diferencias centrales.\n",
      "derc2 = (yforward-ybackward)/(2.*h)\n",
      "# La primera y la \u00faltima no tienen significado\n",
      "derc2=derc2[1:-1]\n",
      "cambios, ax=plt.subplots(1, 2, figsize=(20, 10))\n",
      "plt.hold(True)\n",
      "ax[1].plot(lost[1:-1], derc2, label=\"Coeficiente variable\")\n",
      "ax[1].plot(lost[1:-1], derc, label=\"Coeficiente constante\")\n",
      "plt.hold(True)\n",
      "ax[0].plot(lost, cdet2, label=\"Coeficiente variable\")\n",
      "ax[0].plot(lost, cdet, label=\"Coeficiente constante\")\n",
      "ax[1].set_xlabel(\"$t$\", fontsize=15)\n",
      "ax[0].set_xlabel(\"$t$\", fontsize=15)\n",
      "ax[0].set_ylabel(\"$f(t, 0, 0)$\", fontsize=15)\n",
      "ax[1].set_ylabel(\"$v(t, 0, 0)$\", fontsize=15)\n",
      "ax[0].set_title(u\"Perfil de concentraci\u00f3n\", fontsize=15)\n",
      "ax[1].set_title(u\"Perfil de velocidad de\\n cambio de concentraci\u00f3n\", fontsize=15)\n",
      "ax[1].legend(loc=\"best\")\n",
      "ax[0].legend(loc=\"best\")\n",
      "plt.show(cambios)\n"
     ],
     "language": "python",
     "metadata": {},
     "outputs": [],
     "prompt_number": 31
    },
    {
     "cell_type": "markdown",
     "metadata": {},
     "source": [
      "Se ve que la velocidad en el caso de coeficiente variable es mucho mayor que la del coeficiente constante, sugiriendo que se llega al equilibrio mucho mas r\u00e1pido, como lo muestran las animaciones y el perfil de concentraciones.\n",
      "\n",
      "\n",
      "Dado el comportamiento asint\u00f3tico del acercamiento de la curva del perfil de concentraci\u00f3n al su valor final de 10, se tomar\u00e1 el valor de la concentraci\u00f3n en $(0, 0)$ obtenido en el \u00faltimo tiempo para el coeficiente constante como referencia para compararlo con el caso de coeficiente variable."
     ]
    },
    {
     "cell_type": "code",
     "collapsed": false,
     "input": [
      "refVal=np.round(mineral[-1, 50, 50], 4)\n",
      "epsilon=0.00001\n",
      "valVar=lost[(mineralT[:, 50, 50]>refVal-epsilon) & (mineralT[:, 50, 50]<refVal+epsilon)][0]\n",
      "print \"El tiempo en el que el m\u00e9todo de coeficiente variable llega a \\\n",
      "la soluci\u00f3n obtenida en t=1000 por el m\u00e9todo de coeficiente constante es de \", valVar\n",
      "\n"
     ],
     "language": "python",
     "metadata": {},
     "outputs": [
      {
       "output_type": "stream",
       "stream": "stdout",
       "text": [
        "El tiempo en el que el m\u00e9todo de coeficiente variable llega a la soluci\u00f3n obtenida en t=1000 por el m\u00e9todo de coeficiente constante es de  350.253502535\n"
       ]
      }
     ],
     "prompt_number": 75
    },
    {
     "cell_type": "markdown",
     "metadata": {},
     "source": [
      "## Conclusiones\n",
      "\n",
      "Se pretendi\u00f3 emular un par de situaciones, en las que un cristal mineral (que se tom\u00f3 bidimensional) estaba expuesto a distintas condiciones que causaban su alteraci\u00f3n. \n",
      "\n",
      "En la situaci\u00f3n en que se emul\u00f3 el metasomatismo las condiciones fueron de baja y constante temperatura, con concentraci\u00f3n inicial interior cero y exterior diez. Se observ\u00f3 que la movilidad de los iones fue lenta, requiriendo 1000 unidades de tiempo aproximadamente, para llegar al resultado de equilibrio. Lo anterior es de esperarse, dado que el metasomatismo es un proceso lento, mientras al metamorfismo logra fundir facilmente algunos cristales e iniciar un proceso denominado recristalizaci\u00f3n, que lleva a la formaci\u00f3n de nuevas rocas.\n",
      "\n",
      "Por otra parte se emul\u00f3 el metamorfismo, en el cual el mismo cristal mineral estaba en contacto no con un fluido tipo agua con iones disueltos (que causa metasomatismo) sino con un magma de distinta composici\u00f3n (pero con igual concentraci\u00f3n de elemento X para hacer los resultados comparables) de manera que fue necesario mirar la difusi\u00f3n del elemento X teniendo en cuenta la dependencia del coeficiente de difusi\u00f3n de la temperatura. Se obtiene un resultado bastante l\u00f3gico, dado que la temperatura contribuye en gran medida a la difusi\u00f3n de iones, propici\u00e1ndola  de manera que el cristal se ve totalmente alterado en un tiempo mucho menor, lo que da cabida a un intercambio total de elementos y a una fase de recristalizaci\u00f3n, dando paso a nuevos minerales y nuevas rocas.\n",
      "\n",
      "En cuanto a los modelos en s\u00ed, se encontraron varios problemas en cuanto a la convergencia de los mpetodos num\u00e9ricos y a la capacidad del programa y la m\u00e1quina de manejar la cantidad de datos. De lo anterior se desprende el hecho de no haber podido utilizar datos reales, dado que valores como la energ\u00eda de activaci\u00f3n del i\u00f3n a difundir, las medidas del cristal y las unidades de tiempo hubieran sido muy grandes o muy peque\u00f1as como para que se lograra calcular `np.exp(-Qt/R*T)` dado que en las unidades consistentes (micr\u00f3metros, a\u00f1os o miles de a\u00f1os) hubiera llevado a un 0. Se intent\u00f3 tambi\u00e9n utilizar el valor de $\\alpha$ correspondiente a la mica, pero era un valor muy peque\u00f1o y, ya habiendo modelado al anterior caso como se hizo, no era posible utilizarlo dado que no habr\u00eda mucha diferencia entre los dos modelos, dados los peque\u00f1os cambios de temperatura que generar\u00eda. Se di\u00f3 mas importancia a ver la diferencia entre ambas simulaciones y la importancia de la dependencia de la temperatura en procesos como \u00e9ste, por lo cual se buscaron valores arbitrarios, pero convenientes, que permitieran ver el fen\u00f3meno de la manera correcta y permitieran a\u00fan sacar conclusiones de \u00e9ste."
     ]
    },
    {
     "cell_type": "code",
     "collapsed": false,
     "input": [],
     "language": "python",
     "metadata": {},
     "outputs": []
    }
   ],
   "metadata": {}
  }
 ]
}