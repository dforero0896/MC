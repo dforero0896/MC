{
 "metadata": {
  "name": "",
  "signature": "sha256:3a7919f0fcee606512d8db8518181ae6305652a4ac0750ac1c9fc8ab3c0b5460"
 },
 "nbformat": 3,
 "nbformat_minor": 0,
 "worksheets": [
  {
   "cells": [
    {
     "cell_type": "code",
     "collapsed": false,
     "input": [
      "%pylab\n",
      "from matplotlib import animation\n",
      "from scipy.optimize import curve_fit"
     ],
     "language": "python",
     "metadata": {},
     "outputs": [
      {
       "output_type": "stream",
       "stream": "stdout",
       "text": [
        "Using matplotlib backend: Qt4Agg\n",
        "Populating the interactive namespace from numpy and matplotlib\n"
       ]
      }
     ],
     "prompt_number": 83
    },
    {
     "cell_type": "code",
     "collapsed": false,
     "input": [
      "data=genfromtxt(\"Rayleigh.csv\",delimiter=\",\")\n",
      "\n",
      "x=data[:,0]\n",
      "y=data[:,1]\n",
      "vx=data[:,2]\n",
      "vy=data[:,3]\n",
      "print x, y, vx, vy\n",
      "\n",
      "\n",
      "\n"
     ],
     "language": "python",
     "metadata": {},
     "outputs": [
      {
       "output_type": "stream",
       "stream": "stdout",
       "text": [
        "[-35.601966 -33.776224 -31.950483 ...,  34.200534  33.77183  -36.085946] [-35.601966 -35.601966 -35.601966 ...,  35.281403 -36.144943  34.649831] [-0.516736 -1.458269 -0.567062 ...,  0.612699 -1.335435 -0.874573] [-1.319366 -0.22155  -1.301344 ..., -0.373448 -0.491006  0.568588]\n"
       ]
      }
     ],
     "prompt_number": 84
    },
    {
     "cell_type": "code",
     "collapsed": false,
     "input": [
      "hist(vx[-1600:])\n",
      "hist(vy[-1600:])"
     ],
     "language": "python",
     "metadata": {},
     "outputs": [
      {
       "metadata": {},
       "output_type": "pyout",
       "prompt_number": 101,
       "text": [
        "(array([   4.,   24.,  104.,  240.,  299.,  343.,  272.,  197.,   88.,   29.]),\n",
        " array([-3.037068 , -2.4751042, -1.9131404, -1.3511766, -0.7892128,\n",
        "        -0.227249 ,  0.3347148,  0.8966786,  1.4586424,  2.0206062,  2.58257  ]),\n",
        " <a list of 10 Patch objects>)"
       ]
      }
     ],
     "prompt_number": 101
    },
    {
     "cell_type": "code",
     "collapsed": false,
     "input": [
      "spd=np.sqrt(vx**2 + vy**2)"
     ],
     "language": "python",
     "metadata": {},
     "outputs": [],
     "prompt_number": 85
    },
    {
     "cell_type": "code",
     "collapsed": false,
     "input": [
      "n, bins, histograma=hist(spd[-1600:], bins=20, normed=True)\n",
      "print len(n)\n",
      "print len(bins)\n"
     ],
     "language": "python",
     "metadata": {},
     "outputs": [
      {
       "output_type": "stream",
       "stream": "stdout",
       "text": [
        "20\n",
        "21\n"
       ]
      }
     ],
     "prompt_number": 86
    },
    {
     "cell_type": "code",
     "collapsed": false,
     "input": [
      "t=np.linspace(0, 4, 100)\n",
      "def distr(t, sigma):\n",
      "    return (t/sigma**2)*np.exp((-t**2)/(2*sigma**2))"
     ],
     "language": "python",
     "metadata": {},
     "outputs": [],
     "prompt_number": 87
    },
    {
     "cell_type": "code",
     "collapsed": false,
     "input": [
      "aa, bb =curve_fit(distr, bins[1:], n)"
     ],
     "language": "python",
     "metadata": {},
     "outputs": [],
     "prompt_number": 88
    },
    {
     "cell_type": "code",
     "collapsed": false,
     "input": [
      "print aa, bb"
     ],
     "language": "python",
     "metadata": {},
     "outputs": [
      {
       "output_type": "stream",
       "stream": "stdout",
       "text": [
        "[ 1.07991891] [[ 0.00133732]]\n"
       ]
      }
     ],
     "prompt_number": 89
    },
    {
     "cell_type": "code",
     "collapsed": false,
     "input": [
      "fig, ax=subplots(1, 1)\n",
      "ax.scatter(bins[1:], n)\n",
      "ax.hist(spd[-1600:], bins=20, normed=True)\n",
      "ax.plot(t, distr(t, aa[0]), lw=5)"
     ],
     "language": "python",
     "metadata": {},
     "outputs": [
      {
       "metadata": {},
       "output_type": "pyout",
       "prompt_number": 90,
       "text": [
        "[<matplotlib.lines.Line2D at 0x230c07b8>]"
       ]
      }
     ],
     "prompt_number": 90
    },
    {
     "cell_type": "code",
     "collapsed": false,
     "input": [
      "anim=figure()\n",
      "ax = anim.add_subplot(111, autoscale_on=False, xlim=(-41.5, 41.5), ylim=(-41.0, 41.0))\n",
      "ax.grid()\n",
      "line, = ax.plot([], [], 'o', lw=2)\n",
      "\n",
      "def animate(i):\n",
      "    thisx = x[(i-1)*1600:1600*i]\n",
      "    thisy = y[(i-1)*1600:1600*i]\n",
      "\n",
      "    line.set_data(thisx, thisy)\n",
      "    return line, time_text\n",
      "\n",
      "ani = animation.FuncAnimation(anim, animate, np.arange(1, len(t)),interval=25, blit=False)\n",
      "\n",
      "show()"
     ],
     "language": "python",
     "metadata": {},
     "outputs": [],
     "prompt_number": 102
    },
    {
     "cell_type": "markdown",
     "metadata": {},
     "source": [
      "#Introducci\u00f3n\n",
      "\n",
      "La distribuci\u00f3n de Rayleigh es una distribuci\u00f3n continua que se presenta cuando se tienen dos componentes ortigonales de velocidad con distribuciones normales y su norma o la rapidez tiene \u00e9sta distribuci\u00f3n.\n",
      "Se cree que un conjunto de part\u00edculas que interact\u00faan seg\u00fan el potencial de Lennard-Jones, al alcanzar el equilibrio, tienen rapideces que se distribuyen seg\u00fan la distribuci\u00f3n de Rayeigh. \n",
      "Seg\u00fan lo antes mencionado acerca de dicha distribuci\u00f3n, las velocidades en `x` y `y` en el equilibrio deben presentar una distribuci\u00f3n normal.\n",
      "\n",
      "\n"
     ]
    },
    {
     "cell_type": "code",
     "collapsed": false,
     "input": [],
     "language": "python",
     "metadata": {},
     "outputs": []
    }
   ],
   "metadata": {}
  }
 ]
}