{
 "metadata": {
  "name": "",
  "signature": "sha256:ba0805b8fbb793e14b6432eb9b519ad71c09953a986aacdd4711ec8b34ea8617"
 },
 "nbformat": 3,
 "nbformat_minor": 0,
 "worksheets": [
  {
   "cells": [
    {
     "cell_type": "code",
     "collapsed": false,
     "input": [
      "%pylab inline\n",
      "from matplotlib import animation\n",
      "from scipy.optimize import curve_fit"
     ],
     "language": "python",
     "metadata": {},
     "outputs": [
      {
       "output_type": "stream",
       "stream": "stdout",
       "text": [
        "Populating the interactive namespace from numpy and matplotlib\n"
       ]
      }
     ],
     "prompt_number": 138
    },
    {
     "cell_type": "code",
     "collapsed": false,
     "input": [
      "data=genfromtxt(\"Rayleigh.csv\",delimiter=\",\")\n",
      "\n",
      "x=data[:,0]\n",
      "y=data[:,1]\n",
      "vx=data[:,2]\n",
      "vy=data[:,3]\n",
      "print x, y, vx, vy\n",
      "\n",
      "\n",
      "\n"
     ],
     "language": "python",
     "metadata": {},
     "outputs": [
      {
       "output_type": "stream",
       "stream": "stdout",
       "text": [
        "[-35.601966 -33.776224 -31.950483 ...,  31.513451  34.004583  35.854383] [-35.601966 -35.601966 -35.601966 ...,  33.899085  32.883844  34.933465] [-0.516736 -1.458269 -0.567062 ..., -1.165457  0.513167 -1.447792] [-1.319366 -0.22155  -1.301344 ..., -0.809249  0.780147  0.953111]\n"
       ]
      }
     ],
     "prompt_number": 139
    },
    {
     "cell_type": "code",
     "collapsed": false,
     "input": [
      "spd=np.sqrt(vx**2 + vy**2)"
     ],
     "language": "python",
     "metadata": {},
     "outputs": [],
     "prompt_number": 140
    },
    {
     "cell_type": "code",
     "collapsed": false,
     "input": [
      "n, bins, histograma=hist(spd[-1600:], bins=20, normed=True)\n",
      "print len(n)\n",
      "print len(bins)\n"
     ],
     "language": "python",
     "metadata": {},
     "outputs": [
      {
       "output_type": "stream",
       "stream": "stdout",
       "text": [
        "20\n",
        "21\n"
       ]
      },
      {
       "metadata": {},
       "output_type": "display_data",
       "png": "[encoded data removed]",
       "text": [
        "<matplotlib.figure.Figure at 0x155d25f8>"
       ]
      }
     ],
     "prompt_number": 141
    },
    {
     "cell_type": "code",
     "collapsed": false,
     "input": [
      "t=np.linspace(0, 4, 100)\n",
      "def distr(t, sigma):\n",
      "    return (t/sigma**2)*np.exp((-t**2)/(2*sigma**2))"
     ],
     "language": "python",
     "metadata": {},
     "outputs": [],
     "prompt_number": 142
    },
    {
     "cell_type": "code",
     "collapsed": false,
     "input": [
      "aa, bb =curve_fit(distr, bins[1:], n)"
     ],
     "language": "python",
     "metadata": {},
     "outputs": [],
     "prompt_number": 143
    },
    {
     "cell_type": "code",
     "collapsed": false,
     "input": [
      "print aa, bb"
     ],
     "language": "python",
     "metadata": {},
     "outputs": [
      {
       "output_type": "stream",
       "stream": "stdout",
       "text": [
        "[ 1.03184055] [[ 0.00026104]]\n"
       ]
      }
     ],
     "prompt_number": 144
    },
    {
     "cell_type": "markdown",
     "metadata": {},
     "source": [
      "#Introducci\u00f3n\n",
      "\n",
      "La distribuci\u00f3n de Rayleigh es una distribuci\u00f3n continua que se presenta cuando se tienen dos componentes ortigonales de velocidad con distribuciones normales y su norma o la rapidez tiene \u00e9sta distribuci\u00f3n.\n",
      "Se cree que un conjunto de part\u00edculas que interact\u00faan seg\u00fan el potencial de Lennard-Jones, al alcanzar el equilibrio, tienen rapideces que se distribuyen seg\u00fan la distribuci\u00f3n de Rayeigh. \n",
      "Seg\u00fan lo antes mencionado acerca de dicha distribuci\u00f3n, las velocidades en `x` y `y` en el equilibrio deben presentar una distribuci\u00f3n normal.\n",
      "\n",
      "#An\u00e1lisis de datos\n",
      "\n",
      "En la figura n\u00famero 1, se ven las distribuciones  de las distintas componentes de velocidad. Se ve que, tras evolucionar el sistema lo suficiente, dichas distribuciones son normales. A la izquierda la distribuci\u00f3n de las velocidades en x y a la derecha en y.\n",
      "Al hacer la distrribuci\u00f3n de las rapideces se obtiene la figura 2, donde se ve que el ajuste es muy similar a una distribuci\u00f3n de Rayleigh, lo que va acorde a nuestra hip\u00f3tesis.\n",
      "Finalmente se realiz\u00f3 una animaci\u00f3n que muestra la evoluci\u00f3n del sistema con 1500 iteraciones.\n"
     ]
    },
    {
     "cell_type": "code",
     "collapsed": false,
     "input": [
      "Figura1, axes=subplots(1, 2, figsize=(10, 7))\n",
      "axes[0].hist(vx[-1600:])\n",
      "#axes[0].set_t(\"Distribuci\u00f3n de velocidades en $x$\")\n",
      "axes[1].hist(vy[-1600:])"
     ],
     "language": "python",
     "metadata": {},
     "outputs": [
      {
       "metadata": {},
       "output_type": "pyout",
       "prompt_number": 145,
       "text": [
        "(array([   8.,   54.,  148.,  274.,  379.,  363.,  228.,  105.,   34.,    7.]),\n",
        " array([-2.92838  , -2.3230909, -1.7178018, -1.1125127, -0.5072236,\n",
        "         0.0980655,  0.7033546,  1.3086437,  1.9139328,  2.5192219,\n",
        "         3.124511 ]),\n",
        " <a list of 10 Patch objects>)"
       ]
      },
      {
       "metadata": {},
       "output_type": "display_data",
       "png": "[encoded data removed]",
       "text": [
        "<matplotlib.figure.Figure at 0x41329b00>"
       ]
      }
     ],
     "prompt_number": 145
    },
    {
     "cell_type": "code",
     "collapsed": false,
     "input": [
      "Figura2, ax=subplots(1, 1)\n",
      "ax.scatter(bins[1:], n)\n",
      "ax.hist(spd[-1600:], bins=20, normed=True)\n",
      "ax.plot(t, distr(t, aa[0]), lw=5)\n"
     ],
     "language": "python",
     "metadata": {},
     "outputs": [
      {
       "metadata": {},
       "output_type": "pyout",
       "prompt_number": 146,
       "text": [
        "[<matplotlib.lines.Line2D at 0x20aabef0>]"
       ]
      },
      {
       "metadata": {},
       "output_type": "display_data",
       "png": "[encoded data removed]",
       "text": [
        "<matplotlib.figure.Figure at 0x418b3208>"
       ]
      }
     ],
     "prompt_number": 146
    },
    {
     "cell_type": "code",
     "collapsed": false,
     "input": [
      "%pylab\n",
      "\n",
      "anim=figure()\n",
      "ax = anim.add_subplot(111, autoscale_on=False, xlim=(-41.5, 41.5), ylim=(-41.0, 41.0))\n",
      "ax.grid()\n",
      "line, = ax.plot([], [], 'o', lw=2)\n",
      "\n",
      "def animate(i):\n",
      "    thisx = x[(i-1)*1600:1600*i]\n",
      "    thisy = y[(i-1)*1600:1600*i]\n",
      "\n",
      "    line.set_data(thisx, thisy)\n",
      "    return line, time_text\n",
      "\n",
      "ani = animation.FuncAnimation(anim, animate, np.arange(1, len(t)),interval=25, blit=False)\n",
      "\n",
      "show()"
     ],
     "language": "python",
     "metadata": {},
     "outputs": [
      {
       "output_type": "stream",
       "stream": "stdout",
       "text": [
        "Using matplotlib backend: Qt4Agg\n",
        "Populating the interactive namespace from numpy and matplotlib\n"
       ]
      },
      {
       "output_type": "stream",
       "stream": "stderr",
       "text": [
        "WARNING: pylab import has clobbered these variables: ['axes']\n",
        "`%matplotlib` prevents importing * from pylab and numpy\n"
       ]
      }
     ],
     "prompt_number": 147
    },
    {
     "cell_type": "markdown",
     "metadata": {},
     "source": [
      "#Conclusiones\n",
      "\n",
      "+ Se puede concluir que, gracias al modelo utilizado de interacci\u00f3n de Lennard-Jones, se logr\u00f3 satisfactoriamente estudiar la evoluci\u00f3n de un sistema teniendo en cuenta las posiciones y velocidades de las part\u00edculas en 1500 instantes distintos.\n",
      "+ Adem\u00e1s se logr\u00f3 estudiar la distribuci\u00f3n de Rayleigh de manera que se comprob\u00f3 que tanto las componentes de velocidad, como la rapidez tienen una distribuci\u00f3n definida, siendo \u00e9sta normal para las componentes y, por ende, de Rayleigh para la rapidez.\n",
      "+ Finalmente se puede concluir que la animaci\u00f3n pudo mostrar satisfactoriamente la evoluci\u00f3n del sistema, de manera que se logr\u00f3 ver de mejor manera el movimiento de las part\u00edculas, lo que puede llevar a una mejor comprensi\u00f3n de la interacci\u00f3n de Lennard-Jones."
     ]
    },
    {
     "cell_type": "code",
     "collapsed": false,
     "input": [],
     "language": "python",
     "metadata": {},
     "outputs": [],
     "prompt_number": 147
    }
   ],
   "metadata": {}
  }
 ]
}