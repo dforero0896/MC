{
 "metadata": {
  "name": "",
  "signature": "sha256:0291a75c619cc9bc3569896d5ffc0bc1200c6d9019254a7b2e07734c732606b2"
 },
 "nbformat": 3,
 "nbformat_minor": 0,
 "worksheets": [
  {
   "cells": [
    {
     "cell_type": "code",
     "collapsed": false,
     "input": [
      "%pylab inline\n",
      "from matplotlib import animation\n",
      "from scipy.optimize import curve_fit"
     ],
     "language": "python",
     "metadata": {},
     "outputs": [
      {
       "output_type": "stream",
       "stream": "stdout",
       "text": [
        "Populating the interactive namespace from numpy and matplotlib\n"
       ]
      }
     ],
<<<<<<< HEAD
     "prompt_number": 149
=======
     "prompt_number": 1
>>>>>>> c5e4799934e8aab55d4c1c0ff135a7bb92397ab2
    },
    {
     "cell_type": "code",
     "collapsed": false,
     "input": [
      "data=genfromtxt(\"Rayleigh.csv\",delimiter=\",\")\n",
      "\n",
      "x=data[:,0]\n",
      "y=data[:,1]\n",
      "vx=data[:,2]\n",
      "vy=data[:,3]\n",
      "print x, y, vx, vy\n",
      "\n",
      "\n",
      "\n"
     ],
     "language": "python",
     "metadata": {},
     "outputs": [
      {
       "output_type": "stream",
       "stream": "stdout",
       "text": [
        "[-35.601966 -33.776224 -31.950483 ...,  31.513451  34.004583  35.854383] [-35.601966 -35.601966 -35.601966 ...,  33.899085  32.883844  34.933465] [-0.516736 -1.458269 -0.567062 ..., -1.165457  0.513167 -1.447792] [-1.319366 -0.22155  -1.301344 ..., -0.809249  0.780147  0.953111]\n"
       ]
      }
     ],
<<<<<<< HEAD
     "prompt_number": 150
=======
     "prompt_number": 2
>>>>>>> c5e4799934e8aab55d4c1c0ff135a7bb92397ab2
    },
    {
     "cell_type": "code",
     "collapsed": false,
     "input": [
      "spd=np.sqrt(vx**2 + vy**2)"
     ],
     "language": "python",
     "metadata": {},
     "outputs": [],
<<<<<<< HEAD
     "prompt_number": 151
=======
     "prompt_number": 3
>>>>>>> c5e4799934e8aab55d4c1c0ff135a7bb92397ab2
    },
    {
     "cell_type": "code",
     "collapsed": false,
     "input": [
      "n, bins, histograma=hist(spd[-1600:], bins=20, normed=True)\n",
      "print len(n)\n",
      "print len(bins)\n"
     ],
     "language": "python",
     "metadata": {},
     "outputs": [
      {
       "output_type": "stream",
       "stream": "stdout",
       "text": [
        "20\n",
        "21\n"
       ]
      },
      {
       "metadata": {},
       "output_type": "display_data",
       "png": "iVBORw0KGgoAAAANSUhEUgAAAXcAAAEACAYAAABI5zaHAAAABHNCSVQICAgIfAhkiAAAAAlwSFlz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\nRLgDgIH+D3Z8lO8VpcNrAAAAAElFTkSuQmCC\n",
       "text": [
<<<<<<< HEAD
        "<matplotlib.figure.Figure at 0x26209be0>"
       ]
      }
     ],
     "prompt_number": 152
=======
        "<matplotlib.figure.Figure at 0x27c9090>"
       ]
      }
     ],
     "prompt_number": 4
>>>>>>> c5e4799934e8aab55d4c1c0ff135a7bb92397ab2
    },
    {
     "cell_type": "code",
     "collapsed": false,
     "input": [
      "t=np.linspace(0, 4, 100)\n",
      "def distr(t, sigma):\n",
      "    return (t/sigma**2)*np.exp((-t**2)/(2*sigma**2))"
     ],
     "language": "python",
     "metadata": {},
     "outputs": [],
<<<<<<< HEAD
     "prompt_number": 153
=======
     "prompt_number": 5
>>>>>>> c5e4799934e8aab55d4c1c0ff135a7bb92397ab2
    },
    {
     "cell_type": "code",
     "collapsed": false,
     "input": [
      "aa, bb =curve_fit(distr, bins[1:], n)"
     ],
     "language": "python",
     "metadata": {},
     "outputs": [],
<<<<<<< HEAD
     "prompt_number": 154
=======
     "prompt_number": 6
>>>>>>> c5e4799934e8aab55d4c1c0ff135a7bb92397ab2
    },
    {
     "cell_type": "code",
     "collapsed": false,
     "input": [
      "print aa, bb"
     ],
     "language": "python",
     "metadata": {},
     "outputs": [
      {
       "output_type": "stream",
       "stream": "stdout",
       "text": [
        "[ 1.03184055] [[ 0.00026104]]\n"
       ]
      }
     ],
<<<<<<< HEAD
     "prompt_number": 155
=======
     "prompt_number": 7
>>>>>>> c5e4799934e8aab55d4c1c0ff135a7bb92397ab2
    },
    {
     "cell_type": "markdown",
     "metadata": {},
     "source": [
      "#Introducci\u00f3n\n",
      "\n",
      "La distribuci\u00f3n de Rayleigh es una distribuci\u00f3n continua que se presenta cuando se tienen dos componentes ortigonales de velocidad con distribuciones normales y su norma o la rapidez tiene \u00e9sta distribuci\u00f3n.\n",
      "Se cree que un conjunto de part\u00edculas que interact\u00faan seg\u00fan el potencial de Lennard-Jones, al alcanzar el equilibrio, tienen rapideces que se distribuyen seg\u00fan la distribuci\u00f3n de Rayeigh. \n",
      "Seg\u00fan lo antes mencionado acerca de dicha distribuci\u00f3n, las velocidades en `x` y `y` en el equilibrio deben presentar una distribuci\u00f3n normal.\n",
      "\n",
      "#An\u00e1lisis de datos\n",
      "\n",
      "En la figura n\u00famero 1, se ven las distribuciones  de las distintas componentes de velocidad. Se ve que, tras evolucionar el sistema lo suficiente, dichas distribuciones son normales. A la izquierda la distribuci\u00f3n de las velocidades en x y a la derecha en y.\n",
      "Al hacer la distrribuci\u00f3n de las rapideces se obtiene la figura 2, donde se ve que el ajuste es muy similar a una distribuci\u00f3n de Rayleigh, lo que va acorde a nuestra hip\u00f3tesis.\n",
      "Finalmente se realiz\u00f3 una animaci\u00f3n que muestra la evoluci\u00f3n del sistema con 1500 iteraciones.\n"
     ]
    },
    {
     "cell_type": "code",
     "collapsed": false,
     "input": [
      "Figura1, axes=subplots(1, 2, figsize=(10, 7))\n",
      "axes[0].hist(vx[-1600:])\n",
      "#axes[0].set_t(\"Distribuci\u00f3n de velocidades en $x$\")\n",
      "axes[1].hist(vy[-1600:])"
     ],
     "language": "python",
     "metadata": {},
     "outputs": [
      {
       "metadata": {},
       "output_type": "pyout",
<<<<<<< HEAD
       "prompt_number": 156,
=======
       "prompt_number": 8,
>>>>>>> c5e4799934e8aab55d4c1c0ff135a7bb92397ab2
       "text": [
        "(array([   8.,   54.,  148.,  274.,  379.,  363.,  228.,  105.,   34.,    7.]),\n",
        " array([-2.92838  , -2.3230909, -1.7178018, -1.1125127, -0.5072236,\n",
        "        0.0980655,  0.7033546,  1.3086437,  1.9139328,  2.5192219,\n",
        "        3.124511 ]),\n",
        " <a list of 10 Patch objects>)"
       ]
      },
      {
       "metadata": {},
       "output_type": "display_data",
       "png": "iVBORw0KGgoAAAANSUhEUgAAAlQAAAGnCAYAAABxdskDAAAABHNCSVQICAgIfAhkiAAAAAlwSFlz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\neUdVX9GB9aMAAAAASUVORK5CYII=\n",
       "text": [
<<<<<<< HEAD
        "<matplotlib.figure.Figure at 0x1ed2af28>"
       ]
      }
     ],
     "prompt_number": 156
=======
        "<matplotlib.figure.Figure at 0x18472810>"
       ]
      }
     ],
     "prompt_number": 8
>>>>>>> c5e4799934e8aab55d4c1c0ff135a7bb92397ab2
    },
    {
     "cell_type": "code",
     "collapsed": false,
     "input": [
      "Figura2, ax=subplots(1, 1)\n",
      "ax.scatter(bins[1:], n)\n",
      "ax.hist(spd[-1600:], bins=20, normed=True)\n",
      "ax.plot(t, distr(t, aa[0]), lw=5)\n"
     ],
     "language": "python",
     "metadata": {},
     "outputs": [
      {
       "metadata": {},
       "output_type": "pyout",
<<<<<<< HEAD
       "prompt_number": 157,
       "text": [
        "[<matplotlib.lines.Line2D at 0x3e6814a8>]"
=======
       "prompt_number": 9,
       "text": [
        "[<matplotlib.lines.Line2D at 0x1bac0750>]"
>>>>>>> c5e4799934e8aab55d4c1c0ff135a7bb92397ab2
       ]
      },
      {
       "metadata": {},
       "output_type": "display_data",
       "png": "iVBORw0KGgoAAAANSUhEUgAAAXkAAAEACAYAAABWLgY0AAAABHNCSVQICAgIfAhkiAAAAAlwSFlz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\nTkSuQmCC\n",
       "text": [
<<<<<<< HEAD
        "<matplotlib.figure.Figure at 0x24b91b38>"
       ]
      }
     ],
     "prompt_number": 157
=======
        "<matplotlib.figure.Figure at 0x1846afd0>"
       ]
      }
     ],
     "prompt_number": 9
>>>>>>> c5e4799934e8aab55d4c1c0ff135a7bb92397ab2
    },
    {
     "cell_type": "code",
     "collapsed": false,
     "input": [
      "%pylab\n",
      "\n",
      "anim=figure()\n",
      "ax = anim.add_subplot(111, autoscale_on=False, xlim=(-41.5, 41.5), ylim=(-41.0, 41.0))\n",
      "ax.grid()\n",
      "line, = ax.plot([], [], 'o', lw=2)\n",
      "\n",
      "def animate(i):\n",
      "    thisx = x[(i-1)*1600:1600*i]\n",
      "    thisy = y[(i-1)*1600:1600*i]\n",
      "\n",
      "    line.set_data(thisx, thisy)\n",
      "    return line, time_text\n",
      "\n",
      "ani = animation.FuncAnimation(anim, animate, np.arange(1, len(t)),interval=25, blit=False)\n",
      "\n",
      "show()"
     ],
     "language": "python",
     "metadata": {},
     "outputs": [
      {
       "ename": "NameError",
       "evalue": "global name 'time_text' is not defined",
       "output_type": "pyerr",
       "traceback": [
        "\u001b[1;31m---------------------------------------------------------------------------\u001b[0m\n\u001b[1;31mNameError\u001b[0m                                 Traceback (most recent call last)",
        "\u001b[1;32m<ipython-input-11-98ff1e3c983f>\u001b[0m in \u001b[0;36m<module>\u001b[1;34m()\u001b[0m\n\u001b[0;32m     13\u001b[0m     \u001b[1;32mreturn\u001b[0m \u001b[0mline\u001b[0m\u001b[1;33m,\u001b[0m \u001b[0mtime_text\u001b[0m\u001b[1;33m\u001b[0m\u001b[0m\n\u001b[0;32m     14\u001b[0m \u001b[1;33m\u001b[0m\u001b[0m\n\u001b[1;32m---> 15\u001b[1;33m \u001b[0mani\u001b[0m \u001b[1;33m=\u001b[0m \u001b[0manimation\u001b[0m\u001b[1;33m.\u001b[0m\u001b[0mFuncAnimation\u001b[0m\u001b[1;33m(\u001b[0m\u001b[0manim\u001b[0m\u001b[1;33m,\u001b[0m \u001b[0manimate\u001b[0m\u001b[1;33m,\u001b[0m \u001b[0mnp\u001b[0m\u001b[1;33m.\u001b[0m\u001b[0marange\u001b[0m\u001b[1;33m(\u001b[0m\u001b[1;36m1\u001b[0m\u001b[1;33m,\u001b[0m \u001b[0mlen\u001b[0m\u001b[1;33m(\u001b[0m\u001b[0mt\u001b[0m\u001b[1;33m)\u001b[0m\u001b[1;33m)\u001b[0m\u001b[1;33m,\u001b[0m\u001b[0minterval\u001b[0m\u001b[1;33m=\u001b[0m\u001b[1;36m25\u001b[0m\u001b[1;33m,\u001b[0m \u001b[0mblit\u001b[0m\u001b[1;33m=\u001b[0m\u001b[0mFalse\u001b[0m\u001b[1;33m)\u001b[0m\u001b[1;33m\u001b[0m\u001b[0m\n\u001b[0m\u001b[0;32m     16\u001b[0m \u001b[1;33m\u001b[0m\u001b[0m\n\u001b[0;32m     17\u001b[0m \u001b[0mshow\u001b[0m\u001b[1;33m(\u001b[0m\u001b[1;33m)\u001b[0m\u001b[1;33m\u001b[0m\u001b[0m\n",
        "\u001b[1;32m/usr/lib64/python2.7/site-packages/matplotlib/animation.pyc\u001b[0m in \u001b[0;36m__init__\u001b[1;34m(self, fig, func, frames, init_func, fargs, save_count, **kwargs)\u001b[0m\n\u001b[0;32m   1008\u001b[0m         \u001b[0mself\u001b[0m\u001b[1;33m.\u001b[0m\u001b[0m_save_seq\u001b[0m \u001b[1;33m=\u001b[0m \u001b[1;33m[\u001b[0m\u001b[1;33m]\u001b[0m\u001b[1;33m\u001b[0m\u001b[0m\n\u001b[0;32m   1009\u001b[0m \u001b[1;33m\u001b[0m\u001b[0m\n\u001b[1;32m-> 1010\u001b[1;33m         \u001b[0mTimedAnimation\u001b[0m\u001b[1;33m.\u001b[0m\u001b[0m__init__\u001b[0m\u001b[1;33m(\u001b[0m\u001b[0mself\u001b[0m\u001b[1;33m,\u001b[0m \u001b[0mfig\u001b[0m\u001b[1;33m,\u001b[0m \u001b[1;33m**\u001b[0m\u001b[0mkwargs\u001b[0m\u001b[1;33m)\u001b[0m\u001b[1;33m\u001b[0m\u001b[0m\n\u001b[0m\u001b[0;32m   1011\u001b[0m \u001b[1;33m\u001b[0m\u001b[0m\n\u001b[0;32m   1012\u001b[0m         \u001b[1;31m# Need to reset the saved seq, since right now it will contain data\u001b[0m\u001b[1;33m\u001b[0m\u001b[1;33m\u001b[0m\u001b[0m\n",
        "\u001b[1;32m/usr/lib64/python2.7/site-packages/matplotlib/animation.pyc\u001b[0m in \u001b[0;36m__init__\u001b[1;34m(self, fig, interval, repeat_delay, repeat, event_source, *args, **kwargs)\u001b[0m\n\u001b[0;32m    862\u001b[0m \u001b[1;33m\u001b[0m\u001b[0m\n\u001b[0;32m    863\u001b[0m         Animation.__init__(self, fig, event_source=event_source,\n\u001b[1;32m--> 864\u001b[1;33m                            *args, **kwargs)\n\u001b[0m\u001b[0;32m    865\u001b[0m \u001b[1;33m\u001b[0m\u001b[0m\n\u001b[0;32m    866\u001b[0m     \u001b[1;32mdef\u001b[0m \u001b[0m_step\u001b[0m\u001b[1;33m(\u001b[0m\u001b[0mself\u001b[0m\u001b[1;33m,\u001b[0m \u001b[1;33m*\u001b[0m\u001b[0margs\u001b[0m\u001b[1;33m)\u001b[0m\u001b[1;33m:\u001b[0m\u001b[1;33m\u001b[0m\u001b[0m\n",
        "\u001b[1;32m/usr/lib64/python2.7/site-packages/matplotlib/animation.pyc\u001b[0m in \u001b[0;36m__init__\u001b[1;34m(self, fig, event_source, blit)\u001b[0m\n\u001b[0;32m    543\u001b[0m \u001b[1;33m\u001b[0m\u001b[0m\n\u001b[0;32m    544\u001b[0m         \u001b[1;31m# Clear the initial frame\u001b[0m\u001b[1;33m\u001b[0m\u001b[1;33m\u001b[0m\u001b[0m\n\u001b[1;32m--> 545\u001b[1;33m         \u001b[0mself\u001b[0m\u001b[1;33m.\u001b[0m\u001b[0m_init_draw\u001b[0m\u001b[1;33m(\u001b[0m\u001b[1;33m)\u001b[0m\u001b[1;33m\u001b[0m\u001b[0m\n\u001b[0m\u001b[0;32m    546\u001b[0m \u001b[1;33m\u001b[0m\u001b[0m\n\u001b[0;32m    547\u001b[0m         \u001b[1;31m# Instead of starting the event source now, we connect to the figure's\u001b[0m\u001b[1;33m\u001b[0m\u001b[1;33m\u001b[0m\u001b[0m\n",
        "\u001b[1;32m/usr/lib64/python2.7/site-packages/matplotlib/animation.pyc\u001b[0m in \u001b[0;36m_init_draw\u001b[1;34m(self)\u001b[0m\n\u001b[0;32m   1033\u001b[0m         \u001b[1;31m# artists.\u001b[0m\u001b[1;33m\u001b[0m\u001b[1;33m\u001b[0m\u001b[0m\n\u001b[0;32m   1034\u001b[0m         \u001b[1;32mif\u001b[0m \u001b[0mself\u001b[0m\u001b[1;33m.\u001b[0m\u001b[0m_init_func\u001b[0m \u001b[1;32mis\u001b[0m \u001b[0mNone\u001b[0m\u001b[1;33m:\u001b[0m\u001b[1;33m\u001b[0m\u001b[0m\n\u001b[1;32m-> 1035\u001b[1;33m             \u001b[0mself\u001b[0m\u001b[1;33m.\u001b[0m\u001b[0m_draw_frame\u001b[0m\u001b[1;33m(\u001b[0m\u001b[0mnext\u001b[0m\u001b[1;33m(\u001b[0m\u001b[0mself\u001b[0m\u001b[1;33m.\u001b[0m\u001b[0mnew_frame_seq\u001b[0m\u001b[1;33m(\u001b[0m\u001b[1;33m)\u001b[0m\u001b[1;33m)\u001b[0m\u001b[1;33m)\u001b[0m\u001b[1;33m\u001b[0m\u001b[0m\n\u001b[0m\u001b[0;32m   1036\u001b[0m         \u001b[1;32melse\u001b[0m\u001b[1;33m:\u001b[0m\u001b[1;33m\u001b[0m\u001b[0m\n\u001b[0;32m   1037\u001b[0m             \u001b[0mself\u001b[0m\u001b[1;33m.\u001b[0m\u001b[0m_drawn_artists\u001b[0m \u001b[1;33m=\u001b[0m \u001b[0mself\u001b[0m\u001b[1;33m.\u001b[0m\u001b[0m_init_func\u001b[0m\u001b[1;33m(\u001b[0m\u001b[1;33m)\u001b[0m\u001b[1;33m\u001b[0m\u001b[0m\n",
        "\u001b[1;32m/usr/lib64/python2.7/site-packages/matplotlib/animation.pyc\u001b[0m in \u001b[0;36m_draw_frame\u001b[1;34m(self, framedata)\u001b[0m\n\u001b[0;32m   1047\u001b[0m         \u001b[1;31m# Call the func with framedata and args. If blitting is desired,\u001b[0m\u001b[1;33m\u001b[0m\u001b[1;33m\u001b[0m\u001b[0m\n\u001b[0;32m   1048\u001b[0m         \u001b[1;31m# func needs to return a sequence of any artists that were modified.\u001b[0m\u001b[1;33m\u001b[0m\u001b[1;33m\u001b[0m\u001b[0m\n\u001b[1;32m-> 1049\u001b[1;33m         \u001b[0mself\u001b[0m\u001b[1;33m.\u001b[0m\u001b[0m_drawn_artists\u001b[0m \u001b[1;33m=\u001b[0m \u001b[0mself\u001b[0m\u001b[1;33m.\u001b[0m\u001b[0m_func\u001b[0m\u001b[1;33m(\u001b[0m\u001b[0mframedata\u001b[0m\u001b[1;33m,\u001b[0m \u001b[1;33m*\u001b[0m\u001b[0mself\u001b[0m\u001b[1;33m.\u001b[0m\u001b[0m_args\u001b[0m\u001b[1;33m)\u001b[0m\u001b[1;33m\u001b[0m\u001b[0m\n\u001b[0m",
        "\u001b[1;32m<ipython-input-11-98ff1e3c983f>\u001b[0m in \u001b[0;36manimate\u001b[1;34m(i)\u001b[0m\n\u001b[0;32m     11\u001b[0m \u001b[1;33m\u001b[0m\u001b[0m\n\u001b[0;32m     12\u001b[0m     \u001b[0mline\u001b[0m\u001b[1;33m.\u001b[0m\u001b[0mset_data\u001b[0m\u001b[1;33m(\u001b[0m\u001b[0mthisx\u001b[0m\u001b[1;33m,\u001b[0m \u001b[0mthisy\u001b[0m\u001b[1;33m)\u001b[0m\u001b[1;33m\u001b[0m\u001b[0m\n\u001b[1;32m---> 13\u001b[1;33m     \u001b[1;32mreturn\u001b[0m \u001b[0mline\u001b[0m\u001b[1;33m,\u001b[0m \u001b[0mtime_text\u001b[0m\u001b[1;33m\u001b[0m\u001b[0m\n\u001b[0m\u001b[0;32m     14\u001b[0m \u001b[1;33m\u001b[0m\u001b[0m\n\u001b[0;32m     15\u001b[0m \u001b[0mani\u001b[0m \u001b[1;33m=\u001b[0m \u001b[0manimation\u001b[0m\u001b[1;33m.\u001b[0m\u001b[0mFuncAnimation\u001b[0m\u001b[1;33m(\u001b[0m\u001b[0manim\u001b[0m\u001b[1;33m,\u001b[0m \u001b[0manimate\u001b[0m\u001b[1;33m,\u001b[0m \u001b[0mnp\u001b[0m\u001b[1;33m.\u001b[0m\u001b[0marange\u001b[0m\u001b[1;33m(\u001b[0m\u001b[1;36m1\u001b[0m\u001b[1;33m,\u001b[0m \u001b[0mlen\u001b[0m\u001b[1;33m(\u001b[0m\u001b[0mt\u001b[0m\u001b[1;33m)\u001b[0m\u001b[1;33m)\u001b[0m\u001b[1;33m,\u001b[0m\u001b[0minterval\u001b[0m\u001b[1;33m=\u001b[0m\u001b[1;36m25\u001b[0m\u001b[1;33m,\u001b[0m \u001b[0mblit\u001b[0m\u001b[1;33m=\u001b[0m\u001b[0mFalse\u001b[0m\u001b[1;33m)\u001b[0m\u001b[1;33m\u001b[0m\u001b[0m\n",
        "\u001b[1;31mNameError\u001b[0m: global name 'time_text' is not defined"
       ]
      },
      {
       "output_type": "stream",
       "stream": "stdout",
       "text": [
        "Using matplotlib backend: module://IPython.kernel.zmq.pylab.backend_inline\n",
        "Populating the interactive namespace from numpy and matplotlib\n"
       ]
<<<<<<< HEAD
      }
     ],
     "prompt_number": 159
=======
      },
      {
       "metadata": {},
       "output_type": "display_data",
       "png": "iVBORw0KGgoAAAANSUhEUgAAAXQAAAD9CAYAAACsq4z3AAAABHNCSVQICAgIfAhkiAAAAAlwSFlz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\nYII=\n",
       "text": [
        "<matplotlib.figure.Figure at 0x1bad7f90>"
       ]
      }
     ],
     "prompt_number": 11
>>>>>>> c5e4799934e8aab55d4c1c0ff135a7bb92397ab2
    },
    {
     "cell_type": "markdown",
     "metadata": {},
     "source": [
      "#Conclusiones\n",
      "\n",
      "+ Se puede concluir que, gracias al modelo utilizado de interacci\u00f3n de Lennard-Jones, se logr\u00f3 satisfactoriamente estudiar la evoluci\u00f3n de un sistema teniendo en cuenta las posiciones y velocidades de las part\u00edculas en 1500 instantes distintos.\n",
      "+ Adem\u00e1s se logr\u00f3 estudiar la distribuci\u00f3n de Rayleigh de manera que se comprob\u00f3 que tanto las componentes de velocidad, como la rapidez tienen una distribuci\u00f3n definida, siendo \u00e9sta normal para las componentes y, por ende, de Rayleigh para la rapidez.\n",
      "+ Finalmente se puede concluir que la animaci\u00f3n pudo mostrar satisfactoriamente la evoluci\u00f3n del sistema, de manera que se logr\u00f3 ver de mejor manera el movimiento de las part\u00edculas, lo que puede llevar a una mejor comprensi\u00f3n de la interacci\u00f3n de Lennard-Jones."
     ]
    },
    {
     "cell_type": "code",
     "collapsed": false,
     "input": [],
     "language": "python",
     "metadata": {},
<<<<<<< HEAD
     "outputs": [],
     "prompt_number": 158
=======
     "outputs": []
>>>>>>> c5e4799934e8aab55d4c1c0ff135a7bb92397ab2
    },
    {
     "cell_type": "code",
     "collapsed": false,
     "input": [],
     "language": "python",
     "metadata": {},
     "outputs": []
    }
   ],
   "metadata": {}
  }
 ]
}